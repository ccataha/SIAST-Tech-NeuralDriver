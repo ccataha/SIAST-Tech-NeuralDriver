{
  "cells": [
    {
      "cell_type": "markdown",
      "metadata": {
        "id": "iLDYX7f3R8PM"
      },
      "source": [
        "# 1. Импорт модулей."
      ]
    },
    {
      "cell_type": "code",
      "execution_count": null,
      "metadata": {
        "id": "MSu0tV9mMFDK"
      },
      "outputs": [],
      "source": [
        "from google.colab import drive\n",
        "from tensorflow.keras.layers import *\n",
        "from tensorflow.keras.metrics import *\n",
        "from tensorflow.keras.models import Sequential, Model\n",
        "import numpy as np\n",
        "import pandas as pd\n",
        "import os\n",
        "import tensorflow.keras.backend as K\n",
        "from sklearn.metrics import *\n",
        "from tensorflow.keras.utils import to_categorical\n",
        "import tensorflow as tf\n",
        "from tensorflow.keras.layers.experimental import preprocessing\n",
        "from sklearn.preprocessing import MinMaxScaler\n",
        "import pickle\n",
        "import seaborn as sns\n",
        "from matplotlib import pyplot as plt \n",
        "from sklearn.feature_selection import SelectKBest\n",
        "from sklearn.feature_selection import f_classif\n",
        "from sklearn.model_selection import train_test_split\n",
        "from sklearn import metrics\n",
        "from sklearn.metrics import classification_report\n",
        "from tensorflow.keras.models import load_model"
      ]
    },
    {
      "cell_type": "code",
      "execution_count": null,
      "metadata": {
        "colab": {
          "base_uri": "https://localhost:8080/"
        },
        "id": "9vkpG3tofUp5",
        "outputId": "03267c01-7aad-4f49-b4d9-a5b8df99d074"
      },
      "outputs": [
        {
          "output_type": "stream",
          "name": "stdout",
          "text": [
            "Mounted at /content/drive\n"
          ]
        }
      ],
      "source": [
        "drive.mount('/content/drive')"
      ]
    },
    {
      "cell_type": "markdown",
      "metadata": {
        "id": "XNvYteblMh50"
      },
      "source": [
        "# 2. Разделение классов аттак"
      ]
    },
    {
      "cell_type": "markdown",
      "metadata": {
        "id": "d1yXcWeC6khc"
      },
      "source": [
        "Packet Length Variance      \n",
        "Fwd IAT Std                 \n",
        "Active Min                  \n",
        "Active Mean                  \n",
        "Active Max                    \n",
        "Flow IAT Std                \n",
        "Bwd IAT Mean                \n",
        "PSH Flag Count                 \n",
        "min_seg_size_forward         \n",
        "Flow IAT Mean               \n",
        "Active Std                  \n",
        "Bwd IAT Min                  \n",
        "Bwd IAT Max                   \n",
        "Total Length of Fwd Packets    \n",
        "Subflow Fwd Bytes            \n",
        "Fwd PSH Flags                 \n",
        "SYN Flag Count                \n",
        "Fwd IAT Mean               \n",
        "Bwd IAT Std                \n",
        "Flow IAT Min                \n",
        "Bwd Packet Length Min        \n",
        "Init_Win_bytes_forward        \n",
        "Fwd IAT Min        \n",
        "Label"
      ]
    },
    {
      "cell_type": "code",
      "source": [
        "file = pd.read_csv('/content/drive/MyDrive/CICIDS2017/2022. Подключение к СИАСТ/x_smt.csv')\n",
        "file.info()"
      ],
      "metadata": {
        "id": "f-PQzu5arbcF"
      },
      "execution_count": null,
      "outputs": []
    },
    {
      "cell_type": "code",
      "execution_count": null,
      "metadata": {
        "id": "9BUd3IpOJFtv"
      },
      "outputs": [],
      "source": [
        "data = []\n",
        "target = []\n",
        "for n, i in file.iterrows():\n",
        "  a = []\n",
        "  for j in i[:-1]:\n",
        "    a.append(j)\n",
        "  data.append(a)\n",
        "  target.append(0 if i[-1] == 'BENIGN' else 1) #0 benign 1 attack\n",
        "del file"
      ]
    },
    {
      "cell_type": "code",
      "source": [
        "print('data example:')\n",
        "print(data[:2])\n",
        "print('target example:')\n",
        "print(target[:2])"
      ],
      "metadata": {
        "colab": {
          "base_uri": "https://localhost:8080/"
        },
        "id": "fhBsqHcla-xa",
        "outputId": "2f72f819-8d65-45fc-b7e6-bf5855f7ca17"
      },
      "execution_count": null,
      "outputs": [
        {
          "output_type": "stream",
          "name": "stdout",
          "text": [
            "data example:\n",
            "[[8424.2568359375, 50911, 5268490.0, 63678.19921875, 103175, 32, 4901981.5, 7518953.5, 1, 3541331.75, 322, 322, 637, 22252.53515625, 10300000, 0, 0, 6396442.0, 4645137.5, 47, 29200, 0, 234], [0.0, 0, 0.0, 0.0, 0, 32, 0.0, 0.0, 0, 57891.0, 0, 0, 0, 0.0, 0, 0, 0, 0.0, 0.0, 57891, 237, 0, 0]]\n",
            "target example:\n",
            "[1, 1]\n"
          ]
        }
      ]
    },
    {
      "cell_type": "markdown",
      "metadata": {
        "id": "m6irRifaClry"
      },
      "source": [
        "Создание двух csv из target_df как набора 1 и 0 из верных маркировок и data_df как набора из признаков."
      ]
    },
    {
      "cell_type": "code",
      "execution_count": null,
      "metadata": {
        "id": "kksZ8PLv-UJB"
      },
      "outputs": [],
      "source": [
        "#создание csv из таргет и даты\n",
        "#target_df = pd.DataFrame(target)\n",
        "#csv_target_df = target_df.to_csv('/content/drive/MyDrive/CICIDS2017/2022. Подключение к СИАСТ/smt_y_bin.csv')\n",
        "#data_df = pd.DataFrame(data)\n",
        "#csv_data_df = data_df.to_csv('/content/drive/MyDrive/CICIDS2017/2022. Подключение к СИАСТ/smt_x_bin.csv')"
      ]
    },
    {
      "cell_type": "code",
      "execution_count": null,
      "metadata": {
        "id": "mbjyvFO4N9We",
        "colab": {
          "base_uri": "https://localhost:8080/"
        },
        "outputId": "77b7606c-6a3b-4600-932b-aceba5e315ed"
      },
      "outputs": [
        {
          "output_type": "stream",
          "name": "stdout",
          "text": [
            "(283771, 23)\n"
          ]
        }
      ],
      "source": [
        "scaler = MinMaxScaler(feature_range=(-1,1))\n",
        "scaler.fit(np.nan_to_num(data).astype(float))\n",
        "data = scaler.transform(np.nan_to_num(data).astype(float))\n",
        "print(data.shape)\n",
        "#data = data.reshape(data.shape[0], 23)"
      ]
    },
    {
      "cell_type": "markdown",
      "metadata": {
        "id": "RdSZw3kbh071"
      },
      "source": [
        "# 3. Решейпинг"
      ]
    },
    {
      "cell_type": "code",
      "execution_count": null,
      "metadata": {
        "colab": {
          "base_uri": "https://localhost:8080/"
        },
        "id": "uMTm12oF3Ksd",
        "outputId": "7d6b0be6-eb03-4563-afe4-d3acef654cfe"
      },
      "outputs": [
        {
          "output_type": "stream",
          "name": "stdout",
          "text": [
            "(283771, 23) (283771,)\n",
            "----\n",
            "(23,)\n",
            "----\n",
            "[[-0.99924106 -0.99881464 -0.8720885  -0.99851739 -0.99791566 -0.91655802\n",
            "  -0.88029349 -0.87468411  1.         -0.93601997 -0.99977531 -0.99977531\n",
            "  -0.99998938 -0.99936421 -0.82833333 -1.         -1.         -0.89339263\n",
            "  -0.88656563 -0.99999892 -0.1088562  -1.         -0.9999961 ]\n",
            " [-1.         -1.         -1.         -1.         -1.         -0.91655802\n",
            "  -1.         -1.         -1.         -0.99895387 -1.         -1.\n",
            "  -1.         -1.         -1.         -1.         -1.         -1.\n",
            "  -1.         -0.99895387 -0.99273682 -1.         -1.        ]]\n",
            "----\n"
          ]
        }
      ],
      "source": [
        "data = np.array(data)\n",
        "target = np.array(target)\n",
        "print(data.shape, target.shape)\n",
        "print('----')\n",
        "print(data[0].shape)\n",
        "print('----')\n",
        "print(data[:2])\n",
        "print('----')\n"
      ]
    },
    {
      "cell_type": "code",
      "source": [
        "data = data.reshape(data.shape[0], data.shape[1], 1)\n",
        "print(f\"shape of data\", data.shape)"
      ],
      "metadata": {
        "colab": {
          "base_uri": "https://localhost:8080/"
        },
        "id": "tUgo_NIA2JWS",
        "outputId": "88598444-a621-4ddb-b3a9-c91db18eafa0"
      },
      "execution_count": null,
      "outputs": [
        {
          "output_type": "stream",
          "name": "stdout",
          "text": [
            "shape of data (283771, 23, 1)\n"
          ]
        }
      ]
    },
    {
      "cell_type": "markdown",
      "metadata": {
        "id": "WhCFTFSwSQiT"
      },
      "source": [
        "# 4. Моделирование бинарной нейросети LSTM."
      ]
    },
    {
      "cell_type": "code",
      "execution_count": null,
      "metadata": {
        "colab": {
          "base_uri": "https://localhost:8080/"
        },
        "id": "00fuAt0ONpiD",
        "outputId": "fa2fe725-3d90-4f65-caba-a36a0e9b0b95"
      },
      "outputs": [
        {
          "output_type": "stream",
          "name": "stdout",
          "text": [
            "Model: \"sequential\"\n",
            "_________________________________________________________________\n",
            " Layer (type)                Output Shape              Param #   \n",
            "=================================================================\n",
            " lstm (LSTM)                 (None, 23, 32)            4352      \n",
            "                                                                 \n",
            " lstm_1 (LSTM)               (None, 23, 32)            8320      \n",
            "                                                                 \n",
            " lstm_2 (LSTM)               (None, 23, 32)            8320      \n",
            "                                                                 \n",
            " lstm_3 (LSTM)               (None, 23, 32)            8320      \n",
            "                                                                 \n",
            " lstm_4 (LSTM)               (None, 23, 32)            8320      \n",
            "                                                                 \n",
            " flatten (Flatten)           (None, 736)               0         \n",
            "                                                                 \n",
            " dense (Dense)               (None, 2)                 1474      \n",
            "                                                                 \n",
            "=================================================================\n",
            "Total params: 39,106\n",
            "Trainable params: 39,106\n",
            "Non-trainable params: 0\n",
            "_________________________________________________________________\n"
          ]
        }
      ],
      "source": [
        "tf.keras.backend.clear_session()\n",
        "\n",
        "#n_features = data_reshaped.shape[2]\n",
        "\n",
        "lstm = Sequential()\n",
        "lstm.add(Input((23, 1))) #lstm.add(Input((1, 23))) None - любое положительное целое число \n",
        "lstm.add(LSTM(32, recurrent_activation='sigmoid', return_sequences=True, recurrent_dropout=0))\n",
        "for i in range(4):\n",
        "  lstm.add(LSTM(32, recurrent_activation='sigmoid', return_sequences=True, recurrent_dropout=0))\n",
        "lstm.add(Flatten())\n",
        "lstm.add(Dense(2 ,activation = 'softmax'))\n",
        "lstm.compile(optimizer='adam', loss='binary_crossentropy', metrics='accuracy')\n",
        "lstm.summary()"
      ]
    },
    {
      "cell_type": "markdown",
      "metadata": {
        "id": "jEtpubU7T5L3"
      },
      "source": [
        "Тренировка нейросети"
      ]
    },
    {
      "cell_type": "code",
      "execution_count": null,
      "metadata": {
        "colab": {
          "base_uri": "https://localhost:8080/"
        },
        "id": "Cz_Z40v3Tpws",
        "outputId": "30da2bc2-68ab-4527-e49e-b5635afd0aa6"
      },
      "outputs": [
        {
          "output_type": "stream",
          "name": "stdout",
          "text": [
            "Epoch 1/50\n",
            "1109/1109 [==============================] - 143s 118ms/step - loss: 0.5596 - accuracy: 0.7275\n",
            "Epoch 2/50\n",
            "1109/1109 [==============================] - 133s 120ms/step - loss: 0.5170 - accuracy: 0.7577\n",
            "Epoch 3/50\n",
            "1109/1109 [==============================] - 130s 117ms/step - loss: 0.5152 - accuracy: 0.7568\n",
            "Epoch 4/50\n",
            "1109/1109 [==============================] - 145s 131ms/step - loss: 0.4948 - accuracy: 0.7672\n",
            "Epoch 5/50\n",
            "1109/1109 [==============================] - 135s 121ms/step - loss: 0.4850 - accuracy: 0.7718\n",
            "Epoch 6/50\n",
            "1109/1109 [==============================] - 128s 115ms/step - loss: 0.4910 - accuracy: 0.7660\n",
            "Epoch 7/50\n",
            "1109/1109 [==============================] - 127s 115ms/step - loss: 0.5088 - accuracy: 0.7474\n",
            "Epoch 8/50\n",
            "1109/1109 [==============================] - 128s 115ms/step - loss: 0.4893 - accuracy: 0.7665\n",
            "Epoch 9/50\n",
            "1109/1109 [==============================] - 126s 113ms/step - loss: 0.4363 - accuracy: 0.8027\n",
            "Epoch 10/50\n",
            "1109/1109 [==============================] - 126s 113ms/step - loss: 0.4006 - accuracy: 0.8229\n",
            "Epoch 11/50\n",
            "1109/1109 [==============================] - 135s 122ms/step - loss: 0.4001 - accuracy: 0.8178\n",
            "Epoch 12/50\n",
            "1109/1109 [==============================] - 126s 114ms/step - loss: 0.3518 - accuracy: 0.8333\n",
            "Epoch 13/50\n",
            "1109/1109 [==============================] - 127s 114ms/step - loss: 0.2945 - accuracy: 0.8509\n",
            "Epoch 14/50\n",
            "1109/1109 [==============================] - 125s 113ms/step - loss: 0.3063 - accuracy: 0.8430\n",
            "Epoch 15/50\n",
            "1109/1109 [==============================] - 126s 114ms/step - loss: 0.2828 - accuracy: 0.8552\n",
            "Epoch 16/50\n",
            "1109/1109 [==============================] - 126s 113ms/step - loss: 0.2707 - accuracy: 0.8605\n",
            "Epoch 17/50\n",
            "1109/1109 [==============================] - 125s 113ms/step - loss: 0.2594 - accuracy: 0.8662\n",
            "Epoch 18/50\n",
            "1109/1109 [==============================] - 128s 115ms/step - loss: 0.2554 - accuracy: 0.8679\n",
            "Epoch 19/50\n",
            "1109/1109 [==============================] - 126s 114ms/step - loss: 0.2519 - accuracy: 0.8690\n",
            "Epoch 20/50\n",
            "1109/1109 [==============================] - 124s 112ms/step - loss: 0.2648 - accuracy: 0.8631\n",
            "Epoch 21/50\n",
            "1109/1109 [==============================] - 125s 113ms/step - loss: 0.2374 - accuracy: 0.8792\n",
            "Epoch 22/50\n",
            "1109/1109 [==============================] - 125s 112ms/step - loss: 0.2337 - accuracy: 0.8822\n",
            "Epoch 23/50\n",
            "1109/1109 [==============================] - 125s 113ms/step - loss: 0.2252 - accuracy: 0.8872\n",
            "Epoch 24/50\n",
            "1109/1109 [==============================] - 125s 113ms/step - loss: 0.2205 - accuracy: 0.8934\n",
            "Epoch 25/50\n",
            "1109/1109 [==============================] - 125s 113ms/step - loss: 0.2080 - accuracy: 0.9027\n",
            "Epoch 26/50\n",
            "1109/1109 [==============================] - 123s 111ms/step - loss: 0.2009 - accuracy: 0.9061\n",
            "Epoch 27/50\n",
            "1109/1109 [==============================] - 125s 112ms/step - loss: 0.1914 - accuracy: 0.9132\n",
            "Epoch 28/50\n",
            "1109/1109 [==============================] - 124s 112ms/step - loss: 0.1819 - accuracy: 0.9205\n",
            "Epoch 29/50\n",
            "1109/1109 [==============================] - 125s 112ms/step - loss: 0.1758 - accuracy: 0.9257\n",
            "Epoch 30/50\n",
            "1109/1109 [==============================] - 124s 112ms/step - loss: 0.1627 - accuracy: 0.9343\n",
            "Epoch 31/50\n",
            "1109/1109 [==============================] - 127s 114ms/step - loss: 0.1592 - accuracy: 0.9362\n",
            "Epoch 32/50\n",
            "1109/1109 [==============================] - 126s 113ms/step - loss: 0.1476 - accuracy: 0.9413\n",
            "Epoch 33/50\n",
            "1109/1109 [==============================] - 125s 113ms/step - loss: 0.1433 - accuracy: 0.9442\n",
            "Epoch 34/50\n",
            "1109/1109 [==============================] - 125s 113ms/step - loss: 0.1370 - accuracy: 0.9475\n",
            "Epoch 35/50\n",
            "1109/1109 [==============================] - 125s 113ms/step - loss: 0.1375 - accuracy: 0.9475\n",
            "Epoch 36/50\n",
            "1109/1109 [==============================] - 124s 112ms/step - loss: 0.1313 - accuracy: 0.9499\n",
            "Epoch 37/50\n",
            "1109/1109 [==============================] - 126s 113ms/step - loss: 0.1290 - accuracy: 0.9510\n",
            "Epoch 38/50\n",
            "1109/1109 [==============================] - 128s 115ms/step - loss: 0.1310 - accuracy: 0.9497\n",
            "Epoch 39/50\n",
            "1109/1109 [==============================] - 125s 112ms/step - loss: 0.1261 - accuracy: 0.9526\n",
            "Epoch 40/50\n",
            "1109/1109 [==============================] - 125s 113ms/step - loss: 0.1254 - accuracy: 0.9536\n",
            "Epoch 41/50\n",
            "1109/1109 [==============================] - 124s 112ms/step - loss: 0.1216 - accuracy: 0.9555\n",
            "Epoch 42/50\n",
            "1109/1109 [==============================] - 124s 112ms/step - loss: 0.1207 - accuracy: 0.9559\n",
            "Epoch 43/50\n",
            "1109/1109 [==============================] - 125s 112ms/step - loss: 0.1217 - accuracy: 0.9560\n",
            "Epoch 44/50\n",
            "1109/1109 [==============================] - 123s 111ms/step - loss: 0.1249 - accuracy: 0.9552\n",
            "Epoch 45/50\n",
            "1109/1109 [==============================] - 125s 112ms/step - loss: 0.1163 - accuracy: 0.9579\n",
            "Epoch 46/50\n",
            "1109/1109 [==============================] - 124s 112ms/step - loss: 0.1172 - accuracy: 0.9579\n",
            "Epoch 47/50\n",
            "1109/1109 [==============================] - 125s 112ms/step - loss: 0.1106 - accuracy: 0.9604\n",
            "Epoch 48/50\n",
            "1109/1109 [==============================] - 124s 112ms/step - loss: 0.1101 - accuracy: 0.9595\n",
            "Epoch 49/50\n",
            "1109/1109 [==============================] - 124s 112ms/step - loss: 0.1098 - accuracy: 0.9611\n",
            "Epoch 50/50\n",
            "1109/1109 [==============================] - 125s 113ms/step - loss: 0.1053 - accuracy: 0.9628\n"
          ]
        },
        {
          "output_type": "execute_result",
          "data": {
            "text/plain": [
              "<keras.callbacks.History at 0x7f963daf3c50>"
            ]
          },
          "metadata": {},
          "execution_count": 9
        }
      ],
      "source": [
        "lstm.fit(data, to_categorical(target), epochs=50, batch_size=256, verbose=1)"
      ]
    },
    {
      "cell_type": "code",
      "execution_count": null,
      "metadata": {
        "colab": {
          "base_uri": "https://localhost:8080/"
        },
        "id": "oIbtTlSQBQBH",
        "outputId": "1324d4c5-7c34-4b54-ff61-458261f7d00b"
      },
      "outputs": [
        {
          "output_type": "stream",
          "name": "stderr",
          "text": [
            "WARNING:absl:Found untraced functions such as lstm_cell_layer_call_fn, lstm_cell_layer_call_and_return_conditional_losses, lstm_cell_1_layer_call_fn, lstm_cell_1_layer_call_and_return_conditional_losses, lstm_cell_2_layer_call_fn while saving (showing 5 of 10). These functions will not be directly callable after loading.\n",
            "WARNING:absl:<keras.layers.recurrent.LSTMCell object at 0x7f963c440490> has the same name 'LSTMCell' as a built-in Keras object. Consider renaming <class 'keras.layers.recurrent.LSTMCell'> to avoid naming conflicts when loading with `tf.keras.models.load_model`. If renaming is not possible, pass the object in the `custom_objects` parameter of the load function.\n",
            "WARNING:absl:<keras.layers.recurrent.LSTMCell object at 0x7f963bdbd550> has the same name 'LSTMCell' as a built-in Keras object. Consider renaming <class 'keras.layers.recurrent.LSTMCell'> to avoid naming conflicts when loading with `tf.keras.models.load_model`. If renaming is not possible, pass the object in the `custom_objects` parameter of the load function.\n",
            "WARNING:absl:<keras.layers.recurrent.LSTMCell object at 0x7f963b724a50> has the same name 'LSTMCell' as a built-in Keras object. Consider renaming <class 'keras.layers.recurrent.LSTMCell'> to avoid naming conflicts when loading with `tf.keras.models.load_model`. If renaming is not possible, pass the object in the `custom_objects` parameter of the load function.\n",
            "WARNING:absl:<keras.layers.recurrent.LSTMCell object at 0x7f9639dcdf50> has the same name 'LSTMCell' as a built-in Keras object. Consider renaming <class 'keras.layers.recurrent.LSTMCell'> to avoid naming conflicts when loading with `tf.keras.models.load_model`. If renaming is not possible, pass the object in the `custom_objects` parameter of the load function.\n",
            "WARNING:absl:<keras.layers.recurrent.LSTMCell object at 0x7f963a19ab10> has the same name 'LSTMCell' as a built-in Keras object. Consider renaming <class 'keras.layers.recurrent.LSTMCell'> to avoid naming conflicts when loading with `tf.keras.models.load_model`. If renaming is not possible, pass the object in the `custom_objects` parameter of the load function.\n"
          ]
        }
      ],
      "source": [
        "pickle.dump(lstm, open('/content/drive/MyDrive/CICIDS2017/2022. Подключение к СИАСТ/lstm.pkl', 'wb'))"
      ]
    },
    {
      "cell_type": "markdown",
      "metadata": {
        "id": "mHCQU3U0IpOn"
      },
      "source": [
        "Получение данных от нейросети"
      ]
    },
    {
      "cell_type": "code",
      "execution_count": null,
      "metadata": {
        "id": "qfcQ8hJ8EAAQ"
      },
      "outputs": [],
      "source": [
        "y_pred1 = lstm.predict(data, batch_size=256)\n",
        "y_pred = np.argmax(y_pred1, axis=1)"
      ]
    },
    {
      "cell_type": "markdown",
      "metadata": {
        "id": "5-_VYSkLItOW"
      },
      "source": [
        "Вычисление метрик "
      ]
    },
    {
      "cell_type": "code",
      "execution_count": null,
      "metadata": {
        "colab": {
          "base_uri": "https://localhost:8080/"
        },
        "id": "cpBaXzCM2HTy",
        "outputId": "fa4eeebf-d9ca-4bb2-e0fc-ebf0955ddbf2"
      },
      "outputs": [
        {
          "output_type": "stream",
          "name": "stdout",
          "text": [
            "==============================Classification Report==============================\n",
            "              precision    recall  f1-score   support\n",
            "\n",
            "      Benign       0.98      0.95      0.96    142069\n",
            "      Attack       0.95      0.99      0.97    141702\n",
            "\n",
            "    accuracy                           0.97    283771\n",
            "   macro avg       0.97      0.97      0.97    283771\n",
            "weighted avg       0.97      0.97      0.97    283771\n",
            "\n",
            "==============================Confussion Matrix and metrics==============================\n",
            "Confussion Matrix: \n",
            " [[134362   7707]\n",
            " [  2110 139592]]\n",
            "Accuracy:  0.9654052034915478\n",
            "recall: 0.9851095961948314\n",
            "precision: 0.9476778525312459\n",
            "f1 score: 0.9660312594074068\n",
            "ROC AUC: 0.9654306541955089\n",
            "Alghorythm marked 147299 as attack and 136472 packets as benign\n"
          ]
        }
      ],
      "source": [
        "from sklearn import metrics\n",
        "from sklearn.metrics import classification_report\n",
        "target_names = ['Benign', 'Attack']\n",
        "print('==============================Classification Report=============================='.format(i))\n",
        "print(classification_report(target, y_pred, target_names=target_names))\n",
        "print('==============================Confussion Matrix and metrics=============================='.format(i))\n",
        "tn, fp, fn, tp = confusion_matrix(target, y_pred).ravel()\n",
        "sum = tn + fp + fn + tp\n",
        "print('Confussion Matrix:', \"\\n\", confusion_matrix(target, y_pred))\n",
        "print(\"Accuracy: \", accuracy_score(target, y_pred))\n",
        "recall = tp / (tp + fn)\n",
        "print('recall:', recall)\n",
        "precision = tp / (tp + fp)\n",
        "print('precision:', precision)\n",
        "print('f1 score:', 2 * (precision * recall) / (precision + recall))\n",
        "print('ROC AUC:', roc_auc_score(target, y_pred))\n",
        "unique, counts = np.unique(y_pred, return_counts=True)\n",
        "count_list = dict(zip(unique, counts))\n",
        "print('Alghorythm marked', count_list[1], 'as attack and', count_list[0], \"packets as benign\")"
      ]
    }
  ],
  "metadata": {
    "colab": {
      "collapsed_sections": [
        "iLDYX7f3R8PM",
        "uXjE6iUiV0ZY",
        "0soqw_7WZp78",
        "sqqcYR9qjqt1",
        "GLjm452FsWCU",
        "nEbI2mUPsibk",
        "6Q_jJrdKwSZn",
        "Ox7UALTQwaC9",
        "W4WTfQkOwhMO",
        "pJ8Cp7me1dOO",
        "zqdP9FoJ7yrH",
        "gWaffcGnSXJw",
        "CFL-FZ7121i5",
        "UKErKmmX_Yqg",
        "-iErspjyIBm-",
        "hbDyAb0SL_vN",
        "Pv0Zm3uTiEVa",
        "9aMHY_FPiT7A",
        "ryynLfQOxWEw",
        "WvOQfu8Bh3Sc",
        "XNvYteblMh50",
        "RdSZw3kbh071",
        "WhCFTFSwSQiT",
        "jEtpubU7T5L3",
        "mHCQU3U0IpOn",
        "5-_VYSkLItOW",
        "_aa2qkaxI5xv",
        "Jm1QbPYgI_U2",
        "4Bk4IdtCA7ss",
        "RWd6LwZbBAeT",
        "r-li25gkJCVe",
        "22Q88hM6JFMI",
        "crodovKFJHpu",
        "XV3IqZTrJohu",
        "dO9ES_jxT8T3"
      ],
      "provenance": []
    },
    "gpuClass": "standard",
    "kernelspec": {
      "display_name": "Python 3",
      "name": "python3"
    },
    "language_info": {
      "name": "python"
    }
  },
  "nbformat": 4,
  "nbformat_minor": 0
}