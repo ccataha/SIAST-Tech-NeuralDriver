{
  "cells": [
    {
      "cell_type": "markdown",
      "metadata": {
        "id": "iLDYX7f3R8PM"
      },
      "source": [
        "# 1. Импорт модулей."
      ]
    },
    {
      "cell_type": "code",
      "execution_count": null,
      "metadata": {
        "id": "MSu0tV9mMFDK"
      },
      "outputs": [],
      "source": [
        "from google.colab import drive\n",
        "from tensorflow import keras\n",
        "from tensorflow.keras.layers import *\n",
        "from tensorflow.keras.metrics import *\n",
        "from tensorflow.keras.models import Sequential, Model\n",
        "import numpy as np\n",
        "import pandas as pd\n",
        "import os\n",
        "import tensorflow.keras.backend as K\n",
        "from sklearn.metrics import *\n",
        "from tensorflow.keras.utils import to_categorical\n",
        "import tensorflow as tf\n",
        "from tensorflow.keras.layers.experimental import preprocessing\n",
        "from sklearn.preprocessing import MinMaxScaler\n",
        "import pickle\n",
        "import seaborn as sns\n",
        "from matplotlib import pyplot as plt \n",
        "from sklearn.feature_selection import SelectKBest\n",
        "from sklearn.feature_selection import f_classif\n",
        "from sklearn.model_selection import train_test_split\n",
        "from sklearn import metrics\n",
        "from sklearn.metrics import classification_report\n",
        "from tensorflow.keras.models import load_model\n",
        "\n",
        "from sklearn import metrics\n",
        "from sklearn.metrics import classification_report\n",
        "\n",
        "from keras.callbacks import Callback, TensorBoard"
      ]
    },
    {
      "cell_type": "code",
      "execution_count": null,
      "metadata": {
        "colab": {
          "base_uri": "https://localhost:8080/"
        },
        "id": "9vkpG3tofUp5",
        "outputId": "b7fff0c9-f2cf-44c7-bf46-153a0dd3b443"
      },
      "outputs": [
        {
          "output_type": "stream",
          "name": "stdout",
          "text": [
            "Mounted at /content/drive\n"
          ]
        }
      ],
      "source": [
        "drive.mount('/content/drive')"
      ]
    },
    {
      "cell_type": "markdown",
      "metadata": {
        "id": "XNvYteblMh50"
      },
      "source": [
        "# 2. Разделение классов аттак"
      ]
    },
    {
      "cell_type": "markdown",
      "metadata": {
        "id": "d1yXcWeC6khc"
      },
      "source": [
        "Packet Length Variance      \n",
        "Fwd IAT Std                 \n",
        "Active Min                  \n",
        "Active Mean                  \n",
        "Active Max                    \n",
        "Flow IAT Std                \n",
        "Bwd IAT Mean                \n",
        "PSH Flag Count                 \n",
        "min_seg_size_forward         \n",
        "Flow IAT Mean               \n",
        "Active Std                  \n",
        "Bwd IAT Min                  \n",
        "Bwd IAT Max                   \n",
        "Total Length of Fwd Packets    \n",
        "Subflow Fwd Bytes            \n",
        "Fwd PSH Flags                 \n",
        "SYN Flag Count                \n",
        "Fwd IAT Mean               \n",
        "Bwd IAT Std                \n",
        "Flow IAT Min                \n",
        "Bwd Packet Length Min        \n",
        "Init_Win_bytes_forward        \n",
        "Fwd IAT Min        \n",
        "Label"
      ]
    },
    {
      "cell_type": "code",
      "execution_count": null,
      "metadata": {
        "colab": {
          "base_uri": "https://localhost:8080/"
        },
        "id": "f-PQzu5arbcF",
        "outputId": "e11eef44-324d-48c7-e220-5c95c8632e20"
      },
      "outputs": [
        {
          "output_type": "stream",
          "name": "stdout",
          "text": [
            "<class 'pandas.core.frame.DataFrame'>\n",
            "RangeIndex: 283771 entries, 0 to 283770\n",
            "Data columns (total 24 columns):\n",
            " #   Column                       Non-Null Count   Dtype  \n",
            "---  ------                       --------------   -----  \n",
            " 0    Packet Length Variance      283771 non-null  float64\n",
            " 1    Active Min                  283771 non-null  int64  \n",
            " 2    Fwd IAT Std                 283771 non-null  float64\n",
            " 3   Active Mean                  283771 non-null  float64\n",
            " 4    Active Max                  283771 non-null  int64  \n",
            " 5    min_seg_size_forward        283771 non-null  int64  \n",
            " 6    Flow IAT Std                283771 non-null  float64\n",
            " 7    Bwd IAT Mean                283771 non-null  float64\n",
            " 8    PSH Flag Count              283771 non-null  int64  \n",
            " 9    Flow IAT Mean               283771 non-null  float64\n",
            " 10  Total Length of Fwd Packets  283771 non-null  int64  \n",
            " 11   Subflow Fwd Bytes           283771 non-null  int64  \n",
            " 12   Bwd IAT Min                 283771 non-null  int64  \n",
            " 13   Active Std                  283771 non-null  float64\n",
            " 14   Bwd IAT Max                 283771 non-null  int64  \n",
            " 15  Fwd PSH Flags                283771 non-null  int64  \n",
            " 16   SYN Flag Count              283771 non-null  int64  \n",
            " 17   Fwd IAT Mean                283771 non-null  float64\n",
            " 18   Bwd IAT Std                 283771 non-null  float64\n",
            " 19   Flow IAT Min                283771 non-null  int64  \n",
            " 20  Init_Win_bytes_forward       283771 non-null  int64  \n",
            " 21   Bwd Packet Length Min       283771 non-null  int64  \n",
            " 22   Fwd IAT Min                 283771 non-null  int64  \n",
            " 23  label                        283771 non-null  object \n",
            "dtypes: float64(9), int64(14), object(1)\n",
            "memory usage: 52.0+ MB\n"
          ]
        }
      ],
      "source": [
        "file = pd.read_csv('/content/drive/MyDrive/CICIDS2017/2022. Подключение к СИАСТ/End/x_smt.csv')\n",
        "file.info()"
      ]
    },
    {
      "cell_type": "code",
      "execution_count": null,
      "metadata": {
        "id": "9BUd3IpOJFtv"
      },
      "outputs": [],
      "source": [
        "data = []\n",
        "target = []\n",
        "for n, i in file.iterrows():\n",
        "  a = []\n",
        "  for j in i[:-1]:\n",
        "    a.append(j)\n",
        "  data.append(a)\n",
        "  target.append(0 if i[-1] == 'BENIGN' else 1) #0 benign 1 attack\n",
        "del file"
      ]
    },
    {
      "cell_type": "code",
      "execution_count": null,
      "metadata": {
        "colab": {
          "base_uri": "https://localhost:8080/"
        },
        "id": "fhBsqHcla-xa",
        "outputId": "3525e557-bcfa-4cf4-f87d-56d5c39ef2b3"
      },
      "outputs": [
        {
          "output_type": "stream",
          "name": "stdout",
          "text": [
            "data example:\n",
            "[[8424.2568359375, 50911, 5268490.0, 63678.19921875, 103175, 32, 4901981.5, 7518953.5, 1, 3541331.75, 322, 322, 637, 22252.53515625, 10300000, 0, 0, 6396442.0, 4645137.5, 47, 29200, 0, 234], [0.0, 0, 0.0, 0.0, 0, 32, 0.0, 0.0, 0, 57891.0, 0, 0, 0, 0.0, 0, 0, 0, 0.0, 0.0, 57891, 237, 0, 0]]\n",
            "target example:\n",
            "[1, 1]\n"
          ]
        }
      ],
      "source": [
        "print('data example:')\n",
        "print(data[:2])\n",
        "print('target example:')\n",
        "print(target[:2])"
      ]
    },
    {
      "cell_type": "markdown",
      "metadata": {
        "id": "m6irRifaClry"
      },
      "source": [
        "Создание двух csv из target_df как набора 1 и 0 из верных маркировок и data_df как набора из признаков."
      ]
    },
    {
      "cell_type": "code",
      "execution_count": null,
      "metadata": {
        "id": "kksZ8PLv-UJB"
      },
      "outputs": [],
      "source": [
        "#создание csv из таргет и даты\n",
        "#target_df = pd.DataFrame(target)\n",
        "#csv_target_df = target_df.to_csv('/content/drive/MyDrive/CICIDS2017/2022. Подключение к СИАСТ/smt_y_bin.csv')\n",
        "#data_df = pd.DataFrame(data)\n",
        "#csv_data_df = data_df.to_csv('/content/drive/MyDrive/CICIDS2017/2022. Подключение к СИАСТ/smt_x_bin.csv')"
      ]
    },
    {
      "cell_type": "code",
      "execution_count": null,
      "metadata": {
        "colab": {
          "base_uri": "https://localhost:8080/"
        },
        "id": "mbjyvFO4N9We",
        "outputId": "243a5ae8-8737-49e1-f37f-e46c2c8930df"
      },
      "outputs": [
        {
          "output_type": "stream",
          "name": "stdout",
          "text": [
            "(283771, 23)\n"
          ]
        }
      ],
      "source": [
        "scaler = MinMaxScaler(feature_range=(-1,1))\n",
        "scaler.fit(np.nan_to_num(data).astype(float))\n",
        "data = scaler.transform(np.nan_to_num(data).astype(float))\n",
        "print(data.shape)\n",
        "#data = data.reshape(data.shape[0], 23)"
      ]
    },
    {
      "cell_type": "markdown",
      "metadata": {
        "id": "RdSZw3kbh071"
      },
      "source": [
        "# 3. Решейпинг"
      ]
    },
    {
      "cell_type": "code",
      "execution_count": null,
      "metadata": {
        "colab": {
          "base_uri": "https://localhost:8080/"
        },
        "id": "uMTm12oF3Ksd",
        "outputId": "98e3daf4-b4e7-47aa-b137-5d84e0d98603"
      },
      "outputs": [
        {
          "output_type": "stream",
          "name": "stdout",
          "text": [
            "(283771, 23) (283771,)\n",
            "----\n",
            "(23,)\n",
            "----\n",
            "[[-0.99924106 -0.99881464 -0.8720885  -0.99851739 -0.99791566 -0.91655802\n",
            "  -0.88029349 -0.87468411  1.         -0.93601997 -0.99977531 -0.99977531\n",
            "  -0.99998938 -0.99936421 -0.82833333 -1.         -1.         -0.89339263\n",
            "  -0.88656563 -0.99999892 -0.1088562  -1.         -0.9999961 ]\n",
            " [-1.         -1.         -1.         -1.         -1.         -0.91655802\n",
            "  -1.         -1.         -1.         -0.99895387 -1.         -1.\n",
            "  -1.         -1.         -1.         -1.         -1.         -1.\n",
            "  -1.         -0.99895387 -0.99273682 -1.         -1.        ]]\n",
            "----\n"
          ]
        }
      ],
      "source": [
        "data = np.array(data)\n",
        "target = np.array(target)\n",
        "print(data.shape, target.shape)\n",
        "print('----')\n",
        "print(data[0].shape)\n",
        "print('----')\n",
        "print(data[:2])\n",
        "print('----')\n"
      ]
    },
    {
      "cell_type": "code",
      "execution_count": null,
      "metadata": {
        "colab": {
          "base_uri": "https://localhost:8080/"
        },
        "id": "tUgo_NIA2JWS",
        "outputId": "47dee707-64f3-45f3-9d6e-580a01cb961c"
      },
      "outputs": [
        {
          "output_type": "stream",
          "name": "stdout",
          "text": [
            "shape of data (283771, 23, 1)\n"
          ]
        }
      ],
      "source": [
        "data = data.reshape(data.shape[0], data.shape[1], 1)\n",
        "print(f\"shape of data\", data.shape)"
      ]
    },
    {
      "cell_type": "code",
      "source": [
        "from collections import Counter\n",
        "\n",
        "X_train, X_test, y_train, y_test = train_test_split(data, target, test_size=0.2, random_state=1)\n",
        "print(Counter(y_train))\n",
        "print(Counter(y_test))"
      ],
      "metadata": {
        "colab": {
          "base_uri": "https://localhost:8080/"
        },
        "id": "3I3wcob7AFpa",
        "outputId": "a5322ecd-c07a-4f86-f9fc-e5545f3ccbb1"
      },
      "execution_count": null,
      "outputs": [
        {
          "output_type": "stream",
          "name": "stdout",
          "text": [
            "Counter({0: 113707, 1: 113309})\n",
            "Counter({1: 28393, 0: 28362})\n"
          ]
        }
      ]
    },
    {
      "cell_type": "markdown",
      "source": [],
      "metadata": {
        "id": "Qfgyws4OYcYO"
      }
    },
    {
      "cell_type": "markdown",
      "source": [
        "# X. Callbacks"
      ],
      "metadata": {
        "id": "IMPVNa-3YedQ"
      }
    },
    {
      "cell_type": "code",
      "source": [
        "from tensorflow.keras.callbacks import ModelCheckpoint\n",
        "filepath = '/content/drive/MyDrive/CICIDS2017/2022. Подключение к СИАСТ/End/Settings test ipynbs/lstm-5-13/.{epoch:02d}-{loss:.2f}.hdf5'\n",
        "checkpoint = ModelCheckpoint(filepath, monitor='loss', verbose=0, save_weights_only=True, save_best_only=True, mode='auto', save_freq=2)\n"
      ],
      "metadata": {
        "id": "mPJGfbMDYkGx"
      },
      "execution_count": null,
      "outputs": []
    },
    {
      "cell_type": "code",
      "source": [
        "class PredictionCallback(tf.keras.callbacks.Callback):    \n",
        "  def on_epoch_end(self, epoch, logs={}):\n",
        "    print(\"prediction started\")\n",
        "    y_pred_calls1 = self.model.predict(X_test, batch_size=256, verbose = 2);\n",
        "    y_pred_calls = np.argmax(y_pred_calls1, axis=1);\n",
        "    \n",
        "    tn, fp, fn, tp = confusion_matrix(y_test, y_pred_calls).ravel()\n",
        "    sum = tn + fp + fn + tp\n",
        "    recall = tp / (tp + fn)\n",
        "    precision = tp / (tp + fp)\n",
        "    f1score = 2 * (precision * recall) / (precision + recall) \n",
        "    roc_auc = roc_auc_score(y_test, y_pred_calls)\n",
        "    unique, counts = np.unique(y_pred_calls, return_counts=True)\n",
        "\n",
        "    d = {'epoch': [epoch], 'tn': [tn], 'fp': [fp], 'fn': [fn], 'tp': [tp], 'sum':[sum], 'recall': [recall], 'precision':[precision], 'f1score':[f1score], 'rocauc':[roc_auc]}\n",
        "    df = pd.DataFrame(data=d)\n",
        "    df.to_csv('/content/drive/MyDrive/CICIDS2017/2022. Подключение к СИАСТ/End/Settings test ipynbs/lstm-5-13/ClasRepo-5-13.csv', mode='a', header = False, index = False)"
      ],
      "metadata": {
        "id": "uymCgvG4YoPB"
      },
      "execution_count": null,
      "outputs": []
    },
    {
      "cell_type": "code",
      "source": [
        "logdir = (\"/content/drive/MyDrive/CICIDS2017/2022. Подключение к СИАСТ/End/Bin_logs/\")\n",
        "tensorboard_callback = TensorBoard(logdir, histogram_freq=1)"
      ],
      "metadata": {
        "id": "kC38bQTUZrvy"
      },
      "execution_count": null,
      "outputs": []
    },
    {
      "cell_type": "markdown",
      "metadata": {
        "id": "WhCFTFSwSQiT"
      },
      "source": [
        "# 4. Моделирование бинарной нейросети LSTM."
      ]
    },
    {
      "cell_type": "code",
      "execution_count": null,
      "metadata": {
        "colab": {
          "base_uri": "https://localhost:8080/"
        },
        "id": "00fuAt0ONpiD",
        "outputId": "87aed7e2-9b58-4ad1-94c0-f68374d28776"
      },
      "outputs": [
        {
          "output_type": "stream",
          "name": "stdout",
          "text": [
            "Model: \"sequential\"\n",
            "_________________________________________________________________\n",
            " Layer (type)                Output Shape              Param #   \n",
            "=================================================================\n",
            " lstm (LSTM)                 (None, 23, 23)            2300      \n",
            "                                                                 \n",
            " lstm_1 (LSTM)               (None, 23, 13)            1924      \n",
            "                                                                 \n",
            " lstm_2 (LSTM)               (None, 23, 13)            1404      \n",
            "                                                                 \n",
            " lstm_3 (LSTM)               (None, 23, 13)            1404      \n",
            "                                                                 \n",
            " lstm_4 (LSTM)               (None, 23, 13)            1404      \n",
            "                                                                 \n",
            " lstm_5 (LSTM)               (None, 23, 13)            1404      \n",
            "                                                                 \n",
            " flatten (Flatten)           (None, 299)               0         \n",
            "                                                                 \n",
            " dense (Dense)               (None, 2)                 600       \n",
            "                                                                 \n",
            "=================================================================\n",
            "Total params: 10,440\n",
            "Trainable params: 10,440\n",
            "Non-trainable params: 0\n",
            "_________________________________________________________________\n"
          ]
        }
      ],
      "source": [
        "tf.keras.backend.clear_session()\n",
        "\n",
        "#n_features = data_reshaped.shape[2]\n",
        "\n",
        "lstm = Sequential()\n",
        "lstm.add(Input((23, 1))) \n",
        "lstm.add(LSTM(23, recurrent_activation='sigmoid', return_sequences=True, recurrent_dropout=0))\n",
        "for i in range(5):\n",
        "  lstm.add(LSTM(13, recurrent_activation='sigmoid', return_sequences=True, recurrent_dropout=0))\n",
        "lstm.add(Flatten())\n",
        "lstm.add(Dense(2 ,activation = 'sigmoid'))\n",
        "lstm.compile(optimizer='adam', loss='binary_crossentropy', metrics='accuracy')\n",
        "lstm.summary()"
      ]
    },
    {
      "cell_type": "markdown",
      "metadata": {
        "id": "jEtpubU7T5L3"
      },
      "source": [
        "Тренировка нейросети"
      ]
    },
    {
      "cell_type": "code",
      "source": [
        "lstm.load_weights('/content/drive/MyDrive/CICIDS2017/2022. Подключение к СИАСТ/End/Settings test ipynbs/lstm-5-13/.240-0.03.hdf5')"
      ],
      "metadata": {
        "id": "RCW9f3SGGuTA"
      },
      "execution_count": null,
      "outputs": []
    },
    {
      "cell_type": "code",
      "execution_count": null,
      "metadata": {
        "id": "Cz_Z40v3Tpws"
      },
      "outputs": [],
      "source": [
        "#lstm_history = lstm.fit(X_train, to_categorical(y_train), epochs=60, batch_size=256, verbose=2, callbacks=[PredictionCallback(), checkpoint])"
      ]
    },
    {
      "cell_type": "code",
      "source": [
        "lstm_history = lstm.fit(X_train, to_categorical(y_train), epochs=60, batch_size=256, verbose=2)"
      ],
      "metadata": {
        "colab": {
          "base_uri": "https://localhost:8080/",
          "height": 397
        },
        "id": "plV5xYmsH--d",
        "outputId": "88f18da7-ae52-4a93-d269-ce34700cdf58"
      },
      "execution_count": null,
      "outputs": [
        {
          "output_type": "stream",
          "name": "stdout",
          "text": [
            "Epoch 1/60\n",
            "887/887 - 114s - loss: 0.1038 - accuracy: 0.9636 - 114s/epoch - 128ms/step\n",
            "Epoch 2/60\n",
            "887/887 - 95s - loss: 0.1036 - accuracy: 0.9642 - 95s/epoch - 107ms/step\n",
            "Epoch 3/60\n"
          ]
        },
        {
          "output_type": "error",
          "ename": "KeyboardInterrupt",
          "evalue": "ignored",
          "traceback": [
            "\u001b[0;31m---------------------------------------------------------------------------\u001b[0m",
            "\u001b[0;31mKeyboardInterrupt\u001b[0m                         Traceback (most recent call last)",
            "\u001b[0;32m<ipython-input-23-5111f19d6a71>\u001b[0m in \u001b[0;36m<module>\u001b[0;34m\u001b[0m\n\u001b[0;32m----> 1\u001b[0;31m \u001b[0mlstm_history\u001b[0m \u001b[0;34m=\u001b[0m \u001b[0mlstm\u001b[0m\u001b[0;34m.\u001b[0m\u001b[0mfit\u001b[0m\u001b[0;34m(\u001b[0m\u001b[0mX_train\u001b[0m\u001b[0;34m,\u001b[0m \u001b[0mto_categorical\u001b[0m\u001b[0;34m(\u001b[0m\u001b[0my_train\u001b[0m\u001b[0;34m)\u001b[0m\u001b[0;34m,\u001b[0m \u001b[0mepochs\u001b[0m\u001b[0;34m=\u001b[0m\u001b[0;36m60\u001b[0m\u001b[0;34m,\u001b[0m \u001b[0mbatch_size\u001b[0m\u001b[0;34m=\u001b[0m\u001b[0;36m256\u001b[0m\u001b[0;34m,\u001b[0m \u001b[0mverbose\u001b[0m\u001b[0;34m=\u001b[0m\u001b[0;36m2\u001b[0m\u001b[0;34m)\u001b[0m\u001b[0;34m\u001b[0m\u001b[0;34m\u001b[0m\u001b[0m\n\u001b[0m",
            "\u001b[0;32m/usr/local/lib/python3.8/dist-packages/keras/utils/traceback_utils.py\u001b[0m in \u001b[0;36merror_handler\u001b[0;34m(*args, **kwargs)\u001b[0m\n\u001b[1;32m     63\u001b[0m         \u001b[0mfiltered_tb\u001b[0m \u001b[0;34m=\u001b[0m \u001b[0;32mNone\u001b[0m\u001b[0;34m\u001b[0m\u001b[0;34m\u001b[0m\u001b[0m\n\u001b[1;32m     64\u001b[0m         \u001b[0;32mtry\u001b[0m\u001b[0;34m:\u001b[0m\u001b[0;34m\u001b[0m\u001b[0;34m\u001b[0m\u001b[0m\n\u001b[0;32m---> 65\u001b[0;31m             \u001b[0;32mreturn\u001b[0m \u001b[0mfn\u001b[0m\u001b[0;34m(\u001b[0m\u001b[0;34m*\u001b[0m\u001b[0margs\u001b[0m\u001b[0;34m,\u001b[0m \u001b[0;34m**\u001b[0m\u001b[0mkwargs\u001b[0m\u001b[0;34m)\u001b[0m\u001b[0;34m\u001b[0m\u001b[0;34m\u001b[0m\u001b[0m\n\u001b[0m\u001b[1;32m     66\u001b[0m         \u001b[0;32mexcept\u001b[0m \u001b[0mException\u001b[0m \u001b[0;32mas\u001b[0m \u001b[0me\u001b[0m\u001b[0;34m:\u001b[0m\u001b[0;34m\u001b[0m\u001b[0;34m\u001b[0m\u001b[0m\n\u001b[1;32m     67\u001b[0m             \u001b[0mfiltered_tb\u001b[0m \u001b[0;34m=\u001b[0m \u001b[0m_process_traceback_frames\u001b[0m\u001b[0;34m(\u001b[0m\u001b[0me\u001b[0m\u001b[0;34m.\u001b[0m\u001b[0m__traceback__\u001b[0m\u001b[0;34m)\u001b[0m\u001b[0;34m\u001b[0m\u001b[0;34m\u001b[0m\u001b[0m\n",
            "\u001b[0;32m/usr/local/lib/python3.8/dist-packages/keras/engine/training.py\u001b[0m in \u001b[0;36mfit\u001b[0;34m(self, x, y, batch_size, epochs, verbose, callbacks, validation_split, validation_data, shuffle, class_weight, sample_weight, initial_epoch, steps_per_epoch, validation_steps, validation_batch_size, validation_freq, max_queue_size, workers, use_multiprocessing)\u001b[0m\n\u001b[1;32m   1648\u001b[0m                         ):\n\u001b[1;32m   1649\u001b[0m                             \u001b[0mcallbacks\u001b[0m\u001b[0;34m.\u001b[0m\u001b[0mon_train_batch_begin\u001b[0m\u001b[0;34m(\u001b[0m\u001b[0mstep\u001b[0m\u001b[0;34m)\u001b[0m\u001b[0;34m\u001b[0m\u001b[0;34m\u001b[0m\u001b[0m\n\u001b[0;32m-> 1650\u001b[0;31m                             \u001b[0mtmp_logs\u001b[0m \u001b[0;34m=\u001b[0m \u001b[0mself\u001b[0m\u001b[0;34m.\u001b[0m\u001b[0mtrain_function\u001b[0m\u001b[0;34m(\u001b[0m\u001b[0miterator\u001b[0m\u001b[0;34m)\u001b[0m\u001b[0;34m\u001b[0m\u001b[0;34m\u001b[0m\u001b[0m\n\u001b[0m\u001b[1;32m   1651\u001b[0m                             \u001b[0;32mif\u001b[0m \u001b[0mdata_handler\u001b[0m\u001b[0;34m.\u001b[0m\u001b[0mshould_sync\u001b[0m\u001b[0;34m:\u001b[0m\u001b[0;34m\u001b[0m\u001b[0;34m\u001b[0m\u001b[0m\n\u001b[1;32m   1652\u001b[0m                                 \u001b[0mcontext\u001b[0m\u001b[0;34m.\u001b[0m\u001b[0masync_wait\u001b[0m\u001b[0;34m(\u001b[0m\u001b[0;34m)\u001b[0m\u001b[0;34m\u001b[0m\u001b[0;34m\u001b[0m\u001b[0m\n",
            "\u001b[0;32m/usr/local/lib/python3.8/dist-packages/tensorflow/python/util/traceback_utils.py\u001b[0m in \u001b[0;36merror_handler\u001b[0;34m(*args, **kwargs)\u001b[0m\n\u001b[1;32m    148\u001b[0m     \u001b[0mfiltered_tb\u001b[0m \u001b[0;34m=\u001b[0m \u001b[0;32mNone\u001b[0m\u001b[0;34m\u001b[0m\u001b[0;34m\u001b[0m\u001b[0m\n\u001b[1;32m    149\u001b[0m     \u001b[0;32mtry\u001b[0m\u001b[0;34m:\u001b[0m\u001b[0;34m\u001b[0m\u001b[0;34m\u001b[0m\u001b[0m\n\u001b[0;32m--> 150\u001b[0;31m       \u001b[0;32mreturn\u001b[0m \u001b[0mfn\u001b[0m\u001b[0;34m(\u001b[0m\u001b[0;34m*\u001b[0m\u001b[0margs\u001b[0m\u001b[0;34m,\u001b[0m \u001b[0;34m**\u001b[0m\u001b[0mkwargs\u001b[0m\u001b[0;34m)\u001b[0m\u001b[0;34m\u001b[0m\u001b[0;34m\u001b[0m\u001b[0m\n\u001b[0m\u001b[1;32m    151\u001b[0m     \u001b[0;32mexcept\u001b[0m \u001b[0mException\u001b[0m \u001b[0;32mas\u001b[0m \u001b[0me\u001b[0m\u001b[0;34m:\u001b[0m\u001b[0;34m\u001b[0m\u001b[0;34m\u001b[0m\u001b[0m\n\u001b[1;32m    152\u001b[0m       \u001b[0mfiltered_tb\u001b[0m \u001b[0;34m=\u001b[0m \u001b[0m_process_traceback_frames\u001b[0m\u001b[0;34m(\u001b[0m\u001b[0me\u001b[0m\u001b[0;34m.\u001b[0m\u001b[0m__traceback__\u001b[0m\u001b[0;34m)\u001b[0m\u001b[0;34m\u001b[0m\u001b[0;34m\u001b[0m\u001b[0m\n",
            "\u001b[0;32m/usr/local/lib/python3.8/dist-packages/tensorflow/python/eager/polymorphic_function/polymorphic_function.py\u001b[0m in \u001b[0;36m__call__\u001b[0;34m(self, *args, **kwds)\u001b[0m\n\u001b[1;32m    878\u001b[0m \u001b[0;34m\u001b[0m\u001b[0m\n\u001b[1;32m    879\u001b[0m       \u001b[0;32mwith\u001b[0m \u001b[0mOptionalXlaContext\u001b[0m\u001b[0;34m(\u001b[0m\u001b[0mself\u001b[0m\u001b[0;34m.\u001b[0m\u001b[0m_jit_compile\u001b[0m\u001b[0;34m)\u001b[0m\u001b[0;34m:\u001b[0m\u001b[0;34m\u001b[0m\u001b[0;34m\u001b[0m\u001b[0m\n\u001b[0;32m--> 880\u001b[0;31m         \u001b[0mresult\u001b[0m \u001b[0;34m=\u001b[0m \u001b[0mself\u001b[0m\u001b[0;34m.\u001b[0m\u001b[0m_call\u001b[0m\u001b[0;34m(\u001b[0m\u001b[0;34m*\u001b[0m\u001b[0margs\u001b[0m\u001b[0;34m,\u001b[0m \u001b[0;34m**\u001b[0m\u001b[0mkwds\u001b[0m\u001b[0;34m)\u001b[0m\u001b[0;34m\u001b[0m\u001b[0;34m\u001b[0m\u001b[0m\n\u001b[0m\u001b[1;32m    881\u001b[0m \u001b[0;34m\u001b[0m\u001b[0m\n\u001b[1;32m    882\u001b[0m       \u001b[0mnew_tracing_count\u001b[0m \u001b[0;34m=\u001b[0m \u001b[0mself\u001b[0m\u001b[0;34m.\u001b[0m\u001b[0mexperimental_get_tracing_count\u001b[0m\u001b[0;34m(\u001b[0m\u001b[0;34m)\u001b[0m\u001b[0;34m\u001b[0m\u001b[0;34m\u001b[0m\u001b[0m\n",
            "\u001b[0;32m/usr/local/lib/python3.8/dist-packages/tensorflow/python/eager/polymorphic_function/polymorphic_function.py\u001b[0m in \u001b[0;36m_call\u001b[0;34m(self, *args, **kwds)\u001b[0m\n\u001b[1;32m    910\u001b[0m       \u001b[0;31m# In this case we have created variables on the first call, so we run the\u001b[0m\u001b[0;34m\u001b[0m\u001b[0;34m\u001b[0m\u001b[0;34m\u001b[0m\u001b[0m\n\u001b[1;32m    911\u001b[0m       \u001b[0;31m# defunned version which is guaranteed to never create variables.\u001b[0m\u001b[0;34m\u001b[0m\u001b[0;34m\u001b[0m\u001b[0;34m\u001b[0m\u001b[0m\n\u001b[0;32m--> 912\u001b[0;31m       \u001b[0;32mreturn\u001b[0m \u001b[0mself\u001b[0m\u001b[0;34m.\u001b[0m\u001b[0m_no_variable_creation_fn\u001b[0m\u001b[0;34m(\u001b[0m\u001b[0;34m*\u001b[0m\u001b[0margs\u001b[0m\u001b[0;34m,\u001b[0m \u001b[0;34m**\u001b[0m\u001b[0mkwds\u001b[0m\u001b[0;34m)\u001b[0m  \u001b[0;31m# pylint: disable=not-callable\u001b[0m\u001b[0;34m\u001b[0m\u001b[0;34m\u001b[0m\u001b[0m\n\u001b[0m\u001b[1;32m    913\u001b[0m     \u001b[0;32melif\u001b[0m \u001b[0mself\u001b[0m\u001b[0;34m.\u001b[0m\u001b[0m_variable_creation_fn\u001b[0m \u001b[0;32mis\u001b[0m \u001b[0;32mnot\u001b[0m \u001b[0;32mNone\u001b[0m\u001b[0;34m:\u001b[0m\u001b[0;34m\u001b[0m\u001b[0;34m\u001b[0m\u001b[0m\n\u001b[1;32m    914\u001b[0m       \u001b[0;31m# Release the lock early so that multiple threads can perform the call\u001b[0m\u001b[0;34m\u001b[0m\u001b[0;34m\u001b[0m\u001b[0;34m\u001b[0m\u001b[0m\n",
            "\u001b[0;32m/usr/local/lib/python3.8/dist-packages/tensorflow/python/eager/polymorphic_function/tracing_compiler.py\u001b[0m in \u001b[0;36m__call__\u001b[0;34m(self, *args, **kwargs)\u001b[0m\n\u001b[1;32m    132\u001b[0m       (concrete_function,\n\u001b[1;32m    133\u001b[0m        filtered_flat_args) = self._maybe_define_function(args, kwargs)\n\u001b[0;32m--> 134\u001b[0;31m     return concrete_function._call_flat(\n\u001b[0m\u001b[1;32m    135\u001b[0m         filtered_flat_args, captured_inputs=concrete_function.captured_inputs)  # pylint: disable=protected-access\n\u001b[1;32m    136\u001b[0m \u001b[0;34m\u001b[0m\u001b[0m\n",
            "\u001b[0;32m/usr/local/lib/python3.8/dist-packages/tensorflow/python/eager/polymorphic_function/monomorphic_function.py\u001b[0m in \u001b[0;36m_call_flat\u001b[0;34m(self, args, captured_inputs, cancellation_manager)\u001b[0m\n\u001b[1;32m   1743\u001b[0m         and executing_eagerly):\n\u001b[1;32m   1744\u001b[0m       \u001b[0;31m# No tape is watching; skip to running the function.\u001b[0m\u001b[0;34m\u001b[0m\u001b[0;34m\u001b[0m\u001b[0;34m\u001b[0m\u001b[0m\n\u001b[0;32m-> 1745\u001b[0;31m       return self._build_call_outputs(self._inference_function.call(\n\u001b[0m\u001b[1;32m   1746\u001b[0m           ctx, args, cancellation_manager=cancellation_manager))\n\u001b[1;32m   1747\u001b[0m     forward_backward = self._select_forward_and_backward_functions(\n",
            "\u001b[0;32m/usr/local/lib/python3.8/dist-packages/tensorflow/python/eager/polymorphic_function/monomorphic_function.py\u001b[0m in \u001b[0;36mcall\u001b[0;34m(self, ctx, args, cancellation_manager)\u001b[0m\n\u001b[1;32m    376\u001b[0m       \u001b[0;32mwith\u001b[0m \u001b[0m_InterpolateFunctionError\u001b[0m\u001b[0;34m(\u001b[0m\u001b[0mself\u001b[0m\u001b[0;34m)\u001b[0m\u001b[0;34m:\u001b[0m\u001b[0;34m\u001b[0m\u001b[0;34m\u001b[0m\u001b[0m\n\u001b[1;32m    377\u001b[0m         \u001b[0;32mif\u001b[0m \u001b[0mcancellation_manager\u001b[0m \u001b[0;32mis\u001b[0m \u001b[0;32mNone\u001b[0m\u001b[0;34m:\u001b[0m\u001b[0;34m\u001b[0m\u001b[0;34m\u001b[0m\u001b[0m\n\u001b[0;32m--> 378\u001b[0;31m           outputs = execute.execute(\n\u001b[0m\u001b[1;32m    379\u001b[0m               \u001b[0mstr\u001b[0m\u001b[0;34m(\u001b[0m\u001b[0mself\u001b[0m\u001b[0;34m.\u001b[0m\u001b[0msignature\u001b[0m\u001b[0;34m.\u001b[0m\u001b[0mname\u001b[0m\u001b[0;34m)\u001b[0m\u001b[0;34m,\u001b[0m\u001b[0;34m\u001b[0m\u001b[0;34m\u001b[0m\u001b[0m\n\u001b[1;32m    380\u001b[0m               \u001b[0mnum_outputs\u001b[0m\u001b[0;34m=\u001b[0m\u001b[0mself\u001b[0m\u001b[0;34m.\u001b[0m\u001b[0m_num_outputs\u001b[0m\u001b[0;34m,\u001b[0m\u001b[0;34m\u001b[0m\u001b[0;34m\u001b[0m\u001b[0m\n",
            "\u001b[0;32m/usr/local/lib/python3.8/dist-packages/tensorflow/python/eager/execute.py\u001b[0m in \u001b[0;36mquick_execute\u001b[0;34m(op_name, num_outputs, inputs, attrs, ctx, name)\u001b[0m\n\u001b[1;32m     50\u001b[0m   \u001b[0;32mtry\u001b[0m\u001b[0;34m:\u001b[0m\u001b[0;34m\u001b[0m\u001b[0;34m\u001b[0m\u001b[0m\n\u001b[1;32m     51\u001b[0m     \u001b[0mctx\u001b[0m\u001b[0;34m.\u001b[0m\u001b[0mensure_initialized\u001b[0m\u001b[0;34m(\u001b[0m\u001b[0;34m)\u001b[0m\u001b[0;34m\u001b[0m\u001b[0;34m\u001b[0m\u001b[0m\n\u001b[0;32m---> 52\u001b[0;31m     tensors = pywrap_tfe.TFE_Py_Execute(ctx._handle, device_name, op_name,\n\u001b[0m\u001b[1;32m     53\u001b[0m                                         inputs, attrs, num_outputs)\n\u001b[1;32m     54\u001b[0m   \u001b[0;32mexcept\u001b[0m \u001b[0mcore\u001b[0m\u001b[0;34m.\u001b[0m\u001b[0m_NotOkStatusException\u001b[0m \u001b[0;32mas\u001b[0m \u001b[0me\u001b[0m\u001b[0;34m:\u001b[0m\u001b[0;34m\u001b[0m\u001b[0;34m\u001b[0m\u001b[0m\n",
            "\u001b[0;31mKeyboardInterrupt\u001b[0m: "
          ]
        }
      ]
    },
    {
      "cell_type": "code",
      "execution_count": null,
      "metadata": {
        "colab": {
          "base_uri": "https://localhost:8080/"
        },
        "id": "oIbtTlSQBQBH",
        "outputId": "0e574901-2d0f-4e96-8c6b-323844434749"
      },
      "outputs": [
        {
          "output_type": "stream",
          "name": "stdout",
          "text": [
            "Keras weights file (<HDF5 file \"variables.h5\" (mode r+)>) saving:\n",
            "...layers\n",
            "......dense\n",
            ".........vars\n",
            "............0\n",
            "............1\n",
            "......flatten\n",
            ".........vars\n",
            "......lstm\n",
            ".........cell\n",
            "............vars\n",
            "...............0\n",
            "...............1\n",
            "...............2\n",
            ".........vars\n",
            "......lstm_1\n",
            ".........cell\n",
            "............vars\n",
            "...............0\n",
            "...............1\n",
            "...............2\n",
            ".........vars\n",
            "......lstm_2\n",
            ".........cell\n",
            "............vars\n",
            "...............0\n",
            "...............1\n",
            "...............2\n",
            ".........vars\n",
            "......lstm_3\n",
            ".........cell\n",
            "............vars\n",
            "...............0\n",
            "...............1\n",
            "...............2\n",
            ".........vars\n",
            "......lstm_4\n",
            ".........cell\n",
            "............vars\n",
            "...............0\n",
            "...............1\n",
            "...............2\n",
            ".........vars\n",
            "......lstm_5\n",
            ".........cell\n",
            "............vars\n",
            "...............0\n",
            "...............1\n",
            "...............2\n",
            ".........vars\n",
            "...optimizer\n",
            "......vars\n",
            ".........0\n",
            "...vars\n",
            "Keras model archive saving:\n",
            "File Name                                             Modified             Size\n",
            "variables.h5                                   2023-02-28 22:29:30        79432\n",
            "metadata.json                                  2023-02-28 22:29:30           64\n",
            "config.json                                    2023-02-28 22:29:30         6050\n"
          ]
        }
      ],
      "source": [
        "pickle.dump(lstm, open('/content/drive/MyDrive/CICIDS2017/2022. Подключение к СИАСТ/End/Settings test ipynbs/lstm-5-13/lstm_5hidden13neurons.pkl', \"wb\"))"
      ]
    },
    {
      "cell_type": "markdown",
      "metadata": {
        "id": "mHCQU3U0IpOn"
      },
      "source": [
        "Получение данных от нейросети"
      ]
    },
    {
      "cell_type": "code",
      "execution_count": null,
      "metadata": {
        "colab": {
          "base_uri": "https://localhost:8080/"
        },
        "id": "qfcQ8hJ8EAAQ",
        "outputId": "e0224049-4073-45de-cea9-d0a2866f2e5a"
      },
      "outputs": [
        {
          "output_type": "stream",
          "name": "stdout",
          "text": [
            "222/222 [==============================] - 13s 47ms/step\n"
          ]
        }
      ],
      "source": [
        "y_pred1 = lstm.predict(X_test, batch_size=256)\n",
        "y_pred = np.argmax(y_pred1, axis=1)"
      ]
    },
    {
      "cell_type": "code",
      "source": [
        "y_pred1"
      ],
      "metadata": {
        "id": "F03oFVmfSp5i"
      },
      "execution_count": null,
      "outputs": []
    },
    {
      "cell_type": "markdown",
      "metadata": {
        "id": "5-_VYSkLItOW"
      },
      "source": [
        "Вычисление метрик "
      ]
    },
    {
      "cell_type": "code",
      "execution_count": null,
      "metadata": {
        "id": "cpBaXzCM2HTy",
        "colab": {
          "base_uri": "https://localhost:8080/"
        },
        "outputId": "0af494fd-010c-47d9-de5f-6adcb7051fa6"
      },
      "outputs": [
        {
          "output_type": "stream",
          "name": "stdout",
          "text": [
            "==============================Classification Report==============================\n",
            "              precision    recall  f1-score   support\n",
            "\n",
            "      Benign       0.99      0.95      0.97     28362\n",
            "      Attack       0.96      0.99      0.97     28393\n",
            "\n",
            "    accuracy                           0.97     56755\n",
            "   macro avg       0.97      0.97      0.97     56755\n",
            "weighted avg       0.97      0.97      0.97     56755\n",
            "\n",
            "==============================Confussion Matrix and metrics==============================\n",
            "Confussion Matrix: \n",
            " [[27069  1293]\n",
            " [  405 27988]]\n",
            "Accuracy:  0.9700819311073914\n",
            "recall: 0.9857359208255556\n",
            "precision: 0.9558416720740411\n",
            "f1 score: 0.9705586572805771\n",
            "ROC AUC: 0.9700733761098372\n",
            "Alghorythm marked 29281 as attack and 27474 packets as benign\n"
          ]
        }
      ],
      "source": [
        "from sklearn import metrics\n",
        "from sklearn.metrics import classification_report\n",
        "target_names = ['Benign', 'Attack']\n",
        "print('==============================Classification Report=============================='.format(i))\n",
        "print(classification_report(y_test, y_pred, target_names=target_names))\n",
        "print('==============================Confussion Matrix and metrics=============================='.format(i))\n",
        "tn, fp, fn, tp = confusion_matrix(y_test, y_pred).ravel()\n",
        "sum = tn + fp + fn + tp\n",
        "print('Confussion Matrix:', \"\\n\", confusion_matrix(y_test, y_pred))\n",
        "print(\"Accuracy: \", accuracy_score(y_test, y_pred))\n",
        "recall = tp / (tp + fn)\n",
        "print('recall:', recall)\n",
        "precision = tp / (tp + fp)\n",
        "print('precision:', precision)\n",
        "print('f1 score:', 2 * (precision * recall) / (precision + recall))\n",
        "print('ROC AUC:', roc_auc_score(y_test, y_pred))\n",
        "unique, counts = np.unique(y_pred, return_counts=True)\n",
        "count_list = dict(zip(unique, counts))\n",
        "print('Alghorythm marked', count_list[1], 'as attack and', count_list[0], \"packets as benign\")"
      ]
    },
    {
      "cell_type": "code",
      "source": [
        "#%load_ext tensorboard\n",
        "#%tensorboard --logdir \"/content/drive/MyDrive/CICIDS2017/2022. Подключение к СИАСТ/End/Bin_logs/\""
      ],
      "metadata": {
        "id": "dSIpAE-9inOe"
      },
      "execution_count": null,
      "outputs": []
    },
    {
      "cell_type": "markdown",
      "source": [
        "Автотестирование (Оч долго)"
      ],
      "metadata": {
        "id": "7ytHMbjS_7k4"
      }
    },
    {
      "cell_type": "code",
      "source": [
        "#import keras as K\n",
        "#def Create_model(hidden):\n",
        "    input = Input((23,1))\n",
        "    x = input\n",
        "    K.layers.LSTM(32, recurrent_activation='sigmoid', return_sequences=True, recurrent_dropout=0)(x)\n",
        "    for i in range(hidden):\n",
        "        x = K.layers.LSTM(32, recurrent_activation='sigmoid', return_sequences=True, recurrent_dropout=0)(x)\n",
        "    x = K.layers.Flatten()(x)\n",
        "    output = K.layers.Dense(2, activation = 'softmax')(x)\n",
        "    return K.Model(inputs=input, outputs=output)"
      ],
      "metadata": {
        "id": "o8INp-5FgFVe"
      },
      "execution_count": null,
      "outputs": []
    },
    {
      "cell_type": "code",
      "source": [
        "#def report(y_pred):\n",
        "  target_names = ['Benign', 'Attack']\n",
        "  print('==============================Classification Report=============================='.format(i))\n",
        "  print(classification_report(target, y_pred, target_names=target_names))\n",
        "  print('==============================Confussion Matrix and metrics=============================='.format(i))\n",
        "  tn, fp, fn, tp = confusion_matrix(target, y_pred).ravel()\n",
        "  sum = tn + fp + fn + tp\n",
        "  print('Confussion Matrix:', \"\\n\", confusion_matrix(target, y_pred))\n",
        "  print(\"Accuracy: \", accuracy_score(target, y_pred))\n",
        "  recall = tp / (tp + fn)\n",
        "  print('recall:', recall)\n",
        "  precision = tp / (tp + fp)\n",
        "  print('precision:', precision)\n",
        "  print('f1 score:', 2 * (precision * recall) / (precision + recall))\n",
        "  print('ROC AUC:', roc_auc_score(target, y_pred))\n",
        "  unique, counts = np.unique(y_pred, return_counts=True)\n",
        "  count_list = dict(zip(unique, counts))\n",
        "  print('Alghorythm marked', count_list[1], 'as attack and', count_list[0], \"packets as benign\")"
      ],
      "metadata": {
        "id": "yefliUXnj22d"
      },
      "execution_count": null,
      "outputs": []
    },
    {
      "cell_type": "code",
      "source": [
        "#def Testing(hidden, epochs):\n",
        "  for i in range(1, hidden, 1):  #Настройка кол-ва скрытых слоев\n",
        "    Model = Create_model(hidden);\n",
        "    Model.summary();\n",
        "    Model.compile(optimizer='adam', loss='binary_crossentropy', metrics='accuracy')\n",
        "    for z in range(0, 10, 5): #Настройка кол-ва эпох\n",
        "      Model.fit(data, to_categorical(target), epochs=epochs, batch_size=256, verbose=1);\n",
        "      y_pred1 = Model.predict(data, batch_size=256);\n",
        "      y_pred = np.argmax(y_pred1, axis=1);\n",
        "      report(y_pred);"
      ],
      "metadata": {
        "id": "2i_JqAwvj303"
      },
      "execution_count": null,
      "outputs": []
    },
    {
      "cell_type": "code",
      "source": [
        "#Testing(2, 2)"
      ],
      "metadata": {
        "id": "MKP_Tip0j4oo"
      },
      "execution_count": null,
      "outputs": []
    },
    {
      "cell_type": "code",
      "source": [
        "#tf.keras.backend.clear_session()"
      ],
      "metadata": {
        "id": "neL7JYNCnCrX"
      },
      "execution_count": null,
      "outputs": []
    }
  ],
  "metadata": {
    "colab": {
      "collapsed_sections": [
        "iLDYX7f3R8PM",
        "uXjE6iUiV0ZY",
        "0soqw_7WZp78",
        "sqqcYR9qjqt1",
        "GLjm452FsWCU",
        "nEbI2mUPsibk",
        "6Q_jJrdKwSZn",
        "Ox7UALTQwaC9",
        "W4WTfQkOwhMO",
        "pJ8Cp7me1dOO",
        "zqdP9FoJ7yrH",
        "gWaffcGnSXJw",
        "CFL-FZ7121i5",
        "UKErKmmX_Yqg",
        "-iErspjyIBm-",
        "hbDyAb0SL_vN",
        "Pv0Zm3uTiEVa",
        "9aMHY_FPiT7A",
        "ryynLfQOxWEw",
        "WvOQfu8Bh3Sc",
        "XNvYteblMh50",
        "RdSZw3kbh071",
        "WhCFTFSwSQiT",
        "jEtpubU7T5L3",
        "mHCQU3U0IpOn",
        "5-_VYSkLItOW",
        "_aa2qkaxI5xv",
        "Jm1QbPYgI_U2",
        "4Bk4IdtCA7ss",
        "RWd6LwZbBAeT",
        "r-li25gkJCVe",
        "22Q88hM6JFMI",
        "crodovKFJHpu",
        "XV3IqZTrJohu",
        "dO9ES_jxT8T3"
      ],
      "provenance": []
    },
    "gpuClass": "standard",
    "kernelspec": {
      "display_name": "Python 3",
      "name": "python3"
    },
    "language_info": {
      "name": "python"
    }
  },
  "nbformat": 4,
  "nbformat_minor": 0
}