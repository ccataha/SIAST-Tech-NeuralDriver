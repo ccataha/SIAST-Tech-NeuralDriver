{
  "cells": [
    {
      "cell_type": "markdown",
      "metadata": {
        "id": "iLDYX7f3R8PM"
      },
      "source": [
        "# 1. Импорт модулей."
      ]
    },
    {
      "cell_type": "code",
      "execution_count": null,
      "metadata": {
        "id": "MSu0tV9mMFDK"
      },
      "outputs": [],
      "source": [
        "from google.colab import drive\n",
        "from tensorflow.keras.layers import *\n",
        "from tensorflow.keras.metrics import *\n",
        "from tensorflow.keras.models import Sequential, Model\n",
        "import numpy as np\n",
        "import pandas as pd\n",
        "import os\n",
        "import tensorflow.keras.backend as K\n",
        "from sklearn.metrics import *\n",
        "from tensorflow.keras.utils import to_categorical\n",
        "import tensorflow as tf\n",
        "from tensorflow.keras.layers.experimental import preprocessing\n",
        "from sklearn.preprocessing import MinMaxScaler\n",
        "import pickle\n",
        "import seaborn as sns\n",
        "from matplotlib import pyplot as plt \n",
        "from sklearn.feature_selection import SelectKBest\n",
        "from sklearn.feature_selection import f_classif\n",
        "from sklearn.model_selection import train_test_split\n",
        "from sklearn import metrics\n",
        "from sklearn.metrics import classification_report\n",
        "from tensorflow.keras.models import load_model"
      ]
    },
    {
      "cell_type": "code",
      "execution_count": null,
      "metadata": {
        "colab": {
          "base_uri": "https://localhost:8080/"
        },
        "id": "9vkpG3tofUp5",
        "outputId": "3415c351-bef6-49d5-a4d3-0f6fdfa0e4c9"
      },
      "outputs": [
        {
          "output_type": "stream",
          "name": "stdout",
          "text": [
            "Mounted at /content/drive\n"
          ]
        }
      ],
      "source": [
        "drive.mount('/content/drive')"
      ]
    },
    {
      "cell_type": "markdown",
      "source": [
        "#2. Чтение датасета и отброс Benign"
      ],
      "metadata": {
        "id": "HUJz3efJvhmw"
      }
    },
    {
      "cell_type": "code",
      "source": [
        "df_x = pd.read_csv('/content/drive/MyDrive/CICIDS2017/2022. Подключение к СИАСТ/x_smt.csv')\n",
        "#df_x.rename(columns={\" Label\": \"label\"}, inplace = True)\n",
        "df_x = df_x[df_x.label != \"BENIGN\"] \n",
        "print(df_x.head(1))\n",
        "#df_x.to_csv('/content/drive/MyDrive/x_smt_no_benign', index=False)\n",
        "#file = pd.read_csv('/content/drive/MyDrive/x_smt_no_benign')\n",
        "from sklearn.preprocessing import LabelEncoder\n",
        "le = LabelEncoder()\n",
        "target = le.fit_transform(df_x[\"label\"])\n",
        "data = df_x.drop(\"label\", axis=1)\n",
        "print(data.head(1))\n",
        "le.get_params(deep = True)\n",
        "print(le.classes_)"
      ],
      "metadata": {
        "id": "-OCFtDYTvqo5"
      },
      "execution_count": null,
      "outputs": []
    },
    {
      "cell_type": "markdown",
      "source": [
        "# 3. Решейпинг.\n"
      ],
      "metadata": {
        "id": "AbS4I-nqvvnQ"
      }
    },
    {
      "cell_type": "code",
      "source": [
        "data = np.array(data)\n",
        "target = np.array(target)\n",
        "print(data.shape, target.shape)"
      ],
      "metadata": {
        "id": "JDFB4xWZvxf3"
      },
      "execution_count": null,
      "outputs": []
    },
    {
      "cell_type": "code",
      "source": [
        "#scaler = pickle.load(open('/content/drive/MyDrive/CICIDS2017/devtest/scaler.pkl', 'rb'))"
      ],
      "metadata": {
        "id": "z27NXnwTv3wg"
      },
      "execution_count": null,
      "outputs": []
    },
    {
      "cell_type": "code",
      "source": [
        "scaler = MinMaxScaler(feature_range=(-1,1))\n",
        "scaler.fit(np.nan_to_num(data).astype(float))\n",
        "data = scaler.transform(np.nan_to_num(data).astype(float))\n",
        "print(data.shape)\n",
        "data = data.reshape(data.shape[0], data.shape[1], 1)\n",
        "print(data.shape)"
      ],
      "metadata": {
        "id": "RCwRI8NLv5pn"
      },
      "execution_count": null,
      "outputs": []
    },
    {
      "cell_type": "markdown",
      "metadata": {
        "id": "_aa2qkaxI5xv"
      },
      "source": [
        "# 4. Моделирование мультиклассовой нейросети KNN.\n"
      ]
    },
    {
      "cell_type": "markdown",
      "metadata": {
        "id": "r-li25gkJCVe"
      },
      "source": [
        "Моделирование мультиклассовой нейросети"
      ]
    },
    {
      "cell_type": "code",
      "execution_count": null,
      "metadata": {
        "id": "tJNq4crHB8GM",
        "colab": {
          "base_uri": "https://localhost:8080/"
        },
        "outputId": "c97e0cd7-7528-439b-8bf2-870b5d14b3be"
      },
      "outputs": [
        {
          "output_type": "stream",
          "name": "stdout",
          "text": [
            "Model: \"sequential\"\n",
            "_________________________________________________________________\n",
            " Layer (type)                Output Shape              Param #   \n",
            "=================================================================\n",
            " batch_normalization (BatchN  (None, 23)               92        \n",
            " ormalization)                                                   \n",
            "                                                                 \n",
            " dense (Dense)               (None, 128)               3072      \n",
            "                                                                 \n",
            " dense_1 (Dense)             (None, 128)               16512     \n",
            "                                                                 \n",
            " dense_2 (Dense)             (None, 128)               16512     \n",
            "                                                                 \n",
            " dense_3 (Dense)             (None, 128)               16512     \n",
            "                                                                 \n",
            " dense_4 (Dense)             (None, 128)               16512     \n",
            "                                                                 \n",
            " dense_5 (Dense)             (None, 128)               16512     \n",
            "                                                                 \n",
            " dense_6 (Dense)             (None, 14)                1806      \n",
            "                                                                 \n",
            "=================================================================\n",
            "Total params: 87,530\n",
            "Trainable params: 87,484\n",
            "Non-trainable params: 46\n",
            "_________________________________________________________________\n"
          ]
        }
      ],
      "source": [
        "tf.keras.backend.clear_session()\n",
        "\n",
        "knn = Sequential()\n",
        "knn.add(InputLayer((data.shape[1],)))\n",
        "knn.add(BatchNormalization())\n",
        "for i in range(6):\n",
        "  knn.add(Dense(128, activation='relu'))\n",
        "knn.add(Dense(14, activation='softmax'))\n",
        "#optimizer = tf.keras.optimizers.Adam(learning_rate=1e-4)\n",
        "knn.compile(optimizer='adam', loss='sparse_categorical_crossentropy', metrics='accuracy')\n",
        "knn.summary()"
      ]
    },
    {
      "cell_type": "markdown",
      "metadata": {
        "id": "22Q88hM6JFMI"
      },
      "source": [
        "Тренировка второй нейросети"
      ]
    },
    {
      "cell_type": "code",
      "execution_count": null,
      "metadata": {
        "colab": {
          "base_uri": "https://localhost:8080/"
        },
        "id": "v2kScnK6_cTZ",
        "outputId": "0be5a90b-f922-44ba-c05f-2619c02d0e0c"
      },
      "outputs": [
        {
          "output_type": "stream",
          "name": "stdout",
          "text": [
            "Epoch 1/100\n",
            "554/554 [==============================] - 6s 9ms/step - loss: 0.5823 - accuracy: 0.7648\n",
            "Epoch 2/100\n",
            "554/554 [==============================] - 5s 9ms/step - loss: 0.3962 - accuracy: 0.8189\n",
            "Epoch 3/100\n",
            "554/554 [==============================] - 5s 9ms/step - loss: 0.3609 - accuracy: 0.8317\n",
            "Epoch 4/100\n",
            "554/554 [==============================] - 5s 8ms/step - loss: 0.3560 - accuracy: 0.8316\n",
            "Epoch 5/100\n",
            "554/554 [==============================] - 5s 8ms/step - loss: 0.3455 - accuracy: 0.8352\n",
            "Epoch 6/100\n",
            "554/554 [==============================] - 5s 9ms/step - loss: 0.3382 - accuracy: 0.8368\n",
            "Epoch 7/100\n",
            "554/554 [==============================] - 5s 8ms/step - loss: 0.3375 - accuracy: 0.8370\n",
            "Epoch 8/100\n",
            "554/554 [==============================] - 5s 8ms/step - loss: 0.3412 - accuracy: 0.8372\n",
            "Epoch 9/100\n",
            "554/554 [==============================] - 5s 8ms/step - loss: 0.3306 - accuracy: 0.8404\n",
            "Epoch 10/100\n",
            "554/554 [==============================] - 5s 8ms/step - loss: 0.3310 - accuracy: 0.8411\n",
            "Epoch 11/100\n",
            "554/554 [==============================] - 5s 9ms/step - loss: 0.3251 - accuracy: 0.8424\n",
            "Epoch 12/100\n",
            "554/554 [==============================] - 5s 8ms/step - loss: 0.3266 - accuracy: 0.8407\n",
            "Epoch 13/100\n",
            "554/554 [==============================] - 5s 8ms/step - loss: 0.3273 - accuracy: 0.8423\n",
            "Epoch 14/100\n",
            "554/554 [==============================] - 5s 9ms/step - loss: 0.3196 - accuracy: 0.8440\n",
            "Epoch 15/100\n",
            "554/554 [==============================] - 5s 9ms/step - loss: 0.3193 - accuracy: 0.8436\n",
            "Epoch 16/100\n",
            "554/554 [==============================] - 5s 8ms/step - loss: 0.3251 - accuracy: 0.8414\n",
            "Epoch 17/100\n",
            "554/554 [==============================] - 5s 9ms/step - loss: 0.3141 - accuracy: 0.8470\n",
            "Epoch 18/100\n",
            "554/554 [==============================] - 5s 9ms/step - loss: 0.3189 - accuracy: 0.8450\n",
            "Epoch 19/100\n",
            "554/554 [==============================] - 5s 9ms/step - loss: 0.3166 - accuracy: 0.8454\n",
            "Epoch 20/100\n",
            "554/554 [==============================] - 5s 8ms/step - loss: 0.3159 - accuracy: 0.8461\n",
            "Epoch 21/100\n",
            "554/554 [==============================] - 5s 8ms/step - loss: 0.3134 - accuracy: 0.8464\n",
            "Epoch 22/100\n",
            "554/554 [==============================] - 5s 9ms/step - loss: 0.3227 - accuracy: 0.8450\n",
            "Epoch 23/100\n",
            "554/554 [==============================] - 5s 9ms/step - loss: 0.3215 - accuracy: 0.8437\n",
            "Epoch 24/100\n",
            "554/554 [==============================] - 5s 8ms/step - loss: 0.3113 - accuracy: 0.8462\n",
            "Epoch 25/100\n",
            "554/554 [==============================] - 5s 9ms/step - loss: 0.3145 - accuracy: 0.8465\n",
            "Epoch 26/100\n",
            "554/554 [==============================] - 5s 8ms/step - loss: 0.3116 - accuracy: 0.8486\n",
            "Epoch 27/100\n",
            "554/554 [==============================] - 5s 9ms/step - loss: 0.3114 - accuracy: 0.8472\n",
            "Epoch 28/100\n",
            "554/554 [==============================] - 5s 8ms/step - loss: 0.3137 - accuracy: 0.8479\n",
            "Epoch 29/100\n",
            "554/554 [==============================] - 5s 9ms/step - loss: 0.3110 - accuracy: 0.8478\n",
            "Epoch 30/100\n",
            "554/554 [==============================] - 5s 9ms/step - loss: 0.3133 - accuracy: 0.8477\n",
            "Epoch 31/100\n",
            "554/554 [==============================] - 5s 9ms/step - loss: 0.3078 - accuracy: 0.8507\n",
            "Epoch 32/100\n",
            "554/554 [==============================] - 7s 12ms/step - loss: 0.3092 - accuracy: 0.8486\n",
            "Epoch 33/100\n",
            "554/554 [==============================] - 5s 9ms/step - loss: 0.3059 - accuracy: 0.8501\n",
            "Epoch 34/100\n",
            "554/554 [==============================] - 5s 9ms/step - loss: 0.3110 - accuracy: 0.8486\n",
            "Epoch 35/100\n",
            "554/554 [==============================] - 5s 8ms/step - loss: 0.3056 - accuracy: 0.8500\n",
            "Epoch 36/100\n",
            "554/554 [==============================] - 5s 8ms/step - loss: 0.3122 - accuracy: 0.8478\n",
            "Epoch 37/100\n",
            "554/554 [==============================] - 5s 8ms/step - loss: 0.3062 - accuracy: 0.8507\n",
            "Epoch 38/100\n",
            "554/554 [==============================] - 5s 9ms/step - loss: 0.3074 - accuracy: 0.8507\n",
            "Epoch 39/100\n",
            "554/554 [==============================] - 5s 9ms/step - loss: 0.3065 - accuracy: 0.8508\n",
            "Epoch 40/100\n",
            "554/554 [==============================] - 5s 9ms/step - loss: 0.3012 - accuracy: 0.8524\n",
            "Epoch 41/100\n",
            "554/554 [==============================] - 5s 8ms/step - loss: 0.3060 - accuracy: 0.8507\n",
            "Epoch 42/100\n",
            "554/554 [==============================] - 5s 9ms/step - loss: 0.3076 - accuracy: 0.8497\n",
            "Epoch 43/100\n",
            "554/554 [==============================] - 5s 8ms/step - loss: 0.3120 - accuracy: 0.8482\n",
            "Epoch 44/100\n",
            "554/554 [==============================] - 5s 9ms/step - loss: 0.3022 - accuracy: 0.8523\n",
            "Epoch 45/100\n",
            "554/554 [==============================] - 5s 9ms/step - loss: 0.3033 - accuracy: 0.8505\n",
            "Epoch 46/100\n",
            "554/554 [==============================] - 5s 9ms/step - loss: 0.3073 - accuracy: 0.8496\n",
            "Epoch 47/100\n",
            "554/554 [==============================] - 5s 9ms/step - loss: 0.3042 - accuracy: 0.8524\n",
            "Epoch 48/100\n",
            "554/554 [==============================] - 5s 9ms/step - loss: 0.3037 - accuracy: 0.8511\n",
            "Epoch 49/100\n",
            "554/554 [==============================] - 5s 9ms/step - loss: 0.2996 - accuracy: 0.8540\n",
            "Epoch 50/100\n",
            "554/554 [==============================] - 5s 9ms/step - loss: 0.3041 - accuracy: 0.8522\n",
            "Epoch 51/100\n",
            "554/554 [==============================] - 5s 9ms/step - loss: 0.2994 - accuracy: 0.8521\n",
            "Epoch 52/100\n",
            "554/554 [==============================] - 5s 9ms/step - loss: 0.3028 - accuracy: 0.8527\n",
            "Epoch 53/100\n",
            "554/554 [==============================] - 5s 8ms/step - loss: 0.3013 - accuracy: 0.8527\n",
            "Epoch 54/100\n",
            "554/554 [==============================] - 5s 9ms/step - loss: 0.3011 - accuracy: 0.8516\n",
            "Epoch 55/100\n",
            "554/554 [==============================] - 5s 9ms/step - loss: 0.3020 - accuracy: 0.8527\n",
            "Epoch 56/100\n",
            "554/554 [==============================] - 5s 9ms/step - loss: 0.2987 - accuracy: 0.8537\n",
            "Epoch 57/100\n",
            "554/554 [==============================] - 5s 8ms/step - loss: 0.3071 - accuracy: 0.8512\n",
            "Epoch 58/100\n",
            "554/554 [==============================] - 5s 9ms/step - loss: 0.3041 - accuracy: 0.8522\n",
            "Epoch 59/100\n",
            "554/554 [==============================] - 5s 9ms/step - loss: 0.2979 - accuracy: 0.8537\n",
            "Epoch 60/100\n",
            "554/554 [==============================] - 5s 9ms/step - loss: 0.2982 - accuracy: 0.8552\n",
            "Epoch 61/100\n",
            "554/554 [==============================] - 5s 9ms/step - loss: 0.3017 - accuracy: 0.8514\n",
            "Epoch 62/100\n",
            "554/554 [==============================] - 5s 9ms/step - loss: 0.3028 - accuracy: 0.8504\n",
            "Epoch 63/100\n",
            "554/554 [==============================] - 5s 9ms/step - loss: 0.2982 - accuracy: 0.8539\n",
            "Epoch 64/100\n",
            "554/554 [==============================] - 5s 9ms/step - loss: 0.2975 - accuracy: 0.8538\n",
            "Epoch 65/100\n",
            "554/554 [==============================] - 5s 9ms/step - loss: 0.2982 - accuracy: 0.8546\n",
            "Epoch 66/100\n",
            "554/554 [==============================] - 5s 9ms/step - loss: 0.2951 - accuracy: 0.8543\n",
            "Epoch 67/100\n",
            "554/554 [==============================] - 5s 9ms/step - loss: 0.3043 - accuracy: 0.8522\n",
            "Epoch 68/100\n",
            "554/554 [==============================] - 5s 9ms/step - loss: 0.2949 - accuracy: 0.8557\n",
            "Epoch 69/100\n",
            "554/554 [==============================] - 5s 8ms/step - loss: 0.3024 - accuracy: 0.8534\n",
            "Epoch 70/100\n",
            "554/554 [==============================] - 6s 10ms/step - loss: 0.3044 - accuracy: 0.8531\n",
            "Epoch 71/100\n",
            "554/554 [==============================] - 6s 10ms/step - loss: 0.3010 - accuracy: 0.8531\n",
            "Epoch 72/100\n",
            "554/554 [==============================] - 5s 9ms/step - loss: 0.2989 - accuracy: 0.8544\n",
            "Epoch 73/100\n",
            "554/554 [==============================] - 5s 8ms/step - loss: 0.2951 - accuracy: 0.8549\n",
            "Epoch 74/100\n",
            "554/554 [==============================] - 5s 8ms/step - loss: 0.2967 - accuracy: 0.8542\n",
            "Epoch 75/100\n",
            "554/554 [==============================] - 5s 8ms/step - loss: 0.2986 - accuracy: 0.8546\n",
            "Epoch 76/100\n",
            "554/554 [==============================] - 4s 8ms/step - loss: 0.2945 - accuracy: 0.8562\n",
            "Epoch 77/100\n",
            "554/554 [==============================] - 5s 8ms/step - loss: 0.3009 - accuracy: 0.8531\n",
            "Epoch 78/100\n",
            "554/554 [==============================] - 5s 8ms/step - loss: 0.2966 - accuracy: 0.8545\n",
            "Epoch 79/100\n",
            "554/554 [==============================] - 5s 8ms/step - loss: 0.2970 - accuracy: 0.8548\n",
            "Epoch 80/100\n",
            "554/554 [==============================] - 5s 8ms/step - loss: 0.2997 - accuracy: 0.8527\n",
            "Epoch 81/100\n",
            "554/554 [==============================] - 5s 8ms/step - loss: 0.2916 - accuracy: 0.8561\n",
            "Epoch 82/100\n",
            "554/554 [==============================] - 4s 8ms/step - loss: 0.2974 - accuracy: 0.8536\n",
            "Epoch 83/100\n",
            "554/554 [==============================] - 5s 8ms/step - loss: 0.2995 - accuracy: 0.8548\n",
            "Epoch 84/100\n",
            "554/554 [==============================] - 5s 9ms/step - loss: 0.2980 - accuracy: 0.8533\n",
            "Epoch 85/100\n",
            "554/554 [==============================] - 5s 9ms/step - loss: 0.2958 - accuracy: 0.8546\n",
            "Epoch 86/100\n",
            "554/554 [==============================] - 5s 9ms/step - loss: 0.2964 - accuracy: 0.8547\n",
            "Epoch 87/100\n",
            "554/554 [==============================] - 5s 9ms/step - loss: 0.2923 - accuracy: 0.8576\n",
            "Epoch 88/100\n",
            "554/554 [==============================] - 5s 9ms/step - loss: 0.2985 - accuracy: 0.8530\n",
            "Epoch 89/100\n",
            "554/554 [==============================] - 5s 9ms/step - loss: 0.2993 - accuracy: 0.8538\n",
            "Epoch 90/100\n",
            "554/554 [==============================] - 5s 9ms/step - loss: 0.2973 - accuracy: 0.8546\n",
            "Epoch 91/100\n",
            "554/554 [==============================] - 5s 9ms/step - loss: 0.2961 - accuracy: 0.8547\n",
            "Epoch 92/100\n",
            "554/554 [==============================] - 5s 8ms/step - loss: 0.2985 - accuracy: 0.8545\n",
            "Epoch 93/100\n",
            "554/554 [==============================] - 5s 8ms/step - loss: 0.2959 - accuracy: 0.8549\n",
            "Epoch 94/100\n",
            "554/554 [==============================] - 5s 8ms/step - loss: 0.2920 - accuracy: 0.8570\n",
            "Epoch 95/100\n",
            "554/554 [==============================] - 5s 8ms/step - loss: 0.2981 - accuracy: 0.8558\n",
            "Epoch 96/100\n",
            "554/554 [==============================] - 5s 9ms/step - loss: 0.2938 - accuracy: 0.8560\n",
            "Epoch 97/100\n",
            "554/554 [==============================] - 5s 8ms/step - loss: 0.2922 - accuracy: 0.8567\n",
            "Epoch 98/100\n",
            "554/554 [==============================] - 5s 8ms/step - loss: 0.2929 - accuracy: 0.8575\n",
            "Epoch 99/100\n",
            "554/554 [==============================] - 5s 8ms/step - loss: 0.2939 - accuracy: 0.8563\n",
            "Epoch 100/100\n",
            "554/554 [==============================] - 5s 8ms/step - loss: 0.2937 - accuracy: 0.8567\n"
          ]
        },
        {
          "output_type": "execute_result",
          "data": {
            "text/plain": [
              "<keras.callbacks.History at 0x7f5ecadbaad0>"
            ]
          },
          "metadata": {},
          "execution_count": 17
        }
      ],
      "source": [
        "knn.fit(data.astype(float), target, epochs=100, batch_size=256, verbose=1)\n",
        "#pickle.dump(knn, open('/content/drive/MyDrive/CICIDS2017/2022. Подключение к СИАСТ/knn.pkl', 'wb'))\n",
        "#knn.save('/content/drive/MyDrive/CICIDS2017/devtest/knn.h5')"
      ]
    },
    {
      "cell_type": "code",
      "execution_count": null,
      "metadata": {
        "id": "FqqDMBw1Rvps"
      },
      "outputs": [],
      "source": [
        "pickle.dump(knn, open('/content/drive/MyDrive/CICIDS2017/2022. Подключение к СИАСТ/knn.pkl', 'wb'))"
      ]
    },
    {
      "cell_type": "markdown",
      "metadata": {
        "id": "crodovKFJHpu"
      },
      "source": [
        "Получение данных со второй нейросети"
      ]
    },
    {
      "cell_type": "code",
      "execution_count": null,
      "metadata": {
        "id": "nDOmyBHxF7xc"
      },
      "outputs": [],
      "source": [
        "y_pred1 = knn.predict(data)\n",
        "y_pred = np.argmax(y_pred1, axis=1)"
      ]
    },
    {
      "cell_type": "markdown",
      "metadata": {
        "id": "XV3IqZTrJohu"
      },
      "source": [
        "Вычисление метрик и количество классов"
      ]
    },
    {
      "cell_type": "code",
      "execution_count": null,
      "metadata": {
        "colab": {
          "base_uri": "https://localhost:8080/"
        },
        "id": "xqag4N7N--N8",
        "outputId": "66e50633-c2d5-452f-ec7b-f574fa151d84"
      },
      "outputs": [
        {
          "output_type": "stream",
          "name": "stdout",
          "text": [
            "==============================Classification Report==============================\n",
            "                            precision    recall  f1-score   support\n",
            "\n",
            "                       Bot       1.00      1.00      1.00     10241\n",
            "                      DDoS       0.99      0.97      0.98     10222\n",
            "             DoS GoldenEye       1.00      1.00      1.00     10242\n",
            "                  DoS Hulk       0.94      0.71      0.81     10223\n",
            "          DoS Slowhttptest       0.99      0.94      0.96     10228\n",
            "             DoS slowloris       0.93      0.87      0.90     10225\n",
            "               FTP-Patator       0.91      0.99      0.95     10239\n",
            "                Heartbleed       1.00      1.00      1.00     10242\n",
            "              Infiltration       1.00      0.99      0.99     10241\n",
            "                  PortScan       1.00      1.00      1.00     10240\n",
            "               SSH-Patator       0.56      0.99      0.71     10237\n",
            "  Web Attack � Brute Force       0.82      0.15      0.25      9443\n",
            "Web Attack � Sql Injection       1.00      0.56      0.72     10237\n",
            "          Web Attack � XSS       0.55      0.96      0.70      9442\n",
            "\n",
            "                  accuracy                           0.87    141702\n",
            "                 macro avg       0.90      0.87      0.86    141702\n",
            "              weighted avg       0.91      0.87      0.86    141702\n",
            "\n",
            "==============================Confussion Matrix and metrics==============================\n",
            "recall: 0.8701076907877094\n",
            "precision: 0.9071812263645075\n",
            "accuracy: 0.8701076907877094\n",
            "f1 score: 0.8593918064654296\n",
            "ROC AUC: 0.9918625646266338\n",
            "Confussion Matrix: \n",
            " [[10234     0     0     0     0     0     0     0     0     0     6     1\n",
            "      0     0]\n",
            " [    5  9912     0   305     0     0     0     0     0     0     0     0\n",
            "      0     0]\n",
            " [    0     0 10242     0     0     0     0     0     0     0     0     0\n",
            "      0     0]\n",
            " [    0    95     0  7266     0     2     0     0     0     0  2859     1\n",
            "      0     0]\n",
            " [    0     3     5     0  9567   614     0     0     0     0    32     2\n",
            "      0     5]\n",
            " [    0     0     2     4   114  8927  1038     0     0     0   130     1\n",
            "      1     8]\n",
            " [    0     0     0     0     0     0 10178     0     0     0    60     0\n",
            "      0     1]\n",
            " [    0     0     0     1     0     0     0 10241     0     0     0     0\n",
            "      0     0]\n",
            " [    3     0     0   140     0     0     0     0 10098     0     0     0\n",
            "      0     0]\n",
            " [    0     0     0     3     0    32     0     0     0 10204     1     0\n",
            "      0     0]\n",
            " [    0     0     0     5     0    36    17     0     0     0 10179     0\n",
            "      0     0]\n",
            " [    0     0     0     1    11     0     0     0     0     0   527  1418\n",
            "     15  7471]\n",
            " [    0     0     0     0     0     0     0     0     0     0  4437    29\n",
            "   5771     0]\n",
            " [    0     0     0     3     1     1     0     0     0     0    84   287\n",
            "      7  9059]]\n"
          ]
        }
      ],
      "source": [
        "target_names = le.classes_\n",
        "#target_names = ['Bot', 'DDoS', 'DoS GoldenEye', 'DoS Hulk', 'DoS Slowhttptest', 'DoS slowloris', 'FTP-Patator', 'Heartbleed', 'Infiltration', 'PortScan', 'SSH-Patator', 'Web Attack � Brute Force', 'Web Attack � Sql Injection', 'Web Attack � XSS']\n",
        "print('==============================Classification Report==============================')\n",
        "print(classification_report(target, y_pred, target_names=target_names))\n",
        "print('==============================Confussion Matrix and metrics==============================')\n",
        "print('recall:', recall_score(target, y_pred, average='weighted'))\n",
        "print('precision:', precision_score(target, y_pred, average='weighted'))\n",
        "print('accuracy:', accuracy_score(target, y_pred))\n",
        "print('f1 score:', f1_score(target, y_pred, average='weighted'))\n",
        "print('ROC AUC:', roc_auc_score(to_categorical(target), np.nan_to_num(y_pred1), multi_class='ovr'))\n",
        "print('Confussion Matrix:', \"\\n\", confusion_matrix(target, y_pred))"
      ]
    }
  ],
  "metadata": {
    "colab": {
      "collapsed_sections": [
        "iLDYX7f3R8PM",
        "uXjE6iUiV0ZY",
        "0soqw_7WZp78",
        "sqqcYR9qjqt1",
        "GLjm452FsWCU",
        "nEbI2mUPsibk",
        "6Q_jJrdKwSZn",
        "Ox7UALTQwaC9",
        "W4WTfQkOwhMO",
        "pJ8Cp7me1dOO",
        "zqdP9FoJ7yrH",
        "gWaffcGnSXJw",
        "CFL-FZ7121i5",
        "UKErKmmX_Yqg",
        "-iErspjyIBm-",
        "hbDyAb0SL_vN",
        "4l--MD_iXs_2",
        "pPP5UM8VdNbL",
        "5GzNaMV5aBGq",
        "H_bgve_Md9G_",
        "9aMHY_FPiT7A",
        "ryynLfQOxWEw",
        "WvOQfu8Bh3Sc",
        "XNvYteblMh50",
        "RdSZw3kbh071",
        "WhCFTFSwSQiT",
        "dO9ES_jxT8T3"
      ],
      "provenance": []
    },
    "gpuClass": "standard",
    "kernelspec": {
      "display_name": "Python 3",
      "name": "python3"
    },
    "language_info": {
      "name": "python"
    }
  },
  "nbformat": 4,
  "nbformat_minor": 0
}