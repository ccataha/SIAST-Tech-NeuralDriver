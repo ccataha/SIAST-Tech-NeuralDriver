{
  "nbformat": 4,
  "nbformat_minor": 0,
  "metadata": {
    "colab": {
      "provenance": [],
      "authorship_tag": "ABX9TyMhGoh8ZMBkGVf9AQOImRZB"
    },
    "kernelspec": {
      "name": "python3",
      "display_name": "Python 3"
    },
    "language_info": {
      "name": "python"
    },
    "gpuClass": "standard"
  },
  "cells": [
    {
      "cell_type": "code",
      "execution_count": null,
      "metadata": {
        "id": "nFEo5F82ULav"
      },
      "outputs": [],
      "source": [
        "from google.colab import drive\n",
        "from tensorflow.keras.layers import *\n",
        "from tensorflow.keras.metrics import *\n",
        "from tensorflow.keras.models import Sequential, Model\n",
        "import numpy as np\n",
        "import pandas as pd\n",
        "import os\n",
        "import tensorflow.keras.backend as K\n",
        "from sklearn.metrics import *\n",
        "from tensorflow.keras.utils import to_categorical\n",
        "import tensorflow as tf\n",
        "from tensorflow.keras.layers.experimental import preprocessing\n",
        "from sklearn.preprocessing import MinMaxScaler\n",
        "import pickle\n",
        "import seaborn as sns\n",
        "from matplotlib import pyplot as plt \n",
        "from sklearn.feature_selection import SelectKBest\n",
        "from sklearn.feature_selection import f_classif\n",
        "from sklearn.model_selection import train_test_split\n",
        "from sklearn import metrics\n",
        "from sklearn.metrics import classification_report\n",
        "from tensorflow.keras.models import load_model"
      ]
    },
    {
      "cell_type": "code",
      "source": [
        "drive.mount('/content/drive')"
      ],
      "metadata": {
        "colab": {
          "base_uri": "https://localhost:8080/"
        },
        "id": "-YlE9jZeUeAW",
        "outputId": "5784579b-bf8f-4c7f-ea89-3dbadcd1c6b8"
      },
      "execution_count": null,
      "outputs": [
        {
          "output_type": "stream",
          "name": "stdout",
          "text": [
            "Mounted at /content/drive\n"
          ]
        }
      ]
    },
    {
      "cell_type": "code",
      "source": [
        "pd.set_option('display.max_columns', None)\n",
        "pd.set_option('display.max_rows', None)\n",
        "\n",
        "#Загрузка датасета по частям с дальнейшей конкатенацией. \n",
        "df=pd.read_csv(\"/content/drive/MyDrive/CICIDS2017/CSE-CIC-IDS2018/02-14-2018.csv\", usecols = ['Pkt Len Var', 'Active Min', 'Fwd IAT Std', 'Active Mean', 'Active Max', 'Fwd Seg Size Min', 'Flow IAT Std', 'Bwd IAT Mean', 'PSH Flag Cnt', 'Flow IAT Mean', 'TotLen Fwd Pkts', 'Subflow Fwd Byts', 'Bwd IAT Min', 'Active Std', 'Bwd IAT Max', 'Fwd PSH Flags', 'SYN Flag Cnt', 'Fwd IAT Mean', 'Bwd IAT Std', 'Flow IAT Min', 'Init Fwd Win Byts', 'Bwd Pkt Len Min', 'Fwd IAT Min', 'Label'])#,nrows = 50000\n",
        "df2=pd.read_csv(\"/content/drive/MyDrive/CICIDS2017/CSE-CIC-IDS2018/02-15-2018.csv\", usecols = ['Pkt Len Var', 'Active Min', 'Fwd IAT Std', 'Active Mean', 'Active Max', 'Fwd Seg Size Min', 'Flow IAT Std', 'Bwd IAT Mean', 'PSH Flag Cnt', 'Flow IAT Mean', 'TotLen Fwd Pkts', 'Subflow Fwd Byts', 'Bwd IAT Min', 'Active Std', 'Bwd IAT Max', 'Fwd PSH Flags', 'SYN Flag Cnt', 'Fwd IAT Mean', 'Bwd IAT Std', 'Flow IAT Min', 'Init Fwd Win Byts', 'Bwd Pkt Len Min', 'Fwd IAT Min', 'Label'])\n",
        "df = pd.concat([df,df2])\n",
        "del df2\n",
        "#df3=pd.read_csv(\"/content/drive/MyDrive/CICIDS2017/CSE-CIC-IDS2018/02-16-2018.csv\", usecols = ['Pkt Len Var', 'Active Min', 'Fwd IAT Std', 'Active Mean', 'Active Max', 'Fwd Seg Size Min', 'Flow IAT Std', 'Bwd IAT Mean', 'PSH Flag Cnt', 'Flow IAT Mean', 'TotLen Fwd Pkts', 'Subflow Fwd Byts', 'Bwd IAT Min', 'Active Std', 'Bwd IAT Max', 'Fwd PSH Flags', 'SYN Flag Cnt', 'Fwd IAT Mean', 'Bwd IAT Std', 'Flow IAT Min', 'Init Fwd Win Byts', 'Bwd Pkt Len Min', 'Fwd IAT Min', 'Label'])\n",
        "#df = pd.concat([df,df3])\n",
        "#del df3\n",
        "#df4=pd.read_csv(\"/content/drive/MyDrive/CICIDS2017/CSE-CIC-IDS2018/02-20-2018.csv\")\n",
        "#df= pd.concat([df,df4])\n",
        "#del df4\n",
        "df5=pd.read_csv(\"/content/drive/MyDrive/CICIDS2017/CSE-CIC-IDS2018/02-21-2018.csv\", usecols = ['Pkt Len Var', 'Active Min', 'Fwd IAT Std', 'Active Mean', 'Active Max', 'Fwd Seg Size Min', 'Flow IAT Std', 'Bwd IAT Mean', 'PSH Flag Cnt', 'Flow IAT Mean', 'TotLen Fwd Pkts', 'Subflow Fwd Byts', 'Bwd IAT Min', 'Active Std', 'Bwd IAT Max', 'Fwd PSH Flags', 'SYN Flag Cnt', 'Fwd IAT Mean', 'Bwd IAT Std', 'Flow IAT Min', 'Init Fwd Win Byts', 'Bwd Pkt Len Min', 'Fwd IAT Min', 'Label'])\n",
        "df = pd.concat([df,df5])\n",
        "del df5\n",
        "df6=pd.read_csv(\"/content/drive/MyDrive/CICIDS2017/CSE-CIC-IDS2018/02-22-2018.csv\", usecols = ['Pkt Len Var', 'Active Min', 'Fwd IAT Std', 'Active Mean', 'Active Max', 'Fwd Seg Size Min', 'Flow IAT Std', 'Bwd IAT Mean', 'PSH Flag Cnt', 'Flow IAT Mean', 'TotLen Fwd Pkts', 'Subflow Fwd Byts', 'Bwd IAT Min', 'Active Std', 'Bwd IAT Max', 'Fwd PSH Flags', 'SYN Flag Cnt', 'Fwd IAT Mean', 'Bwd IAT Std', 'Flow IAT Min', 'Init Fwd Win Byts', 'Bwd Pkt Len Min', 'Fwd IAT Min', 'Label'])\n",
        "df = pd.concat([df,df6])\n",
        "del df6\n",
        "#df7=pd.read_csv(\"/content/drive/MyDrive/CICIDS2017/CSE-CIC-IDS2018/02-23-2018.csv\", usecols = ['Pkt Len Var', 'Active Min', 'Fwd IAT Std', 'Active Mean', 'Active Max', 'Fwd Seg Size Min', 'Flow IAT Std', 'Bwd IAT Mean', 'PSH Flag Cnt', 'Flow IAT Mean', 'TotLen Fwd Pkts', 'Subflow Fwd Byts', 'Bwd IAT Min', 'Active Std', 'Bwd IAT Max', 'Fwd PSH Flags', 'SYN Flag Cnt', 'Fwd IAT Mean', 'Bwd IAT Std', 'Flow IAT Min', 'Init Fwd Win Byts', 'Bwd Pkt Len Min', 'Fwd IAT Min', 'Label'])\n",
        "#df = pd.concat([df,df7])\n",
        "#del df7\n",
        "#df8=pd.read_csv(\"/content/drive/MyDrive/CICIDS2017/CSE-CIC-IDS2018/02-28-2018.csv\", usecols = ['Pkt Len Var', 'Active Min', 'Fwd IAT Std', 'Active Mean', 'Active Max', 'Fwd Seg Size Min', 'Flow IAT Std', 'Bwd IAT Mean', 'PSH Flag Cnt', 'Flow IAT Mean', 'TotLen Fwd Pkts', 'Subflow Fwd Byts', 'Bwd IAT Min', 'Active Std', 'Bwd IAT Max', 'Fwd PSH Flags', 'SYN Flag Cnt', 'Fwd IAT Mean', 'Bwd IAT Std', 'Flow IAT Min', 'Init Fwd Win Byts', 'Bwd Pkt Len Min', 'Fwd IAT Min', 'Label'])\n",
        "#df = pd.concat([df,df8])\n",
        "#del df8\n",
        "#df9=pd.read_csv(\"/content/drive/MyDrive/CICIDS2017/CSE-CIC-IDS2018/03-01-2018.csv\", usecols = ['Pkt Len Var', 'Active Min', 'Fwd IAT Std', 'Active Mean', 'Active Max', 'Fwd Seg Size Min', 'Flow IAT Std', 'Bwd IAT Mean', 'PSH Flag Cnt', 'Flow IAT Mean', 'TotLen Fwd Pkts', 'Subflow Fwd Byts', 'Bwd IAT Min', 'Active Std', 'Bwd IAT Max', 'Fwd PSH Flags', 'SYN Flag Cnt', 'Fwd IAT Mean', 'Bwd IAT Std', 'Flow IAT Min', 'Init Fwd Win Byts', 'Bwd Pkt Len Min', 'Fwd IAT Min', 'Label'])\n",
        "#df = pd.concat([df,df9])\n",
        "#del df9\n",
        "df10=pd.read_csv(\"/content/drive/MyDrive/CICIDS2017/CSE-CIC-IDS2018/03-02-2018.csv\", usecols = ['Pkt Len Var', 'Active Min', 'Fwd IAT Std', 'Active Mean', 'Active Max', 'Fwd Seg Size Min', 'Flow IAT Std', 'Bwd IAT Mean', 'PSH Flag Cnt', 'Flow IAT Mean', 'TotLen Fwd Pkts', 'Subflow Fwd Byts', 'Bwd IAT Min', 'Active Std', 'Bwd IAT Max', 'Fwd PSH Flags', 'SYN Flag Cnt', 'Fwd IAT Mean', 'Bwd IAT Std', 'Flow IAT Min', 'Init Fwd Win Byts', 'Bwd Pkt Len Min', 'Fwd IAT Min', 'Label'])\n",
        "df = pd.concat([df,df10])\n",
        "del df10\n",
        "#df11=pd.read_csv(\"/content/drive/MyDrive/CICIDS2017/CSE-CIC-IDS2018/02-28-2018.csv\", usecols = ['Pkt Len Var', 'Active Min', 'Fwd IAT Std', 'Active Mean', 'Active Max', 'Fwd Seg Size Min', 'Flow IAT Std', 'Bwd IAT Mean', 'PSH Flag Cnt', 'Flow IAT Mean', 'TotLen Fwd Pkts', 'Subflow Fwd Byts', 'Bwd IAT Min', 'Active Std', 'Bwd IAT Max', 'Fwd PSH Flags', 'SYN Flag Cnt', 'Fwd IAT Mean', 'Bwd IAT Std', 'Flow IAT Min', 'Init Fwd Win Byts', 'Bwd Pkt Len Min', 'Fwd IAT Min', 'Label'])\n",
        "#df = pd.concat([df,df11])\n",
        "#del df11\n",
        "#df12=pd.read_csv(\"/content/drive/MyDrive/CICIDS2017/CSE-CIC-IDS2018/02-28-2018.csv\", usecols = ['Pkt Len Var', 'Active Min', 'Fwd IAT Std', 'Active Mean', 'Active Max', 'Fwd Seg Size Min', 'Flow IAT Std', 'Bwd IAT Mean', 'PSH Flag Cnt', 'Flow IAT Mean', 'TotLen Fwd Pkts', 'Subflow Fwd Byts', 'Bwd IAT Min', 'Active Std', 'Bwd IAT Max', 'Fwd PSH Flags', 'SYN Flag Cnt', 'Fwd IAT Mean', 'Bwd IAT Std', 'Flow IAT Min', 'Init Fwd Win Byts', 'Bwd Pkt Len Min', 'Fwd IAT Min', 'Label'])\n",
        "#df = pd.concat([df,df12])\n",
        "#del df12\n",
        "\n",
        "#Вывод уникальных признаков типов аттак или benign для каждого датасета. Ожидается DDoS, DoS Types и т.д.\n",
        "#print (df1[' Label'].unique())\n",
        "#print (df2[' Label'].unique())\n",
        "#print (df3[' Label'].unique())\n",
        "#print (df4[' Label'].unique())\n",
        "#print (df5[' Label'].unique())\n",
        "#print (df6[' Label'].unique())\n",
        "#print (df7[' Label'].unique())\n",
        "#print (df8[' Label'].unique())\n",
        "#print (df9[' Label'].unique())\n",
        "#print (df10[' Label'].unique())\n",
        "#print (df11[' Label'].unique())\n",
        "#print (df12[' Label'].unique(), \"\\n\")\n",
        "\n",
        "#Конкатенация и общая информация о наборе данных\n",
        "\n",
        "print (df['Label'].unique(), \"\\n\")\n",
        "\n",
        "\n",
        "\n",
        "\n",
        "\n",
        "\n",
        "\n",
        "\n",
        "data = df.copy() #Датафрейм копируем в дату для дальнейших операций\n",
        "del df\n",
        "data.info()"
      ],
      "metadata": {
        "id": "NT8ek3SgUf2a",
        "colab": {
          "base_uri": "https://localhost:8080/"
        },
        "outputId": "47a8723f-08fe-461b-8220-12a79a85ff9a"
      },
      "execution_count": null,
      "outputs": [
        {
          "output_type": "stream",
          "name": "stdout",
          "text": [
            "['Benign' 'FTP-BruteForce' 'SSH-Bruteforce' 'DoS attacks-GoldenEye'\n",
            " 'DoS attacks-Slowloris' 'DDOS attack-LOIC-UDP' 'DDOS attack-HOIC'\n",
            " 'Brute Force -Web' 'Brute Force -XSS' 'SQL Injection' 'Bot'] \n",
            "\n",
            "<class 'pandas.core.frame.DataFrame'>\n",
            "Int64Index: 5242875 entries, 0 to 1048574\n",
            "Data columns (total 24 columns):\n",
            " #   Column             Dtype  \n",
            "---  ------             -----  \n",
            " 0   TotLen Fwd Pkts    int64  \n",
            " 1   Bwd Pkt Len Min    int64  \n",
            " 2   Flow IAT Mean      float64\n",
            " 3   Flow IAT Std       float64\n",
            " 4   Flow IAT Min       float64\n",
            " 5   Fwd IAT Mean       float64\n",
            " 6   Fwd IAT Std        float64\n",
            " 7   Fwd IAT Min        float64\n",
            " 8   Bwd IAT Mean       float64\n",
            " 9   Bwd IAT Std        float64\n",
            " 10  Bwd IAT Max        float64\n",
            " 11  Bwd IAT Min        float64\n",
            " 12  Fwd PSH Flags      int64  \n",
            " 13  Pkt Len Var        float64\n",
            " 14  SYN Flag Cnt       int64  \n",
            " 15  PSH Flag Cnt       int64  \n",
            " 16  Subflow Fwd Byts   int64  \n",
            " 17  Init Fwd Win Byts  int64  \n",
            " 18  Fwd Seg Size Min   int64  \n",
            " 19  Active Mean        float64\n",
            " 20  Active Std         float64\n",
            " 21  Active Max         float64\n",
            " 22  Active Min         float64\n",
            " 23  Label              object \n",
            "dtypes: float64(15), int64(8), object(1)\n",
            "memory usage: 1000.0+ MB\n"
          ]
        }
      ]
    },
    {
      "cell_type": "code",
      "source": [
        "import gc\n",
        "gc.collect()\n",
        "df=pd.DataFrame()"
      ],
      "metadata": {
        "id": "cdKae_uI3fv7"
      },
      "execution_count": null,
      "outputs": []
    },
    {
      "cell_type": "code",
      "source": [
        "deleteCol = []\n",
        "for column in data.columns:\n",
        "    if data[column].isnull().values.any():\n",
        "        deleteCol.append(column)\n",
        "for column in deleteCol:\n",
        "    data.drop([column],axis=1,inplace=True)\n",
        "\n",
        "deleteCol = []\n",
        "for column in data.columns:\n",
        "    if column == 'Label':\n",
        "        continue\n",
        "    elif data[column].dtype==np.object:\n",
        "        deleteCol.append(column)\n",
        "for column in deleteCol:\n",
        "    data.drop(column,axis=1,inplace=True)"
      ],
      "metadata": {
        "id": "UPWepeoBgB8V",
        "colab": {
          "base_uri": "https://localhost:8080/"
        },
        "outputId": "bfd8acc2-0277-48fd-846d-5eb1634b2221"
      },
      "execution_count": null,
      "outputs": [
        {
          "output_type": "stream",
          "name": "stderr",
          "text": [
            "<ipython-input-5-36a0b25e567e>:12: DeprecationWarning: `np.object` is a deprecated alias for the builtin `object`. To silence this warning, use `object` by itself. Doing this will not modify any behavior and is safe. \n",
            "Deprecated in NumPy 1.20; for more details and guidance: https://numpy.org/devdocs/release/1.20.0-notes.html#deprecations\n",
            "  elif data[column].dtype==np.object:\n"
          ]
        }
      ]
    },
    {
      "cell_type": "code",
      "source": [
        "for column in data.columns:\n",
        "    if data[column].dtype == np.int64:\n",
        "        maxVal = data[column].max()\n",
        "        if maxVal < 120:\n",
        "            data[column] = data[column].astype(np.int8)\n",
        "        elif maxVal < 32767:\n",
        "            data[column] = data[column].astype(np.int16)\n",
        "        else:\n",
        "            data[column] = data[column].astype(np.int32)\n",
        "            \n",
        "    if data[column].dtype == np.float64:\n",
        "        maxVal = data[column].max()\n",
        "        minVal = data[data[column]>0][column]\n",
        "        if maxVal < 120 and minVal>0.01 :\n",
        "            data[column] = data[column].astype(np.float16)\n",
        "        else:\n",
        "            data[column] = data[column].astype(np.float32)"
      ],
      "metadata": {
        "id": "sQfg3KGkgJDu"
      },
      "execution_count": null,
      "outputs": []
    },
    {
      "cell_type": "code",
      "source": [
        "# Проверим количество потерянных значений в датасете\n",
        "print(f\"Missing values: {data.isnull().sum().sum()}\", \"\\n\")\n",
        "#Проверим датасет на бесконечные значения. Заменим их на NaN, так как их потом просто удалить.\n",
        "data.replace([np.inf, -np.inf], np.nan, inplace=True)\n",
        "print(f\"Missing values: {data.isnull().sum().sum()}\", \"\\n\")"
      ],
      "metadata": {
        "colab": {
          "base_uri": "https://localhost:8080/"
        },
        "id": "P1QjNN9NliLc",
        "outputId": "6be60f7f-0a1e-406d-f394-d95aaec691a3"
      },
      "execution_count": null,
      "outputs": [
        {
          "output_type": "stream",
          "name": "stdout",
          "text": [
            "Missing values: 0 \n",
            "\n",
            "Missing values: 0 \n",
            "\n"
          ]
        }
      ]
    },
    {
      "cell_type": "code",
      "source": [
        "data['Label'].unique()"
      ],
      "metadata": {
        "colab": {
          "base_uri": "https://localhost:8080/"
        },
        "id": "0TOJCLT0uKBr",
        "outputId": "7f84806d-b288-4d2b-a400-e9eeb8bc3a22"
      },
      "execution_count": null,
      "outputs": [
        {
          "output_type": "execute_result",
          "data": {
            "text/plain": [
              "array(['Benign', 'FTP-BruteForce', 'SSH-Bruteforce',\n",
              "       'DoS attacks-GoldenEye', 'DoS attacks-Slowloris',\n",
              "       'DDOS attack-LOIC-UDP', 'DDOS attack-HOIC', 'Brute Force -Web',\n",
              "       'Brute Force -XSS', 'SQL Injection', 'Bot'], dtype=object)"
            ]
          },
          "metadata": {},
          "execution_count": 8
        }
      ]
    },
    {
      "cell_type": "code",
      "source": [
        "data['Label'].value_counts()"
      ],
      "metadata": {
        "id": "KZUAvA8JoXAv",
        "colab": {
          "base_uri": "https://localhost:8080/"
        },
        "outputId": "4f7d0a5c-bd8b-4045-b19a-d3e2cc0e9aea"
      },
      "execution_count": null,
      "outputs": [
        {
          "output_type": "execute_result",
          "data": {
            "text/plain": [
              "Benign                   3835133\n",
              "DDOS attack-HOIC          686012\n",
              "Bot                       286191\n",
              "FTP-BruteForce            193360\n",
              "SSH-Bruteforce            187589\n",
              "DoS attacks-GoldenEye      41508\n",
              "DoS attacks-Slowloris      10990\n",
              "DDOS attack-LOIC-UDP        1730\n",
              "Brute Force -Web             249\n",
              "Brute Force -XSS              79\n",
              "SQL Injection                 34\n",
              "Name: Label, dtype: int64"
            ]
          },
          "metadata": {},
          "execution_count": 9
        }
      ]
    },
    {
      "cell_type": "code",
      "source": [
        "data = data[data['Label'] != 'DDOS attack-LOIC-UDP']\n",
        "data = data[data['Label'] != 'DDOS attack-HOIC']\n",
        "data = data[data['Label'] != 'SSH-Bruteforce']\n",
        "#data = data[data['Label'] != 'FTP-BruteForce']\n",
        "#data = data[data['Label'] != 'Brute Force -Web']\n",
        "#data = data[data['Label'] != 'Brute Force -XSS']"
      ],
      "metadata": {
        "id": "XUfFTSYlPBus"
      },
      "execution_count": null,
      "outputs": []
    },
    {
      "cell_type": "code",
      "source": [
        "new_order = ['Pkt Len Var', 'Active Min', 'Fwd IAT Std', 'Active Mean', 'Active Max', 'Fwd Seg Size Min', 'Flow IAT Std', 'Bwd IAT Mean', 'PSH Flag Cnt', 'Flow IAT Mean', 'TotLen Fwd Pkts', 'Subflow Fwd Byts', 'Bwd IAT Min', 'Active Std', 'Bwd IAT Max', 'Fwd PSH Flags', 'SYN Flag Cnt', 'Fwd IAT Mean', 'Bwd IAT Std', 'Flow IAT Min', 'Init Fwd Win Byts', 'Bwd Pkt Len Min', 'Fwd IAT Min', 'Label']\n",
        "data = data.reindex(columns=new_order)"
      ],
      "metadata": {
        "id": "HJr1ruFecajc"
      },
      "execution_count": null,
      "outputs": []
    },
    {
      "cell_type": "code",
      "source": [
        "data.info()"
      ],
      "metadata": {
        "colab": {
          "base_uri": "https://localhost:8080/"
        },
        "id": "bg5rfIs4k6y5",
        "outputId": "a0536125-9c79-4c50-aa28-ff4927fe1015"
      },
      "execution_count": null,
      "outputs": [
        {
          "output_type": "stream",
          "name": "stdout",
          "text": [
            "<class 'pandas.core.frame.DataFrame'>\n",
            "Int64Index: 4367544 entries, 0 to 1048574\n",
            "Data columns (total 24 columns):\n",
            " #   Column             Dtype  \n",
            "---  ------             -----  \n",
            " 0   Pkt Len Var        float32\n",
            " 1   Active Min         float32\n",
            " 2   Fwd IAT Std        float32\n",
            " 3   Active Mean        float32\n",
            " 4   Active Max         float32\n",
            " 5   Fwd Seg Size Min   int8   \n",
            " 6   Flow IAT Std       float32\n",
            " 7   Bwd IAT Mean       float32\n",
            " 8   PSH Flag Cnt       int8   \n",
            " 9   Flow IAT Mean      float32\n",
            " 10  TotLen Fwd Pkts    int32  \n",
            " 11  Subflow Fwd Byts   int32  \n",
            " 12  Bwd IAT Min        float32\n",
            " 13  Active Std         float32\n",
            " 14  Bwd IAT Max        float32\n",
            " 15  Fwd PSH Flags      int8   \n",
            " 16  SYN Flag Cnt       int8   \n",
            " 17  Fwd IAT Mean       float32\n",
            " 18  Bwd IAT Std        float32\n",
            " 19  Flow IAT Min       float32\n",
            " 20  Init Fwd Win Byts  int32  \n",
            " 21  Bwd Pkt Len Min    int16  \n",
            " 22  Fwd IAT Min        float32\n",
            " 23  Label              object \n",
            "dtypes: float32(15), int16(1), int32(3), int8(4), object(1)\n",
            "memory usage: 391.5+ MB\n"
          ]
        }
      ]
    },
    {
      "cell_type": "code",
      "source": [
        "buyback = data.copy()"
      ],
      "metadata": {
        "id": "KhAE1tZBEYvg"
      },
      "execution_count": null,
      "outputs": []
    },
    {
      "cell_type": "code",
      "source": [
        "data['Label'].value_counts()"
      ],
      "metadata": {
        "colab": {
          "base_uri": "https://localhost:8080/"
        },
        "id": "3mJfVHhFVkrr",
        "outputId": "3be83373-fa56-41e8-ddc6-b8bb54897bfc"
      },
      "execution_count": null,
      "outputs": [
        {
          "output_type": "execute_result",
          "data": {
            "text/plain": [
              "Benign                   3835133\n",
              "Bot                       286191\n",
              "FTP-BruteForce            193360\n",
              "DoS attacks-GoldenEye      41508\n",
              "DoS attacks-Slowloris      10990\n",
              "Brute Force -Web             249\n",
              "Brute Force -XSS              79\n",
              "SQL Injection                 34\n",
              "Name: Label, dtype: int64"
            ]
          },
          "metadata": {},
          "execution_count": 13
        }
      ]
    },
    {
      "cell_type": "markdown",
      "source": [
        "#Тест LSTM"
      ],
      "metadata": {
        "id": "suHlAePlgsvj"
      }
    },
    {
      "cell_type": "code",
      "source": [
        "data.replace('DoS attacks-GoldenEye', 'Attack', inplace=True)\n",
        "data.replace('DoS attacks-Slowloris', 'Attack', inplace=True)\n",
        "data.replace('Brute Force -Web', 'Attack', inplace=True)\n",
        "data.replace('Brute Force -XSS', 'Attack', inplace=True)\n",
        "data.replace('SQL Injection', 'Attack', inplace=True)\n",
        "data.replace('Bot', 'Attack', inplace=True)\n",
        "data.replace('FTP-BruteForce', 'Attack', inplace=True)"
      ],
      "metadata": {
        "id": "eD0CildTX0LY"
      },
      "execution_count": null,
      "outputs": []
    },
    {
      "cell_type": "code",
      "source": [
        "data['Label'].value_counts()"
      ],
      "metadata": {
        "colab": {
          "base_uri": "https://localhost:8080/"
        },
        "id": "6BQbSwoR3deX",
        "outputId": "efef932e-633e-42c8-e5e5-a9d37f1c8e38"
      },
      "execution_count": null,
      "outputs": [
        {
          "output_type": "execute_result",
          "data": {
            "text/plain": [
              "Benign    3835133\n",
              "Attack     532411\n",
              "Name: Label, dtype: int64"
            ]
          },
          "metadata": {},
          "execution_count": 15
        }
      ]
    },
    {
      "cell_type": "code",
      "source": [
        "y = data['Label']\n",
        "X = data.drop(['Label'], axis=1)\n",
        "#del data"
      ],
      "metadata": {
        "id": "H7j65A4L56aI"
      },
      "execution_count": null,
      "outputs": []
    },
    {
      "cell_type": "code",
      "source": [
        "y.head()"
      ],
      "metadata": {
        "colab": {
          "base_uri": "https://localhost:8080/"
        },
        "id": "ZNibhb5OPijF",
        "outputId": "c1cc50da-615a-4bac-afd6-0222d3f5a5d9"
      },
      "execution_count": null,
      "outputs": [
        {
          "output_type": "execute_result",
          "data": {
            "text/plain": [
              "0    Benign\n",
              "1    Benign\n",
              "2    Benign\n",
              "3    Benign\n",
              "4    Benign\n",
              "Name: Label, dtype: object"
            ]
          },
          "metadata": {},
          "execution_count": 23
        }
      ]
    },
    {
      "cell_type": "code",
      "source": [
        "scaler = MinMaxScaler(feature_range=(-1,1))\n",
        "scaler.fit(np.nan_to_num(X).astype(float))\n",
        "X = scaler.transform(np.nan_to_num(X).astype(float))\n",
        "print(X.shape)"
      ],
      "metadata": {
        "colab": {
          "base_uri": "https://localhost:8080/"
        },
        "id": "9c19TF9yHoGl",
        "outputId": "e62a4f98-440e-421c-9ae1-31bf4d9887b6"
      },
      "execution_count": null,
      "outputs": [
        {
          "output_type": "stream",
          "name": "stdout",
          "text": [
            "(4367544, 23)\n"
          ]
        }
      ]
    },
    {
      "cell_type": "code",
      "source": [
        "y.replace('Attack', 1, inplace=True)\n",
        "y.replace('Benign', 0, inplace=True)"
      ],
      "metadata": {
        "id": "Kl8Ckh2J6IHa"
      },
      "execution_count": null,
      "outputs": []
    },
    {
      "cell_type": "code",
      "source": [
        "lstm = pickle.load(open('/content/drive/MyDrive/CICIDS2017/2022. Подключение к СИАСТ/End/Settings test ipynbs/lstm-5-13/lstm_5hidden13neurons2.pkl', 'rb'))"
      ],
      "metadata": {
        "id": "yVmc7hb37BTn"
      },
      "execution_count": null,
      "outputs": []
    },
    {
      "cell_type": "code",
      "source": [
        "y_pred1 = lstm.predict(X, batch_size=256)"
      ],
      "metadata": {
        "colab": {
          "base_uri": "https://localhost:8080/"
        },
        "id": "EjGficxXpUzk",
        "outputId": "a68d82b3-e991-40f7-9edd-079dbc254ae6"
      },
      "execution_count": null,
      "outputs": [
        {
          "output_type": "stream",
          "name": "stdout",
          "text": [
            "17061/17061 [==============================] - 732s 43ms/step\n"
          ]
        }
      ]
    },
    {
      "cell_type": "code",
      "source": [
        "import gc\n",
        "gc.collect()"
      ],
      "metadata": {
        "id": "lCA-xs_oY1Pn",
        "colab": {
          "base_uri": "https://localhost:8080/"
        },
        "outputId": "f1abe912-27f4-4822-d361-cb085d38967c"
      },
      "execution_count": null,
      "outputs": [
        {
          "output_type": "execute_result",
          "data": {
            "text/plain": [
              "0"
            ]
          },
          "metadata": {},
          "execution_count": 26
        }
      ]
    },
    {
      "cell_type": "code",
      "source": [
        "y_pred = np.argmax(y_pred1, axis=1)"
      ],
      "metadata": {
        "id": "jFRPbpRMQcpD"
      },
      "execution_count": null,
      "outputs": []
    },
    {
      "cell_type": "code",
      "source": [
        "from sklearn import metrics\n",
        "from sklearn.metrics import classification_report\n",
        "target_names = ['Benign', 'Attack']\n",
        "print('==============================Classification Report==============================')\n",
        "print(classification_report(y, y_pred, target_names=target_names))\n",
        "print('==============================Confussion Matrix and metrics==============================')\n",
        "tn, fp, fn, tp = confusion_matrix(y, y_pred).ravel()\n",
        "sum = tn + fp + fn + tp\n",
        "print('Confussion Matrix:', \"\\n\", confusion_matrix(y, y_pred))\n",
        "print(\"Accuracy: \", accuracy_score(y, y_pred))\n",
        "recall = tp / (tp + fn)\n",
        "print('recall:', recall)\n",
        "precision = tp / (tp + fp)\n",
        "print('precision:', precision)\n",
        "print('f1 score:', 2 * (precision * recall) / (precision + recall))\n",
        "print('ROC AUC:', roc_auc_score(y, y_pred))\n",
        "unique, counts = np.unique(y_pred, return_counts=True)\n",
        "count_list = dict(zip(unique, counts))\n",
        "print('Alghorythm marked', count_list[1], 'as attack and', count_list[0], \"packets as benign\")"
      ],
      "metadata": {
        "id": "gUhqiUmypd-n",
        "colab": {
          "base_uri": "https://localhost:8080/"
        },
        "outputId": "5562e9e9-f7a9-4171-da80-d1d7b6c2b5ad"
      },
      "execution_count": null,
      "outputs": [
        {
          "output_type": "stream",
          "name": "stdout",
          "text": [
            "==============================Classification Report==============================\n",
            "              precision    recall  f1-score   support\n",
            "\n",
            "      Benign       0.96      0.91      0.93   3835133\n",
            "      Attack       0.51      0.70      0.59    532411\n",
            "\n",
            "    accuracy                           0.88   4367544\n",
            "   macro avg       0.74      0.80      0.76   4367544\n",
            "weighted avg       0.90      0.88      0.89   4367544\n",
            "\n",
            "==============================Confussion Matrix and metrics==============================\n",
            "Confussion Matrix: \n",
            " [[3482282  352851]\n",
            " [ 159372  373039]]\n",
            "Accuracy:  0.8827205862150445\n",
            "recall: 0.7006598285910697\n",
            "precision: 0.5139056881896706\n",
            "f1 score: 0.5929249042955541\n",
            "ROC AUC: 0.8043274679657725\n",
            "Alghorythm marked 725890 as attack and 3641654 packets as benign\n"
          ]
        }
      ]
    },
    {
      "cell_type": "code",
      "source": [
        "from sklearn.metrics import roc_curve, auc\n",
        "import matplotlib.pyplot as plt\n",
        "fpr, tpr, threshold = roc_curve(y, y_pred)\n",
        "roc_auc = auc(fpr, tpr)\n",
        "\n",
        "# plot ROC curve\n",
        "plt.plot(fpr, tpr, 'b', label='AUC = %0.2f' % roc_auc)\n",
        "plt.legend(loc='lower right')\n",
        "plt.plot([0, 1], [0, 1], 'r--')\n",
        "plt.xlim([-0.1, 1.0])\n",
        "plt.ylim([-0.1, 1.05])\n",
        "plt.xlabel('False Positive Rate')\n",
        "plt.ylabel('True Positive Rate')\n",
        "plt.title('Receiver Operating Characteristic (ROC) Curve')\n",
        "plt.show()"
      ],
      "metadata": {
        "colab": {
          "base_uri": "https://localhost:8080/",
          "height": 295
        },
        "id": "A3r1wyYLZ6ug",
        "outputId": "528e9507-7abf-4096-aa67-2acb78fc89bb"
      },
      "execution_count": null,
      "outputs": [
        {
          "output_type": "display_data",
          "data": {
            "text/plain": [
              "<Figure size 432x288 with 1 Axes>"
            ],
            "image/png": "[encoded data removed]"
          },
          "metadata": {
            "needs_background": "light"
          }
        }
      ]
    },
    {
      "cell_type": "markdown",
      "source": [
        "#Дообучение LSTM"
      ],
      "metadata": {
        "id": "VzCplyoSWp-n"
      }
    },
    {
      "cell_type": "code",
      "source": [
        "lstm = pickle.load(open('/content/drive/MyDrive/CICIDS2017/2022. Подключение к СИАСТ/End/Settings test ipynbs/lstm-5-13/lstm_5hidden13neurons2_plusfit.pkl', 'rb'))"
      ],
      "metadata": {
        "id": "fmKSZWMRe5IV",
        "colab": {
          "base_uri": "https://localhost:8080/"
        },
        "outputId": "399750c6-d607-451c-f088-cff19d42d8bc"
      },
      "execution_count": null,
      "outputs": [
        {
          "output_type": "stream",
          "name": "stdout",
          "text": [
            "Keras model archive loading:\n",
            "File Name                                             Modified             Size\n",
            "variables.h5                                   2023-03-19 12:27:26       184336\n",
            "config.json                                    2023-03-19 12:27:26         6050\n",
            "metadata.json                                  2023-03-19 12:27:26           64\n",
            "Keras weights file (<HDF5 file \"variables.h5\" (mode r)>) loading:\n",
            "...layers\n",
            "......dense\n",
            ".........vars\n",
            "............0\n",
            "............1\n",
            "......flatten\n",
            ".........vars\n",
            "......lstm\n",
            ".........cell\n",
            "............vars\n",
            "...............0\n",
            "...............1\n",
            "...............2\n",
            ".........vars\n",
            "......lstm_1\n",
            ".........cell\n",
            "............vars\n",
            "...............0\n",
            "...............1\n",
            "...............2\n",
            ".........vars\n",
            "......lstm_2\n",
            ".........cell\n",
            "............vars\n",
            "...............0\n",
            "...............1\n",
            "...............2\n",
            ".........vars\n",
            "......lstm_3\n",
            ".........cell\n",
            "............vars\n",
            "...............0\n",
            "...............1\n",
            "...............2\n",
            ".........vars\n",
            "......lstm_4\n",
            ".........cell\n",
            "............vars\n",
            "...............0\n",
            "...............1\n",
            "...............2\n",
            ".........vars\n",
            "......lstm_5\n",
            ".........cell\n",
            "............vars\n",
            "...............0\n",
            "...............1\n",
            "...............2\n",
            ".........vars\n",
            "...metrics\n",
            "......mean\n",
            ".........vars\n",
            "............0\n",
            "............1\n",
            "......mean_metric_wrapper\n",
            ".........vars\n",
            "............0\n",
            "............1\n",
            "...optimizer\n",
            "......vars\n",
            ".........0\n",
            ".........1\n",
            ".........10\n",
            ".........11\n",
            ".........12\n",
            ".........13\n",
            ".........14\n",
            ".........15\n",
            ".........16\n",
            ".........17\n",
            ".........18\n",
            ".........19\n",
            ".........2\n",
            ".........20\n",
            ".........21\n",
            ".........22\n",
            ".........23\n",
            ".........24\n",
            ".........25\n",
            ".........26\n",
            ".........27\n",
            ".........28\n",
            ".........29\n",
            ".........3\n",
            ".........30\n",
            ".........31\n",
            ".........32\n",
            ".........33\n",
            ".........34\n",
            ".........35\n",
            ".........36\n",
            ".........37\n",
            ".........38\n",
            ".........39\n",
            ".........4\n",
            ".........40\n",
            ".........5\n",
            ".........6\n",
            ".........7\n",
            ".........8\n",
            ".........9\n",
            "...vars\n"
          ]
        }
      ]
    },
    {
      "cell_type": "code",
      "source": [
        "X_train, X_test, y_train, y_test = train_test_split(X, y, test_size=0.5, random_state=1)\n"
      ],
      "metadata": {
        "id": "m4tbSeS_Wu72"
      },
      "execution_count": null,
      "outputs": []
    },
    {
      "cell_type": "code",
      "source": [
        "lstm.fit(X_train, to_categorical(y_train), epochs=1, batch_size=256, verbose=1)"
      ],
      "metadata": {
        "colab": {
          "base_uri": "https://localhost:8080/"
        },
        "id": "Q-a4Au3McVti",
        "outputId": "c76d4d1f-6f90-499e-d12c-5cff23d92eb2"
      },
      "execution_count": null,
      "outputs": [
        {
          "output_type": "stream",
          "name": "stdout",
          "text": [
            "8531/8531 [==============================] - 900s 104ms/step - loss: 0.1158 - accuracy: 0.9549\n"
          ]
        },
        {
          "output_type": "execute_result",
          "data": {
            "text/plain": [
              "<keras.callbacks.History at 0x7f9f508fac70>"
            ]
          },
          "metadata": {},
          "execution_count": 29
        }
      ]
    },
    {
      "cell_type": "code",
      "source": [
        "gc.collect()"
      ],
      "metadata": {
        "colab": {
          "base_uri": "https://localhost:8080/"
        },
        "id": "VzeSMkNh1hzL",
        "outputId": "788ff896-0264-4250-b26a-04f4f95e9759"
      },
      "execution_count": null,
      "outputs": [
        {
          "output_type": "execute_result",
          "data": {
            "text/plain": [
              "12856"
            ]
          },
          "metadata": {},
          "execution_count": 20
        }
      ]
    },
    {
      "cell_type": "code",
      "source": [
        "y_pred1 = lstm.predict(X_test, batch_size=256)\n",
        "y_pred = np.argmax(y_pred1, axis=1)"
      ],
      "metadata": {
        "id": "6TwMXsKgdICB",
        "colab": {
          "base_uri": "https://localhost:8080/"
        },
        "outputId": "eae9ac1a-6599-4121-ed46-4fe826f53a65"
      },
      "execution_count": null,
      "outputs": [
        {
          "output_type": "stream",
          "name": "stdout",
          "text": [
            "8531/8531 [==============================] - 330s 38ms/step\n"
          ]
        }
      ]
    },
    {
      "cell_type": "code",
      "source": [
        "from sklearn import metrics\n",
        "from sklearn.metrics import classification_report\n",
        "target_names = ['Benign', 'Attack']\n",
        "print('==============================Classification Report==============================')\n",
        "print(classification_report(y_test, y_pred, target_names=target_names))\n",
        "print('==============================Confussion Matrix and metrics==============================')\n",
        "tn, fp, fn, tp = confusion_matrix(y_test, y_pred).ravel()\n",
        "sum = tn + fp + fn + tp\n",
        "print('Confussion Matrix:', \"\\n\", confusion_matrix(y_test, y_pred))\n",
        "print(\"Accuracy: \", accuracy_score(y_test, y_pred))\n",
        "recall = tp / (tp + fn)\n",
        "print('recall:', recall)\n",
        "precision = tp / (tp + fp)\n",
        "print('precision:', precision)\n",
        "print('f1 score:', 2 * (precision * recall) / (precision + recall))\n",
        "print('ROC AUC:', roc_auc_score(y_test, y_pred))\n",
        "unique, counts = np.unique(y_pred, return_counts=True)\n",
        "count_list = dict(zip(unique, counts))\n",
        "print('Alghorythm marked', count_list[1], 'as attack and', count_list[0], \"packets as benign\")"
      ],
      "metadata": {
        "id": "ZrzPqB9ldPqW",
        "colab": {
          "base_uri": "https://localhost:8080/"
        },
        "outputId": "27b65560-97c6-4211-a000-ca1cd7c2247e"
      },
      "execution_count": null,
      "outputs": [
        {
          "output_type": "stream",
          "name": "stdout",
          "text": [
            "==============================Classification Report==============================\n",
            "              precision    recall  f1-score   support\n",
            "\n",
            "      Benign       0.96      1.00      0.98   1917483\n",
            "      Attack       0.97      0.70      0.81    266289\n",
            "\n",
            "    accuracy                           0.96   2183772\n",
            "   macro avg       0.96      0.85      0.90   2183772\n",
            "weighted avg       0.96      0.96      0.96   2183772\n",
            "\n",
            "==============================Confussion Matrix and metrics==============================\n",
            "Confussion Matrix: \n",
            " [[1910877    6606]\n",
            " [  79633  186656]]\n",
            "Accuracy:  0.9605091557177214\n",
            "recall: 0.7009527242957839\n",
            "precision: 0.965818422659395\n",
            "f1 score: 0.8123407412887798\n",
            "ROC AUC: 0.8487537914653879\n",
            "Alghorythm marked 193262 as attack and 1990510 packets as benign\n"
          ]
        }
      ]
    },
    {
      "cell_type": "code",
      "source": [
        "from sklearn.metrics import roc_curve, auc\n",
        "import matplotlib.pyplot as plt\n",
        "fpr, tpr, threshold = roc_curve(y_test, y_pred)\n",
        "roc_auc = auc(fpr, tpr)\n",
        "\n",
        "# plot ROC curve\n",
        "plt.plot(fpr, tpr, 'b', label='AUC = %0.2f' % roc_auc)\n",
        "plt.legend(loc='lower right')\n",
        "plt.plot([0, 1], [0, 1], 'r--')\n",
        "plt.xlim([-0.1, 1.0])\n",
        "plt.ylim([-0.1, 1.05])\n",
        "plt.xlabel('False Positive Rate')\n",
        "plt.ylabel('True Positive Rate')\n",
        "plt.title('Receiver Operating Characteristic (ROC) Curve')\n",
        "plt.show()"
      ],
      "metadata": {
        "id": "d4vgnshjdTsF",
        "colab": {
          "base_uri": "https://localhost:8080/",
          "height": 295
        },
        "outputId": "d9602b84-e880-4c88-8663-60c437752db9"
      },
      "execution_count": null,
      "outputs": [
        {
          "output_type": "display_data",
          "data": {
            "text/plain": [
              "<Figure size 432x288 with 1 Axes>"
            ],
            "image/png": "[encoded data removed]"
          },
          "metadata": {
            "needs_background": "light"
          }
        }
      ]
    },
    {
      "cell_type": "code",
      "source": [
        "pickle.dump(lstm, open('/content/drive/MyDrive/CICIDS2017/2022. Подключение к СИАСТ/End/Settings test ipynbs/lstm-5-13/lstm_5hidden13neurons2_plusfit.pkl', \"wb\"))"
      ],
      "metadata": {
        "id": "WlgIQpdbe9pb",
        "colab": {
          "base_uri": "https://localhost:8080/"
        },
        "outputId": "bc20cf09-7783-41c6-8510-0783f57452f4"
      },
      "execution_count": null,
      "outputs": [
        {
          "output_type": "stream",
          "name": "stdout",
          "text": [
            "Keras weights file (<HDF5 file \"variables.h5\" (mode r+)>) saving:\n",
            "...layers\n",
            "......dense\n",
            ".........vars\n",
            "............0\n",
            "............1\n",
            "......flatten\n",
            ".........vars\n",
            "......lstm\n",
            ".........cell\n",
            "............vars\n",
            "...............0\n",
            "...............1\n",
            "...............2\n",
            ".........vars\n",
            "......lstm_1\n",
            ".........cell\n",
            "............vars\n",
            "...............0\n",
            "...............1\n",
            "...............2\n",
            ".........vars\n",
            "......lstm_2\n",
            ".........cell\n",
            "............vars\n",
            "...............0\n",
            "...............1\n",
            "...............2\n",
            ".........vars\n",
            "......lstm_3\n",
            ".........cell\n",
            "............vars\n",
            "...............0\n",
            "...............1\n",
            "...............2\n",
            ".........vars\n",
            "......lstm_4\n",
            ".........cell\n",
            "............vars\n",
            "...............0\n",
            "...............1\n",
            "...............2\n",
            ".........vars\n",
            "......lstm_5\n",
            ".........cell\n",
            "............vars\n",
            "...............0\n",
            "...............1\n",
            "...............2\n",
            ".........vars\n",
            "...metrics\n",
            "......mean\n",
            ".........vars\n",
            "............0\n",
            "............1\n",
            "......mean_metric_wrapper\n",
            ".........vars\n",
            "............0\n",
            "............1\n",
            "...optimizer\n",
            "......vars\n",
            ".........0\n",
            ".........1\n",
            ".........10\n",
            ".........11\n",
            ".........12\n",
            ".........13\n",
            ".........14\n",
            ".........15\n",
            ".........16\n",
            ".........17\n",
            ".........18\n",
            ".........19\n",
            ".........2\n",
            ".........20\n",
            ".........21\n",
            ".........22\n",
            ".........23\n",
            ".........24\n",
            ".........25\n",
            ".........26\n",
            ".........27\n",
            ".........28\n",
            ".........29\n",
            ".........3\n",
            ".........30\n",
            ".........31\n",
            ".........32\n",
            ".........33\n",
            ".........34\n",
            ".........35\n",
            ".........36\n",
            ".........37\n",
            ".........38\n",
            ".........39\n",
            ".........4\n",
            ".........40\n",
            ".........5\n",
            ".........6\n",
            ".........7\n",
            ".........8\n",
            ".........9\n",
            "...vars\n",
            "Keras model archive saving:\n",
            "File Name                                             Modified             Size\n",
            "variables.h5                                   2023-03-19 12:27:27       184336\n",
            "config.json                                    2023-03-19 12:27:26         6050\n",
            "metadata.json                                  2023-03-19 12:27:26           64\n"
          ]
        }
      ]
    },
    {
      "cell_type": "markdown",
      "source": [
        "#Мультикласс"
      ],
      "metadata": {
        "id": "KJiSp-NCgiMW"
      }
    },
    {
      "cell_type": "code",
      "source": [
        "#knn = pickle.load(open('/content/drive/MyDrive/CICIDS2017/2022. Подключение к СИАСТ/End/Settings test ipynbs/KNN-BallTree-Manhattan/1KBM.pkl', 'rb'))"
      ],
      "metadata": {
        "id": "IqoCSEtpeRMu",
        "colab": {
          "base_uri": "https://localhost:8080/"
        },
        "outputId": "7e283631-4847-415d-b018-93e56dca7c4b"
      },
      "execution_count": null,
      "outputs": [
        {
          "output_type": "stream",
          "name": "stderr",
          "text": [
            "/usr/local/lib/python3.8/dist-packages/sklearn/base.py:295: UserWarning: Trying to unpickle estimator KNeighborsClassifier from version 1.0.2 when using version 1.2.1. This might lead to breaking code or invalid results. Use at your own risk. For more info please refer to:\n",
            "https://scikit-learn.org/stable/model_persistence.html#security-maintainability-limitations\n",
            "  def __setstate__(self, state):\n"
          ]
        }
      ]
    },
    {
      "cell_type": "code",
      "source": [
        "CNN = pickle.load(open('/content/drive/MyDrive/CICIDS2017/2022. Подключение к СИАСТ/End/Settings test ipynbs/CNN/2(2con1pool)1Flat2DenseDense Filters32-64 300ep.pkl', 'rb'))"
      ],
      "metadata": {
        "colab": {
          "base_uri": "https://localhost:8080/"
        },
        "id": "oHdd8vli5Tl4",
        "outputId": "e1508de7-dbb9-4026-b69d-7ab5ce948b73"
      },
      "execution_count": null,
      "outputs": [
        {
          "output_type": "stream",
          "name": "stdout",
          "text": [
            "Keras model archive loading:\n",
            "File Name                                             Modified             Size\n",
            "variables.h5                                   2023-03-08 22:33:58       524632\n",
            "config.json                                    2023-03-08 22:33:58         4138\n",
            "metadata.json                                  2023-03-08 22:33:58           64\n",
            "Keras weights file (<HDF5 file \"variables.h5\" (mode r)>) loading:\n",
            "...layers\n",
            "......conv1d\n",
            ".........vars\n",
            "............0\n",
            "............1\n",
            "......conv1d_1\n",
            ".........vars\n",
            "............0\n",
            "............1\n",
            "......conv1d_2\n",
            ".........vars\n",
            "............0\n",
            "............1\n",
            "......conv1d_3\n",
            ".........vars\n",
            "............0\n",
            "............1\n",
            "......dense\n",
            ".........vars\n",
            "............0\n",
            "............1\n",
            "......dense_1\n",
            ".........vars\n",
            "............0\n",
            "............1\n",
            "......flatten\n",
            ".........vars\n",
            "......max_pooling1d\n",
            ".........vars\n",
            "......max_pooling1d_1\n",
            ".........vars\n",
            "...metrics\n",
            "......mean\n",
            ".........vars\n",
            "............0\n",
            "............1\n",
            "......mean_metric_wrapper\n",
            ".........vars\n",
            "............0\n",
            "............1\n",
            "...optimizer\n",
            "......vars\n",
            ".........0\n",
            ".........1\n",
            ".........10\n",
            ".........11\n",
            ".........12\n",
            ".........13\n",
            ".........14\n",
            ".........15\n",
            ".........16\n",
            ".........17\n",
            ".........18\n",
            ".........19\n",
            ".........2\n",
            ".........20\n",
            ".........21\n",
            ".........22\n",
            ".........23\n",
            ".........24\n",
            ".........3\n",
            ".........4\n",
            ".........5\n",
            ".........6\n",
            ".........7\n",
            ".........8\n",
            ".........9\n",
            "...vars\n"
          ]
        }
      ]
    },
    {
      "cell_type": "code",
      "source": [
        "datam = buyback.copy()"
      ],
      "metadata": {
        "id": "JXTPzoKBEway"
      },
      "execution_count": null,
      "outputs": []
    },
    {
      "cell_type": "code",
      "source": [
        "datam = data[data.Label != \"Benign\"] "
      ],
      "metadata": {
        "id": "gB2y2WoUhs4b"
      },
      "execution_count": null,
      "outputs": []
    },
    {
      "cell_type": "code",
      "source": [
        "datam['Label'].value_counts()"
      ],
      "metadata": {
        "colab": {
          "base_uri": "https://localhost:8080/"
        },
        "id": "ACT2a4N7h1dc",
        "outputId": "762faf7b-f4b2-4802-d158-fcf3c7444e93"
      },
      "execution_count": null,
      "outputs": [
        {
          "output_type": "execute_result",
          "data": {
            "text/plain": [
              "Bot                      286191\n",
              "FTP-BruteForce           193360\n",
              "DoS attacks-GoldenEye     41508\n",
              "DoS attacks-Slowloris     10990\n",
              "Brute Force -Web            249\n",
              "Brute Force -XSS             79\n",
              "SQL Injection                34\n",
              "Name: Label, dtype: int64"
            ]
          },
          "metadata": {},
          "execution_count": 18
        }
      ]
    },
    {
      "cell_type": "code",
      "source": [
        "datam.replace('DoS attacks-GoldenEye', 2, inplace=True) \n",
        "datam.replace('DoS attacks-Slowloris', 5, inplace=True) \n",
        "datam.replace('Bot', 0, inplace=True) \n",
        "datam.replace('Brute Force -Web', 11, inplace=True) \n",
        "datam.replace('Brute Force -XSS', 13, inplace=True) \n",
        "datam.replace('SQL Injection', 12, inplace=True) \n",
        "datam.replace('FTP-BruteForce', 6, inplace=True) #(FTP-Patator)\n",
        "targetm = datam['Label']\n",
        "datam = datam.drop(\"Label\", axis=1)\n",
        "\n",
        "print(datam.head(1))"
      ],
      "metadata": {
        "colab": {
          "base_uri": "https://localhost:8080/"
        },
        "id": "NskhpzLgfBXk",
        "outputId": "a85f6e47-8bfe-452d-99a9-ba76ffc3d9fb"
      },
      "execution_count": null,
      "outputs": [
        {
          "output_type": "stream",
          "name": "stdout",
          "text": [
            "    Pkt Len Var  Active Min  Fwd IAT Std  Active Mean  Active Max  \\\n",
            "94          0.0         0.0          0.0          0.0         0.0   \n",
            "\n",
            "    Fwd Seg Size Min  Flow IAT Std  Bwd IAT Mean  PSH Flag Cnt  Flow IAT Mean  \\\n",
            "94                40           0.0           0.0             1           19.0   \n",
            "\n",
            "    TotLen Fwd Pkts  Subflow Fwd Byts  Bwd IAT Min  Active Std  Bwd IAT Max  \\\n",
            "94                0                 0          0.0         0.0          0.0   \n",
            "\n",
            "    Fwd PSH Flags  SYN Flag Cnt  Fwd IAT Mean  Bwd IAT Std  Flow IAT Min  \\\n",
            "94              0             0           0.0          0.0          19.0   \n",
            "\n",
            "    Init Fwd Win Byts  Bwd Pkt Len Min  Fwd IAT Min  \n",
            "94              26883                0          0.0  \n"
          ]
        },
        {
          "output_type": "stream",
          "name": "stderr",
          "text": [
            "<ipython-input-19-070251ccca96>:1: SettingWithCopyWarning: \n",
            "A value is trying to be set on a copy of a slice from a DataFrame\n",
            "\n",
            "See the caveats in the documentation: https://pandas.pydata.org/pandas-docs/stable/user_guide/indexing.html#returning-a-view-versus-a-copy\n",
            "  datam.replace('DoS attacks-GoldenEye', 2, inplace=True)\n",
            "<ipython-input-19-070251ccca96>:2: SettingWithCopyWarning: \n",
            "A value is trying to be set on a copy of a slice from a DataFrame\n",
            "\n",
            "See the caveats in the documentation: https://pandas.pydata.org/pandas-docs/stable/user_guide/indexing.html#returning-a-view-versus-a-copy\n",
            "  datam.replace('DoS attacks-Slowloris', 5, inplace=True)\n",
            "<ipython-input-19-070251ccca96>:3: SettingWithCopyWarning: \n",
            "A value is trying to be set on a copy of a slice from a DataFrame\n",
            "\n",
            "See the caveats in the documentation: https://pandas.pydata.org/pandas-docs/stable/user_guide/indexing.html#returning-a-view-versus-a-copy\n",
            "  datam.replace('Bot', 0, inplace=True)\n",
            "<ipython-input-19-070251ccca96>:4: SettingWithCopyWarning: \n",
            "A value is trying to be set on a copy of a slice from a DataFrame\n",
            "\n",
            "See the caveats in the documentation: https://pandas.pydata.org/pandas-docs/stable/user_guide/indexing.html#returning-a-view-versus-a-copy\n",
            "  datam.replace('Brute Force -Web', 11, inplace=True)\n",
            "<ipython-input-19-070251ccca96>:5: SettingWithCopyWarning: \n",
            "A value is trying to be set on a copy of a slice from a DataFrame\n",
            "\n",
            "See the caveats in the documentation: https://pandas.pydata.org/pandas-docs/stable/user_guide/indexing.html#returning-a-view-versus-a-copy\n",
            "  datam.replace('Brute Force -XSS', 13, inplace=True)\n",
            "<ipython-input-19-070251ccca96>:6: SettingWithCopyWarning: \n",
            "A value is trying to be set on a copy of a slice from a DataFrame\n",
            "\n",
            "See the caveats in the documentation: https://pandas.pydata.org/pandas-docs/stable/user_guide/indexing.html#returning-a-view-versus-a-copy\n",
            "  datam.replace('SQL Injection', 12, inplace=True)\n",
            "<ipython-input-19-070251ccca96>:7: SettingWithCopyWarning: \n",
            "A value is trying to be set on a copy of a slice from a DataFrame\n",
            "\n",
            "See the caveats in the documentation: https://pandas.pydata.org/pandas-docs/stable/user_guide/indexing.html#returning-a-view-versus-a-copy\n",
            "  datam.replace('FTP-BruteForce', 6, inplace=True) #(FTP-Patator)\n"
          ]
        }
      ]
    },
    {
      "cell_type": "code",
      "source": [
        "datam = np.array(datam)\n",
        "targetm = np.array(targetm)\n",
        "print(datam.shape, targetm.shape)"
      ],
      "metadata": {
        "colab": {
          "base_uri": "https://localhost:8080/"
        },
        "id": "G87eI_lHibKN",
        "outputId": "9a5bb736-281a-46fd-b1d6-206b81b5cca8"
      },
      "execution_count": null,
      "outputs": [
        {
          "output_type": "stream",
          "name": "stdout",
          "text": [
            "(532411, 23) (532411,)\n"
          ]
        }
      ]
    },
    {
      "cell_type": "code",
      "source": [
        "scaler = MinMaxScaler(feature_range=(-1,1))\n",
        "scaler.fit(np.nan_to_num(datam).astype(float))\n",
        "datam = scaler.transform(np.nan_to_num(datam).astype(float))\n",
        "print(datam.shape)\n",
        "datam = datam.reshape(datam.shape[0], datam.shape[1], 1)\n",
        "print(datam.shape)"
      ],
      "metadata": {
        "colab": {
          "base_uri": "https://localhost:8080/"
        },
        "id": "uTszWP84i3KW",
        "outputId": "ebc52199-7ee9-4097-f56e-ef69c7bfb51f"
      },
      "execution_count": null,
      "outputs": [
        {
          "output_type": "stream",
          "name": "stdout",
          "text": [
            "(532411, 23)\n",
            "(532411, 23, 1)\n"
          ]
        }
      ]
    },
    {
      "cell_type": "code",
      "source": [
        "#datam = datam.reshape(7790629,23)\n",
        "y_pred1 = CNN.predict(datam)"
      ],
      "metadata": {
        "id": "f85-7j1cjDLM",
        "colab": {
          "base_uri": "https://localhost:8080/"
        },
        "outputId": "4ad89685-7540-44d6-d3a0-804e3336d9ee"
      },
      "execution_count": null,
      "outputs": [
        {
          "output_type": "stream",
          "name": "stdout",
          "text": [
            "16638/16638 [==============================] - 51s 3ms/step\n"
          ]
        }
      ]
    },
    {
      "cell_type": "code",
      "source": [
        "y_pred = np.argmax(y_pred1, axis=1)"
      ],
      "metadata": {
        "id": "o7hmsDCye_ev"
      },
      "execution_count": null,
      "outputs": []
    },
    {
      "cell_type": "code",
      "source": [
        "def roc_auc_score_multiclass(actual_class, pred_class, average = \"macro\"):\n",
        "\n",
        "  #creating a set of all the unique classes using the actual class list\n",
        "  unique_class = set(actual_class)\n",
        "  roc_auc_dict = {}\n",
        "  for per_class in unique_class:\n",
        "    #creating a list of all the classes except the current class \n",
        "    other_class = [x for x in unique_class if x != per_class]\n",
        "\n",
        "    #marking the current class as 1 and all other classes as 0\n",
        "    new_actual_class = [0 if x in other_class else 1 for x in actual_class]\n",
        "    new_pred_class = [0 if x in other_class else 1 for x in pred_class]\n",
        "\n",
        "    #using the sklearn metrics method to calculate the roc_auc_score\n",
        "    roc_auc = roc_auc_score(new_actual_class, new_pred_class, average = average)\n",
        "    roc_auc_dict[per_class] = roc_auc\n",
        "\n",
        "    #compute average roc auc score in dict roc_auc_dict\n",
        "    res = 0\n",
        "    for val in roc_auc_dict.values():\n",
        "        res += val\n",
        "    \n",
        "    res = res / len(roc_auc_dict)\n",
        "\n",
        "  return res, roc_auc_dict"
      ],
      "metadata": {
        "id": "3mgCsqIJmzQc"
      },
      "execution_count": null,
      "outputs": []
    },
    {
      "cell_type": "code",
      "source": [
        "#target_names = []\n",
        "#target_names = ['Bot', 'DDoS', 'DoS GoldenEye', 'DoS Hulk', 'DoS Slowhttptest', 'DoS slowloris', 'FTP-Patator', 'Heartbleed', 'Infiltration', 'PortScan', 'SSH-Patator', 'Web Attack � Brute Force', 'Web Attack � Sql Injection', 'Web Attack � XSS']\n",
        "print('==============================Classification Report==============================')\n",
        "#print(classification_report(targetm, y_pred, target_names=target_names))\n",
        "print('==============================Confussion Matrix and metrics==============================')\n",
        "print('recall:', recall_score(targetm, y_pred, average='macro'))\n",
        "print('precision:', precision_score(targetm, y_pred, average='macro'))\n",
        "print('accuracy:', accuracy_score(targetm, y_pred))\n",
        "print('f1 score:', f1_score(targetm, y_pred, average='macro'))\n",
        "#print('ROC AUC for each class:',  roc_auc_score(y_test, y_pred, average = 'macro', multi_class = 'ovo'))\n",
        "print('ROC AUC AVG(Classes):', roc_auc_score_multiclass(targetm, y_pred))\n",
        "print('Confussion Matrix:', \"\\n\", confusion_matrix(targetm, y_pred))"
      ],
      "metadata": {
        "colab": {
          "base_uri": "https://localhost:8080/"
        },
        "id": "P4DJ7kUGjcMN",
        "outputId": "55770b72-e867-46a3-c879-d2d32dbab34d"
      },
      "execution_count": null,
      "outputs": [
        {
          "output_type": "stream",
          "name": "stdout",
          "text": [
            "==============================Classification Report==============================\n",
            "==============================Confussion Matrix and metrics==============================\n",
            "recall: 0.05200766283024616\n"
          ]
        },
        {
          "output_type": "stream",
          "name": "stderr",
          "text": [
            "/usr/local/lib/python3.9/dist-packages/sklearn/metrics/_classification.py:1344: UndefinedMetricWarning: Recall is ill-defined and being set to 0.0 in labels with no true samples. Use `zero_division` parameter to control this behavior.\n",
            "  _warn_prf(average, modifier, msg_start, len(result))\n",
            "/usr/local/lib/python3.9/dist-packages/sklearn/metrics/_classification.py:1344: UndefinedMetricWarning: Precision is ill-defined and being set to 0.0 in labels with no predicted samples. Use `zero_division` parameter to control this behavior.\n",
            "  _warn_prf(average, modifier, msg_start, len(result))\n"
          ]
        },
        {
          "output_type": "stream",
          "name": "stdout",
          "text": [
            "precision: 0.09510851941383598\n",
            "accuracy: 0.026930322626692538\n",
            "f1 score: 0.05097624971006736\n",
            "ROC AUC AVG(Classes): (0.5017783784283079, {0: 0.3350314736175744, 2: 0.3361956332521313, 5: 0.6168603811102542, 6: 0.7696718192838246, 11: 0.5249056063173926, 12: 0.4078034484408385, 13: 0.5219802869761395})\n",
            "Confussion Matrix: \n",
            " [[    18    214      9     36      7   4166      0      0      0     26\n",
            "  143658      6      0 138051]\n",
            " [     0      0      0      0      0      0      0      0      0      0\n",
            "       0      0      0      0]\n",
            " [   253      0   9146    943   3421   9380     12      0      4      0\n",
            "    1848   1091      0  15410]\n",
            " [     0      0      0      0      0      0      0      0      0      0\n",
            "       0      0      0      0]\n",
            " [     0      0      0      0      0      0      0      0      0      0\n",
            "       0      0      0      0]\n",
            " [    65      0      0      0   4780   5169    821      0      0     23\n",
            "     128      0      0      4]\n",
            " [     0      0      0      0      0      0      0      0      0 193360\n",
            "       0      0      0      0]\n",
            " [     0      0      0      0      0      0      0      0      0      0\n",
            "       0      0      0      0]\n",
            " [     0      0      0      0      0      0      0      0      0      0\n",
            "       0      0      0      0]\n",
            " [     0      0      0      0      0      0      0      0      0      0\n",
            "       0      0      0      0]\n",
            " [     0      0      0      0      0      0      0      0      0      0\n",
            "       0      0      0      0]\n",
            " [     0      1      0      0      0      0      0      0     68      0\n",
            "     104      3      0     73]\n",
            " [     0      1      0      0      0      0      0      3      0      0\n",
            "      12      1      0     17]\n",
            " [     0      0      0      0      0      0      0      0     37      0\n",
            "      39      1      0      2]]\n"
          ]
        }
      ]
    },
    {
      "cell_type": "code",
      "source": [
        "#?????????????????\n",
        "#y_pred = np.append(y_pred, [7])\n",
        "#targetm = np.append(targetm, [7])"
      ],
      "metadata": {
        "id": "w-cBDzdW9_Q3"
      },
      "execution_count": null,
      "outputs": []
    },
    {
      "cell_type": "code",
      "source": [
        "def roc_auc_score_multiclass2(actual_class, pred_class, average = \"macro\"):\n",
        "\n",
        "  #creating a set of all the unique classes using the actual class list\n",
        "  unique_class = set(actual_class)\n",
        "  roc_auc_dict = {}\n",
        "  for per_class in unique_class:\n",
        "    #creating a list of all the classes except the current class \n",
        "    other_class = [x for x in unique_class if x != per_class]\n",
        "\n",
        "    #marking the current class as 1 and all other classes as 0\n",
        "    new_actual_class = [0 if x in other_class else 1 for x in actual_class]\n",
        "    new_pred_class = [0 if x in other_class else 1 for x in pred_class]\n",
        "\n",
        "    #using the sklearn metrics method to calculate the roc_auc_score\n",
        "    roc_auc = roc_auc_score(new_actual_class, new_pred_class, average = average)\n",
        "    roc_auc_dict[per_class] = roc_auc\n",
        "\n",
        "    #compute average roc auc score in dict roc_auc_dict\n",
        "    res = 0\n",
        "    for val in roc_auc_dict.values():\n",
        "        res += val\n",
        "    \n",
        "    res = res / len(roc_auc_dict)\n",
        "\n",
        "  return res, roc_auc_dict\n",
        "\n",
        "#ff = roc_auc_score_multiclass(y_test, y_pred)\n",
        "#print(ff)"
      ],
      "metadata": {
        "id": "EzrACW3QboY9"
      },
      "execution_count": null,
      "outputs": []
    },
    {
      "cell_type": "code",
      "source": [
        "from sklearn import metrics\n",
        "from sklearn.metrics import classification_report\n",
        "target_names = ['Bot', 'DDoS', 'DoS GoldenEye', 'DoS Hulk', 'DoS Slowhttptest', 'DoS slowloris', 'FTP-Patator', 'Heartbleed', 'Infiltration', 'PortScan', 'SSH-Patator', 'Web Attack � Brute Force', 'Web Attack � Sql Injection', 'Web Attack � XSS']\n",
        "print('==============================Classification Report==============================')\n",
        "print(classification_report(targetm, y_pred, labels=[0, 2, 5, 11, 13, 12], target_names=target_names))\n",
        "print('==============================Confussion Matrix and metrics==============================')\n",
        "#tn, fp, fn, tp = confusion_matrix(y_test, y_pred).ravel()\n",
        "print('ROC AUC AVG(Classes):', roc_auc_score_multiclass2(targetm, y_pred))\n",
        "print('Confussion Matrix:', \"\\n\", confusion_matrix(targetm, y_pred))"
      ],
      "metadata": {
        "id": "ib7fj4rZ2KdB"
      },
      "execution_count": null,
      "outputs": []
    },
    {
      "cell_type": "code",
      "source": [
        "from sklearn import metrics\n",
        "from sklearn.metrics import classification_report\n",
        "target_names = ['Bot', 'DDoS', 'DoS GoldenEye', 'DoS Hulk', 'DoS Slowhttptest', 'DoS slowloris', 'FTP-Patator', 'Heartbleed', 'Infiltration', 'PortScan', 'SSH-Patator', 'Web Attack � Brute Force', 'Web Attack � Sql Injection', 'Web Attack � XSS']\n",
        "print('==============================Classification Report==============================')\n",
        "#print(classification_report(targetm, y_pred, labels=[0, 2, 5, 11, 13, 12], target_names=target_names))\n",
        "print(classification_report(targetm, y_pred, labels=[0, 1, 2, 3, 4, 5, 6, 7, 8, 9, 10, 11, 12, 13], target_names=target_names))\n",
        "print('==============================Confussion Matrix and metrics==============================')\n",
        "#tn, fp, fn, tp = confusion_matrix(y_test, y_pred).ravel()\n",
        "print('ROC AUC AVG(Classes):', roc_auc_score_multiclass2(targetm, y_pred))\n",
        "print('Confussion Matrix:', \"\\n\", confusion_matrix(targetm, y_pred))"
      ],
      "metadata": {
        "colab": {
          "base_uri": "https://localhost:8080/"
        },
        "id": "2qISRG2BE642",
        "outputId": "3932bdec-ca1e-4f59-b858-83129e7b629a"
      },
      "execution_count": null,
      "outputs": [
        {
          "output_type": "stream",
          "name": "stdout",
          "text": [
            "==============================Classification Report==============================\n"
          ]
        },
        {
          "output_type": "stream",
          "name": "stderr",
          "text": [
            "/usr/local/lib/python3.9/dist-packages/sklearn/metrics/_classification.py:1344: UndefinedMetricWarning: Precision and F-score are ill-defined and being set to 0.0 in labels with no predicted samples. Use `zero_division` parameter to control this behavior.\n",
            "  _warn_prf(average, modifier, msg_start, len(result))\n",
            "/usr/local/lib/python3.9/dist-packages/sklearn/metrics/_classification.py:1344: UndefinedMetricWarning: Recall and F-score are ill-defined and being set to 0.0 in labels with no true samples. Use `zero_division` parameter to control this behavior.\n",
            "  _warn_prf(average, modifier, msg_start, len(result))\n",
            "/usr/local/lib/python3.9/dist-packages/sklearn/metrics/_classification.py:1344: UndefinedMetricWarning: Precision and F-score are ill-defined and being set to 0.0 in labels with no predicted samples. Use `zero_division` parameter to control this behavior.\n",
            "  _warn_prf(average, modifier, msg_start, len(result))\n",
            "/usr/local/lib/python3.9/dist-packages/sklearn/metrics/_classification.py:1344: UndefinedMetricWarning: Recall and F-score are ill-defined and being set to 0.0 in labels with no true samples. Use `zero_division` parameter to control this behavior.\n",
            "  _warn_prf(average, modifier, msg_start, len(result))\n",
            "/usr/local/lib/python3.9/dist-packages/sklearn/metrics/_classification.py:1344: UndefinedMetricWarning: Precision and F-score are ill-defined and being set to 0.0 in labels with no predicted samples. Use `zero_division` parameter to control this behavior.\n",
            "  _warn_prf(average, modifier, msg_start, len(result))\n",
            "/usr/local/lib/python3.9/dist-packages/sklearn/metrics/_classification.py:1344: UndefinedMetricWarning: Recall and F-score are ill-defined and being set to 0.0 in labels with no true samples. Use `zero_division` parameter to control this behavior.\n",
            "  _warn_prf(average, modifier, msg_start, len(result))\n"
          ]
        },
        {
          "output_type": "stream",
          "name": "stdout",
          "text": [
            "                            precision    recall  f1-score   support\n",
            "\n",
            "                       Bot       0.05      0.00      0.00    286191\n",
            "                      DDoS       0.00      0.00      0.00         0\n",
            "             DoS GoldenEye       1.00      0.22      0.36     41508\n",
            "                  DoS Hulk       0.00      0.00      0.00         0\n",
            "          DoS Slowhttptest       0.00      0.00      0.00         0\n",
            "             DoS slowloris       0.28      0.47      0.35     10990\n",
            "               FTP-Patator       0.00      0.00      0.00    193360\n",
            "                Heartbleed       0.00      0.00      0.00         0\n",
            "              Infiltration       0.00      0.00      0.00         0\n",
            "                  PortScan       0.00      0.00      0.00         0\n",
            "               SSH-Patator       0.00      0.00      0.00         0\n",
            "  Web Attack � Brute Force       0.00      0.01      0.00       249\n",
            "Web Attack � Sql Injection       0.00      0.00      0.00        34\n",
            "          Web Attack � XSS       0.00      0.03      0.00        79\n",
            "\n",
            "                  accuracy                           0.03    532411\n",
            "                 macro avg       0.10      0.05      0.05    532411\n",
            "              weighted avg       0.11      0.03      0.04    532411\n",
            "\n",
            "==============================Confussion Matrix and metrics==============================\n",
            "ROC AUC AVG(Classes): (0.5017783784283079, {0: 0.3350314736175744, 2: 0.3361956332521313, 5: 0.6168603811102542, 6: 0.7696718192838246, 11: 0.5249056063173926, 12: 0.4078034484408385, 13: 0.5219802869761395})\n",
            "Confussion Matrix: \n",
            " [[    18    214      9     36      7   4166      0      0      0     26\n",
            "  143658      6      0 138051]\n",
            " [     0      0      0      0      0      0      0      0      0      0\n",
            "       0      0      0      0]\n",
            " [   253      0   9146    943   3421   9380     12      0      4      0\n",
            "    1848   1091      0  15410]\n",
            " [     0      0      0      0      0      0      0      0      0      0\n",
            "       0      0      0      0]\n",
            " [     0      0      0      0      0      0      0      0      0      0\n",
            "       0      0      0      0]\n",
            " [    65      0      0      0   4780   5169    821      0      0     23\n",
            "     128      0      0      4]\n",
            " [     0      0      0      0      0      0      0      0      0 193360\n",
            "       0      0      0      0]\n",
            " [     0      0      0      0      0      0      0      0      0      0\n",
            "       0      0      0      0]\n",
            " [     0      0      0      0      0      0      0      0      0      0\n",
            "       0      0      0      0]\n",
            " [     0      0      0      0      0      0      0      0      0      0\n",
            "       0      0      0      0]\n",
            " [     0      0      0      0      0      0      0      0      0      0\n",
            "       0      0      0      0]\n",
            " [     0      1      0      0      0      0      0      0     68      0\n",
            "     104      3      0     73]\n",
            " [     0      1      0      0      0      0      0      3      0      0\n",
            "      12      1      0     17]\n",
            " [     0      0      0      0      0      0      0      0     37      0\n",
            "      39      1      0      2]]\n"
          ]
        }
      ]
    },
    {
      "cell_type": "code",
      "source": [
        "from sklearn.metrics import roc_curve, auc\n",
        "import matplotlib.pyplot as plt\n",
        "\n",
        "n_classes = 14\n",
        "\n",
        "# assuming y_true and y_pred are numpy arrays of integer labels\n",
        "fpr = dict()\n",
        "tpr = dict()\n",
        "roc_auc = dict()\n",
        "\n",
        "\n",
        "for i in range(n_classes):\n",
        "    y_test_class = (targetm == i).astype(int)\n",
        "    y_pred_class = (y_pred == i).astype(int)\n",
        "    fpr[i], tpr[i], _ = roc_curve(y_test_class, y_pred_class)\n",
        "    roc_auc[i] = auc(fpr[i], tpr[i])\n",
        "\n",
        "# Plot all ROC curves\n",
        "plt.figure(figsize=(10,10))\n",
        "for i in range(n_classes):\n",
        "    plt.plot(fpr[i], tpr[i], label='ROC оценка {0} (area = {1:0.2f})'.format(target_names[i], roc_auc[i]))\n",
        "plt.plot([0, 1], [0, 1], 'k--')\n",
        "plt.xlim([0.0, 1.0])\n",
        "plt.ylim([0.0, 1.05])\n",
        "plt.xlabel('FPR')\n",
        "plt.ylabel('TPR')\n",
        "plt.title('ROC кривая для каждого класса')\n",
        "plt.legend(loc=\"lower right\")\n",
        "plt.show()"
      ],
      "metadata": {
        "colab": {
          "base_uri": "https://localhost:8080/",
          "height": 864
        },
        "id": "wuEGQdoeKMz-",
        "outputId": "f8274edc-4eea-4972-ac83-7c313fb9faba"
      },
      "execution_count": null,
      "outputs": [
        {
          "output_type": "stream",
          "name": "stderr",
          "text": [
            "/usr/local/lib/python3.9/dist-packages/sklearn/metrics/_ranking.py:1029: UndefinedMetricWarning: No positive samples in y_true, true positive value should be meaningless\n",
            "  warnings.warn(\n",
            "/usr/local/lib/python3.9/dist-packages/sklearn/metrics/_ranking.py:1029: UndefinedMetricWarning: No positive samples in y_true, true positive value should be meaningless\n",
            "  warnings.warn(\n",
            "/usr/local/lib/python3.9/dist-packages/sklearn/metrics/_ranking.py:1029: UndefinedMetricWarning: No positive samples in y_true, true positive value should be meaningless\n",
            "  warnings.warn(\n",
            "/usr/local/lib/python3.9/dist-packages/sklearn/metrics/_ranking.py:1029: UndefinedMetricWarning: No positive samples in y_true, true positive value should be meaningless\n",
            "  warnings.warn(\n",
            "/usr/local/lib/python3.9/dist-packages/sklearn/metrics/_ranking.py:1029: UndefinedMetricWarning: No positive samples in y_true, true positive value should be meaningless\n",
            "  warnings.warn(\n",
            "/usr/local/lib/python3.9/dist-packages/sklearn/metrics/_ranking.py:1029: UndefinedMetricWarning: No positive samples in y_true, true positive value should be meaningless\n",
            "  warnings.warn(\n",
            "/usr/local/lib/python3.9/dist-packages/sklearn/metrics/_ranking.py:1029: UndefinedMetricWarning: No positive samples in y_true, true positive value should be meaningless\n",
            "  warnings.warn(\n"
          ]
        },
        {
          "output_type": "display_data",
          "data": {
            "text/plain": [
              "<Figure size 720x720 with 1 Axes>"
            ],
            "image/png": "[encoded data removed]"
          },
          "metadata": {
            "needs_background": "light"
          }
        }
      ]
    },
    {
      "cell_type": "markdown",
      "source": [
        "#Дообучение CNN"
      ],
      "metadata": {
        "id": "sdvADiDeWQim"
      }
    },
    {
      "cell_type": "code",
      "source": [
        "from collections import Counter\n",
        "\n",
        "X_train, X_test, y_train, y_test = train_test_split(datam, targetm, test_size=0.5, random_state=1)\n",
        "print(Counter(y_train))\n",
        "print(Counter(y_test))"
      ],
      "metadata": {
        "id": "uiQnp-XhWPci",
        "colab": {
          "base_uri": "https://localhost:8080/"
        },
        "outputId": "815ba062-3ad0-4b8d-dce2-879ea680d34d"
      },
      "execution_count": null,
      "outputs": [
        {
          "output_type": "stream",
          "name": "stdout",
          "text": [
            "Counter({0: 143077, 6: 96724, 2: 20722, 5: 5505, 11: 120, 13: 40, 12: 17})\n",
            "Counter({0: 143114, 6: 96636, 2: 20786, 5: 5485, 11: 129, 13: 39, 12: 17})\n"
          ]
        }
      ]
    },
    {
      "cell_type": "code",
      "source": [
        "cnn_history = CNN.fit(X_train, to_categorical(y_train), epochs=4, batch_size=256, verbose=1)"
      ],
      "metadata": {
        "id": "KMM6RuJHWiSt",
        "colab": {
          "base_uri": "https://localhost:8080/"
        },
        "outputId": "63b362ee-9d88-4257-affa-8c419e1046b1"
      },
      "execution_count": null,
      "outputs": [
        {
          "output_type": "stream",
          "name": "stdout",
          "text": [
            "Epoch 1/4\n",
            "1040/1040 [==============================] - 41s 37ms/step - loss: 0.1005 - accuracy: 0.9941\n",
            "Epoch 2/4\n",
            "1040/1040 [==============================] - 31s 30ms/step - loss: 0.0052 - accuracy: 0.9994\n",
            "Epoch 3/4\n",
            "1040/1040 [==============================] - 33s 32ms/step - loss: 0.0049 - accuracy: 0.9994\n",
            "Epoch 4/4\n",
            "1040/1040 [==============================] - 27s 26ms/step - loss: 0.0051 - accuracy: 0.9994\n"
          ]
        }
      ]
    },
    {
      "cell_type": "code",
      "source": [
        "pickle.dump(CNN, open('/content/drive/MyDrive/CICIDS2017/2022. Подключение к СИАСТ/End/Settings test ipynbs/CNN/2(2con1pool)1Flat2DenseDense Filters32-64 300ep_plusfit.pkl', 'wb'))"
      ],
      "metadata": {
        "colab": {
          "base_uri": "https://localhost:8080/"
        },
        "id": "bWLRu5VH01uP",
        "outputId": "ca8f765e-0f25-4913-c739-50d0fe2f35ab"
      },
      "execution_count": null,
      "outputs": [
        {
          "output_type": "stream",
          "name": "stdout",
          "text": [
            "Keras weights file (<HDF5 file \"variables.h5\" (mode r+)>) saving:\n",
            "...layers\n",
            "......conv1d\n",
            ".........vars\n",
            "............0\n",
            "............1\n",
            "......conv1d_1\n",
            ".........vars\n",
            "............0\n",
            "............1\n",
            "......conv1d_2\n",
            ".........vars\n",
            "............0\n",
            "............1\n",
            "......conv1d_3\n",
            ".........vars\n",
            "............0\n",
            "............1\n",
            "......dense\n",
            ".........vars\n",
            "............0\n",
            "............1\n",
            "......dense_1\n",
            ".........vars\n",
            "............0\n",
            "............1\n",
            "......flatten\n",
            ".........vars\n",
            "......max_pooling1d\n",
            ".........vars\n",
            "......max_pooling1d_1\n",
            ".........vars\n",
            "...metrics\n",
            "......mean\n",
            ".........vars\n",
            "............0\n",
            "............1\n",
            "......mean_metric_wrapper\n",
            ".........vars\n",
            "............0\n",
            "............1\n",
            "...optimizer\n",
            "......vars\n",
            ".........0\n",
            ".........1\n",
            ".........10\n",
            ".........11\n",
            ".........12\n",
            ".........13\n",
            ".........14\n",
            ".........15\n",
            ".........16\n",
            ".........17\n",
            ".........18\n",
            ".........19\n",
            ".........2\n",
            ".........20\n",
            ".........21\n",
            ".........22\n",
            ".........23\n",
            ".........24\n",
            ".........3\n",
            ".........4\n",
            ".........5\n",
            ".........6\n",
            ".........7\n",
            ".........8\n",
            ".........9\n",
            "...vars\n",
            "Keras model archive saving:\n",
            "File Name                                             Modified             Size\n",
            "metadata.json                                  2023-03-20 21:03:42           64\n",
            "config.json                                    2023-03-20 21:03:42         4138\n",
            "variables.h5                                   2023-03-20 21:03:42       524632\n"
          ]
        }
      ]
    },
    {
      "cell_type": "code",
      "source": [
        "y_pred1 = CNN.predict(datam)"
      ],
      "metadata": {
        "id": "qFY6F4zNbSWn",
        "colab": {
          "base_uri": "https://localhost:8080/"
        },
        "outputId": "b8a1d297-0117-45f9-d3ea-7ac49e1f0e2b"
      },
      "execution_count": null,
      "outputs": [
        {
          "output_type": "stream",
          "name": "stdout",
          "text": [
            "16638/16638 [==============================] - 55s 3ms/step\n"
          ]
        }
      ]
    },
    {
      "cell_type": "code",
      "source": [
        "y_pred = np.argmax(y_pred1, axis=1)"
      ],
      "metadata": {
        "id": "3AOEU4ctbkaK"
      },
      "execution_count": null,
      "outputs": []
    },
    {
      "cell_type": "code",
      "source": [
        "from sklearn import metrics\n",
        "from sklearn.metrics import classification_report\n",
        "target_names = ['Bot', 'DDoS', 'DoS GoldenEye', 'DoS Hulk', 'DoS Slowhttptest', 'DoS slowloris', 'FTP-Patator', 'Heartbleed', 'Infiltration', 'PortScan', 'SSH-Patator', 'Web Attack � Brute Force', 'Web Attack � Sql Injection', 'Web Attack � XSS']\n",
        "print('==============================Classification Report==============================')\n",
        "print(classification_report(targetm, y_pred, labels=[0, 2, 5, 11, 13, 12], target_names=target_names))\n",
        "print('==============================Confussion Matrix and metrics==============================')\n",
        "#tn, fp, fn, tp = confusion_matrix(y_test, y_pred).ravel()\n",
        "print('ROC AUC AVG(Classes):', roc_auc_score_multiclass2(targetm, y_pred))\n",
        "print('Confussion Matrix:', \"\\n\", confusion_matrix(targetm, y_pred))"
      ],
      "metadata": {
        "id": "v0I0D5iNbkzq",
        "colab": {
          "base_uri": "https://localhost:8080/"
        },
        "outputId": "cee34689-dfff-4c1f-df13-f2ea37ebb3b3"
      },
      "execution_count": null,
      "outputs": [
        {
          "output_type": "stream",
          "name": "stdout",
          "text": [
            "==============================Classification Report==============================\n"
          ]
        },
        {
          "output_type": "stream",
          "name": "stderr",
          "text": [
            "/usr/local/lib/python3.9/dist-packages/sklearn/metrics/_classification.py:2326: UserWarning: labels size, 6, does not match size of target_names, 14\n",
            "  warnings.warn(\n"
          ]
        },
        {
          "output_type": "stream",
          "name": "stdout",
          "text": [
            "                            precision    recall  f1-score   support\n",
            "\n",
            "                       Bot       1.00      1.00      1.00    286191\n",
            "                      DDoS       1.00      1.00      1.00     41508\n",
            "             DoS GoldenEye       1.00      0.99      0.99     10990\n",
            "                  DoS Hulk       0.94      0.41      0.58       249\n",
            "          DoS Slowhttptest       1.00      0.47      0.64        79\n",
            "             DoS slowloris       0.32      0.59      0.41        34\n",
            "\n",
            "                 micro avg       1.00      1.00      1.00    339051\n",
            "                 macro avg       0.88      0.74      0.77    339051\n",
            "              weighted avg       1.00      1.00      1.00    339051\n",
            "\n",
            "==============================Confussion Matrix and metrics==============================\n",
            "ROC AUC AVG(Classes): (0.8897357757514575, {0: 0.9994221001470321, 2: 0.9995963750807723, 5: 0.994055805843051, 6: 1.0, 11: 0.7068216718558495, 12: 0.7940772621436225, 13: 0.7341772151898734})\n",
            "Confussion Matrix: \n",
            " [[286188      1      0      0      2      0      0]\n",
            " [     2  41475     31      0      0      0      0]\n",
            " [   125      5  10860      0      0      0      0]\n",
            " [     0      0      0 193360      0      0      0]\n",
            " [   104      0      0      0    103     42      0]\n",
            " [    12      0      0      0      2     20      0]\n",
            " [    39      0      0      0      2      1     37]]\n"
          ]
        }
      ]
    },
    {
      "cell_type": "code",
      "source": [
        "from sklearn import metrics\n",
        "from sklearn.metrics import classification_report\n",
        "target_names = ['Bot', 'DDoS', 'DoS GoldenEye', 'DoS Hulk', 'DoS Slowhttptest', 'DoS slowloris', 'FTP-Patator', 'Heartbleed', 'Infiltration', 'PortScan', 'SSH-Patator', 'Web Attack � Brute Force', 'Web Attack � Sql Injection', 'Web Attack � XSS']\n",
        "print('==============================Classification Report==============================')\n",
        "print(classification_report(targetm, y_pred, labels=[0, 1, 2, 3, 4, 5, 6, 7, 8, 9, 10, 11, 12, 13], target_names=target_names))\n",
        "print('==============================Confussion Matrix and metrics==============================')\n",
        "#tn, fp, fn, tp = confusion_matrix(y_test, y_pred).ravel()\n",
        "print('ROC AUC AVG(Classes):', roc_auc_score_multiclass2(targetm, y_pred))\n",
        "print('Confussion Matrix:', \"\\n\", confusion_matrix(targetm, y_pred))"
      ],
      "metadata": {
        "colab": {
          "base_uri": "https://localhost:8080/"
        },
        "id": "soscNb4h2Qzn",
        "outputId": "11c82543-6bca-4da9-a4c0-e7425d1b67f9"
      },
      "execution_count": null,
      "outputs": [
        {
          "output_type": "stream",
          "name": "stdout",
          "text": [
            "==============================Classification Report==============================\n"
          ]
        },
        {
          "output_type": "stream",
          "name": "stderr",
          "text": [
            "/usr/local/lib/python3.9/dist-packages/sklearn/metrics/_classification.py:1344: UndefinedMetricWarning: Precision and F-score are ill-defined and being set to 0.0 in labels with no predicted samples. Use `zero_division` parameter to control this behavior.\n",
            "  _warn_prf(average, modifier, msg_start, len(result))\n",
            "/usr/local/lib/python3.9/dist-packages/sklearn/metrics/_classification.py:1344: UndefinedMetricWarning: Recall and F-score are ill-defined and being set to 0.0 in labels with no true samples. Use `zero_division` parameter to control this behavior.\n",
            "  _warn_prf(average, modifier, msg_start, len(result))\n",
            "/usr/local/lib/python3.9/dist-packages/sklearn/metrics/_classification.py:1344: UndefinedMetricWarning: Precision and F-score are ill-defined and being set to 0.0 in labels with no predicted samples. Use `zero_division` parameter to control this behavior.\n",
            "  _warn_prf(average, modifier, msg_start, len(result))\n",
            "/usr/local/lib/python3.9/dist-packages/sklearn/metrics/_classification.py:1344: UndefinedMetricWarning: Recall and F-score are ill-defined and being set to 0.0 in labels with no true samples. Use `zero_division` parameter to control this behavior.\n",
            "  _warn_prf(average, modifier, msg_start, len(result))\n",
            "/usr/local/lib/python3.9/dist-packages/sklearn/metrics/_classification.py:1344: UndefinedMetricWarning: Precision and F-score are ill-defined and being set to 0.0 in labels with no predicted samples. Use `zero_division` parameter to control this behavior.\n",
            "  _warn_prf(average, modifier, msg_start, len(result))\n",
            "/usr/local/lib/python3.9/dist-packages/sklearn/metrics/_classification.py:1344: UndefinedMetricWarning: Recall and F-score are ill-defined and being set to 0.0 in labels with no true samples. Use `zero_division` parameter to control this behavior.\n",
            "  _warn_prf(average, modifier, msg_start, len(result))\n"
          ]
        },
        {
          "output_type": "stream",
          "name": "stdout",
          "text": [
            "                            precision    recall  f1-score   support\n",
            "\n",
            "                       Bot       1.00      1.00      1.00    286191\n",
            "                      DDoS       0.00      0.00      0.00         0\n",
            "             DoS GoldenEye       1.00      1.00      1.00     41508\n",
            "                  DoS Hulk       0.00      0.00      0.00         0\n",
            "          DoS Slowhttptest       0.00      0.00      0.00         0\n",
            "             DoS slowloris       1.00      0.99      0.99     10990\n",
            "               FTP-Patator       1.00      1.00      1.00    193360\n",
            "                Heartbleed       0.00      0.00      0.00         0\n",
            "              Infiltration       0.00      0.00      0.00         0\n",
            "                  PortScan       0.00      0.00      0.00         0\n",
            "               SSH-Patator       0.00      0.00      0.00         0\n",
            "  Web Attack � Brute Force       0.94      0.41      0.58       249\n",
            "Web Attack � Sql Injection       0.32      0.59      0.41        34\n",
            "          Web Attack � XSS       1.00      0.47      0.64        79\n",
            "\n",
            "                 micro avg       1.00      1.00      1.00    532411\n",
            "                 macro avg       0.45      0.39      0.40    532411\n",
            "              weighted avg       1.00      1.00      1.00    532411\n",
            "\n",
            "==============================Confussion Matrix and metrics==============================\n",
            "ROC AUC AVG(Classes): (0.8897357757514575, {0: 0.9994221001470321, 2: 0.9995963750807723, 5: 0.994055805843051, 6: 1.0, 11: 0.7068216718558495, 12: 0.7940772621436225, 13: 0.7341772151898734})\n",
            "Confussion Matrix: \n",
            " [[286188      1      0      0      2      0      0]\n",
            " [     2  41475     31      0      0      0      0]\n",
            " [   125      5  10860      0      0      0      0]\n",
            " [     0      0      0 193360      0      0      0]\n",
            " [   104      0      0      0    103     42      0]\n",
            " [    12      0      0      0      2     20      0]\n",
            " [    39      0      0      0      2      1     37]]\n"
          ]
        }
      ]
    },
    {
      "cell_type": "code",
      "source": [
        "from sklearn import metrics\n",
        "from sklearn.metrics import classification_report\n",
        "target_names = ['Bot', 'DDoS', 'DoS GoldenEye', 'DoS Hulk', 'DoS Slowhttptest', 'DoS slowloris', 'FTP-Patator', 'Heartbleed', 'Infiltration', 'PortScan', 'SSH-Patator', 'Web Attack � Brute Force', 'Web Attack � Sql Injection', 'Web Attack � XSS']\n",
        "print('==============================Classification Report==============================')\n",
        "print(classification_report(targetm, y_pred, labels=[0, 2, 5, 11, 13, 12], target_names=target_names))\n",
        "print('==============================Confussion Matrix and metrics==============================')\n",
        "#tn, fp, fn, tp = confusion_matrix(y_test, y_pred).ravel()\n",
        "print('ROC AUC AVG(Classes):', roc_auc_score_multiclass2(targetm, y_pred))\n",
        "print('Confussion Matrix:', \"\\n\", confusion_matrix(targetm, y_pred))"
      ],
      "metadata": {
        "id": "sO8PxPwS2FKZ"
      },
      "execution_count": null,
      "outputs": []
    },
    {
      "cell_type": "code",
      "source": [
        "from sklearn.metrics import roc_curve, auc\n",
        "import matplotlib.pyplot as plt\n",
        "\n",
        "n_classes = 14\n",
        "\n",
        "# assuming y_true and y_pred are numpy arrays of integer labels\n",
        "fpr = dict()\n",
        "tpr = dict()\n",
        "roc_auc = dict()\n",
        "\n",
        "\n",
        "for i in range(n_classes):\n",
        "    y_test_class = (targetm == i).astype(int)\n",
        "    y_pred_class = (y_pred == i).astype(int)\n",
        "    fpr[i], tpr[i], _ = roc_curve(y_test_class, y_pred_class)\n",
        "    roc_auc[i] = auc(fpr[i], tpr[i])\n",
        "\n",
        "# Plot all ROC curves\n",
        "plt.figure(figsize=(10,10))\n",
        "for i in range(n_classes):\n",
        "    plt.plot(fpr[i], tpr[i], label='ROC оценка {0} (area = {1:0.2f})'.format(target_names[i], roc_auc[i]))\n",
        "plt.plot([0, 1], [0, 1], 'k--')\n",
        "plt.xlim([0.0, 1.0])\n",
        "plt.ylim([0.0, 1.05])\n",
        "plt.xlabel('FPR')\n",
        "plt.ylabel('TPR')\n",
        "plt.title('ROC кривая для каждого класса')\n",
        "plt.legend(loc=\"lower right\")\n",
        "plt.show()"
      ],
      "metadata": {
        "id": "jwH_N_UgbtN8",
        "colab": {
          "base_uri": "https://localhost:8080/",
          "height": 864
        },
        "outputId": "31ee7ea7-a8c6-4c44-c66b-4e33b3f6fd2e"
      },
      "execution_count": null,
      "outputs": [
        {
          "output_type": "stream",
          "name": "stderr",
          "text": [
            "/usr/local/lib/python3.9/dist-packages/sklearn/metrics/_ranking.py:1029: UndefinedMetricWarning: No positive samples in y_true, true positive value should be meaningless\n",
            "  warnings.warn(\n",
            "/usr/local/lib/python3.9/dist-packages/sklearn/metrics/_ranking.py:1029: UndefinedMetricWarning: No positive samples in y_true, true positive value should be meaningless\n",
            "  warnings.warn(\n",
            "/usr/local/lib/python3.9/dist-packages/sklearn/metrics/_ranking.py:1029: UndefinedMetricWarning: No positive samples in y_true, true positive value should be meaningless\n",
            "  warnings.warn(\n",
            "/usr/local/lib/python3.9/dist-packages/sklearn/metrics/_ranking.py:1029: UndefinedMetricWarning: No positive samples in y_true, true positive value should be meaningless\n",
            "  warnings.warn(\n",
            "/usr/local/lib/python3.9/dist-packages/sklearn/metrics/_ranking.py:1029: UndefinedMetricWarning: No positive samples in y_true, true positive value should be meaningless\n",
            "  warnings.warn(\n",
            "/usr/local/lib/python3.9/dist-packages/sklearn/metrics/_ranking.py:1029: UndefinedMetricWarning: No positive samples in y_true, true positive value should be meaningless\n",
            "  warnings.warn(\n",
            "/usr/local/lib/python3.9/dist-packages/sklearn/metrics/_ranking.py:1029: UndefinedMetricWarning: No positive samples in y_true, true positive value should be meaningless\n",
            "  warnings.warn(\n"
          ]
        },
        {
          "output_type": "display_data",
          "data": {
            "text/plain": [
              "<Figure size 720x720 with 1 Axes>"
            ],
            "image/png": "[encoded data removed]"
          },
          "metadata": {
            "needs_background": "light"
          }
        }
      ]
    }
  ]
}